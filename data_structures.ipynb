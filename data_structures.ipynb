{
  "nbformat": 4,
  "nbformat_minor": 0,
  "metadata": {
    "colab": {
      "name": "data_structures",
      "provenance": [],
      "include_colab_link": true
    },
    "kernelspec": {
      "name": "python3",
      "display_name": "Python 3"
    }
  },
  "cells": [
    {
      "cell_type": "markdown",
      "metadata": {
        "id": "view-in-github",
        "colab_type": "text"
      },
      "source": [
        "<a href=\"https://colab.research.google.com/github/jo-cho/advances_in_financial_machine_learning/blob/master/data_structures.ipynb\" target=\"_parent\"><img src=\"https://colab.research.google.com/assets/colab-badge.svg\" alt=\"Open In Colab\"/></a>"
      ]
    },
    {
      "cell_type": "code",
      "metadata": {
        "id": "BrFbGlIPPScB",
        "colab_type": "code",
        "colab": {}
      },
      "source": [
        "!pip install -q mlfinlab\n",
        "from mlfinlab import data_structures, features, filters, labeling\n",
        "\n",
        "#달러 바 만들기 (close)\n",
        "raw_dollar_bars = data_structures.get_dollar_bars('/content/drive/My Drive/Colab Notebooks/csv/clean_IVE_tickbidask2.csv', threshold=1000000)\n",
        "\n",
        "dollar_bars = raw_dollar_bars.set_index(pd.to_datetime(raw_dollar_bars.date_time))\n",
        "dollar_bars = dollar_bars.drop(columns='date_time')\n",
        "dollar_bars = dollar_bars.reset_index().drop_duplicates(subset='date_time', keep='last').set_index('date_time')\n",
        "close = dollar_bars.close\n",
        "\n",
        "#Horizontal barrier (pt_sl)\n",
        "pt_sl = [1,1]\n",
        "\n",
        "#barrier target (target)\n",
        "def getDailyVol(close,span0=100):\n",
        "    # daily vol reindexed to close\n",
        "    df0=close.index.searchsorted(close.index-pd.Timedelta(days=1))\n",
        "    #bp()\n",
        "    df0=df0[df0>0]\n",
        "    #bp()\n",
        "    df0=(pd.Series(close.index[df0-1],\n",
        "                   index=close.index[close.shape[0]-df0.shape[0]:]))\n",
        "    #bp()\n",
        "    try:\n",
        "        df0=close.loc[df0.index]/close.loc[df0.values].values-1 # daily rets\n",
        "    except Exception as e:\n",
        "        print(e)\n",
        "        print('adjusting shape of close.loc[df0.index]')\n",
        "        cut = close.loc[df0.index].shape[0] - close.loc[df0.values].shape[0]\n",
        "        df0=close.loc[df0.index].iloc[:-cut]/close.loc[df0.values].values-1\n",
        "    df0=df0.ewm(span=span0).std().rename('dailyVol')\n",
        "    return df0\n",
        "\n",
        "target = getDailyVol(close)\n",
        "\n",
        "#t_events\n",
        "h = target.mean()\n",
        "t_events = filters.cusum_filter(close,h)\n",
        "\n",
        "#vertical_barrier\n",
        "vertical_barrier = labeling.add_vertical_barrier(t_events,close,num_days=1)\n",
        "\n",
        "#side 정하기\n",
        "fast_window = 3\n",
        "slow_window = 6\n",
        "close_df = (pd.DataFrame()\n",
        "            .assign(price=close)\n",
        "            .assign(fast=close.ewm(fast_window).mean())\n",
        "            .assign(slow=close.ewm(slow_window).mean()))\n",
        "def get_up_cross(df):\n",
        "    crit1 = df.fast.shift(1) < df.slow.shift(1)\n",
        "    crit2 = df.fast > df.slow\n",
        "    return df.fast[(crit1) & (crit2)]\n",
        "def get_down_cross(df):\n",
        "    crit1 = df.fast.shift(1) > df.slow.shift(1)\n",
        "    crit2 = df.fast < df.slow\n",
        "    return df.fast[(crit1) & (crit2)]\n",
        "\n",
        "up = get_up_cross(close_df)\n",
        "down = get_down_cross(close_df)\n",
        "\n",
        "side_up = pd.Series(1, index=up.index)\n",
        "side_down = pd.Series(-1, index=down.index)\n",
        "side = pd.concat([side_up,side_down]).sort_index()\n",
        "\n",
        "# Get Events\n",
        "events = labeling.get_events(close, t_events, pt_sl, target, min_ret=0.01, num_threads=1 , vertical_barrier_times=vertical_barrier, side_prediction=side )\n",
        "'''"
      ],
      "execution_count": 0,
      "outputs": []
    }
  ]
}