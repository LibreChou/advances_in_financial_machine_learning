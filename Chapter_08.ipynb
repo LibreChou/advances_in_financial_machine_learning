{
  "nbformat": 4,
  "nbformat_minor": 0,
  "metadata": {
    "colab": {
      "name": "Chapter_08",
      "provenance": [],
      "collapsed_sections": [],
      "include_colab_link": true
    },
    "kernelspec": {
      "name": "python3",
      "display_name": "Python 3"
    },
    "accelerator": "GPU"
  },
  "cells": [
    {
      "cell_type": "markdown",
      "metadata": {
        "id": "view-in-github",
        "colab_type": "text"
      },
      "source": [
        "<a href=\"https://colab.research.google.com/github/jo-cho/advances_in_financial_machine_learning/blob/master/Chapter_08.ipynb\" target=\"_parent\"><img src=\"https://colab.research.google.com/assets/colab-badge.svg\" alt=\"Open In Colab\"/></a>"
      ]
    },
    {
      "cell_type": "code",
      "metadata": {
        "id": "fx4QTqnEB40o",
        "colab_type": "code",
        "colab": {}
      },
      "source": [
        ""
      ],
      "execution_count": 0,
      "outputs": []
    },
    {
      "cell_type": "markdown",
      "metadata": {
        "id": "2jJ66vDwCCID",
        "colab_type": "text"
      },
      "source": [
        "Exercises"
      ]
    },
    {
      "cell_type": "code",
      "metadata": {
        "id": "jYDzldzQDFeF",
        "colab_type": "code",
        "colab": {}
      },
      "source": [
        "import numpy as np\n",
        "import pandas as pd\n",
        "import matplotlib.pyplot as plt\n",
        "import seaborn as sns; sns.set()"
      ],
      "execution_count": 0,
      "outputs": []
    },
    {
      "cell_type": "markdown",
      "metadata": {
        "id": "R_JmqduPCDq2",
        "colab_type": "text"
      },
      "source": [
        "# 1. Using the code presented in Section 8.6:"
      ]
    },
    {
      "cell_type": "markdown",
      "metadata": {
        "id": "ZRadM_7LCH7D",
        "colab_type": "text"
      },
      "source": [
        "## (a) Generate a dataset (X, y).\n"
      ]
    },
    {
      "cell_type": "code",
      "metadata": {
        "id": "QJ4CXiibCXaB",
        "colab_type": "code",
        "colab": {}
      },
      "source": [
        "def getTestData(n_features=40,n_informative=10,n_redundant=10,n_samples=10000):\n",
        "  # generate a random dataset for a classification problem\n",
        "  from sklearn.datasets import make_classification\n",
        "  trnsX,cont = make_classification(n_samples=n_samples,n_features=n_features,n_informative=n_informative,n_redundant=n_redundant,random_state=0,shuffle=False)\n",
        "  df0 = pd.DatetimeIndex(periods=n_samples,freq=pd.tseries.offsets.BDay(), end=pd.datetime.today())\n",
        "  trnsX,cont = pd.DataFrame(trnsX,index=df0), pd.Series(cont,index=df0).to_frame('bin')\n",
        "  df0 = ['I_'+str(i) for i in range(n_informative)]+ ['R_'+str(i) for i in range(n_redundant)]\n",
        "  df0+=['N_'+str(i) for i in range(n_features-len(df0))]\n",
        "  trnsX.columns=df0\n",
        "  cont['w']=1./cont.shape[0]\n",
        "  cont['t1']=pd.Series(cont.index,index=cont.index)\n",
        "  return trnsX,cont"
      ],
      "execution_count": 0,
      "outputs": []
    },
    {
      "cell_type": "code",
      "metadata": {
        "id": "HnjUtb1ZDNUx",
        "colab_type": "code",
        "colab": {
          "base_uri": "https://localhost:8080/",
          "height": 343
        },
        "outputId": "0986367a-c5f8-4a12-ad8b-f5b4492aeaa6"
      },
      "source": [
        "trnsX, cont = getTestData(n_features=20,n_informative=5,n_redundant=5, n_samples=10000)\n",
        "trnsX.head()"
      ],
      "execution_count": 163,
      "outputs": [
        {
          "output_type": "stream",
          "text": [
            "/usr/local/lib/python3.6/dist-packages/ipykernel_launcher.py:5: FutureWarning: Creating a DatetimeIndex by passing range endpoints is deprecated.  Use `pandas.date_range` instead.\n",
            "  \"\"\"\n"
          ],
          "name": "stderr"
        },
        {
          "output_type": "execute_result",
          "data": {
            "text/html": [
              "<div>\n",
              "<style scoped>\n",
              "    .dataframe tbody tr th:only-of-type {\n",
              "        vertical-align: middle;\n",
              "    }\n",
              "\n",
              "    .dataframe tbody tr th {\n",
              "        vertical-align: top;\n",
              "    }\n",
              "\n",
              "    .dataframe thead th {\n",
              "        text-align: right;\n",
              "    }\n",
              "</style>\n",
              "<table border=\"1\" class=\"dataframe\">\n",
              "  <thead>\n",
              "    <tr style=\"text-align: right;\">\n",
              "      <th></th>\n",
              "      <th>I_0</th>\n",
              "      <th>I_1</th>\n",
              "      <th>I_2</th>\n",
              "      <th>I_3</th>\n",
              "      <th>I_4</th>\n",
              "      <th>R_0</th>\n",
              "      <th>R_1</th>\n",
              "      <th>R_2</th>\n",
              "      <th>R_3</th>\n",
              "      <th>R_4</th>\n",
              "      <th>N_0</th>\n",
              "      <th>N_1</th>\n",
              "      <th>N_2</th>\n",
              "      <th>N_3</th>\n",
              "      <th>N_4</th>\n",
              "      <th>N_5</th>\n",
              "      <th>N_6</th>\n",
              "      <th>N_7</th>\n",
              "      <th>N_8</th>\n",
              "      <th>N_9</th>\n",
              "    </tr>\n",
              "  </thead>\n",
              "  <tbody>\n",
              "    <tr>\n",
              "      <th>1981-08-19 11:10:02.855059</th>\n",
              "      <td>2.105359</td>\n",
              "      <td>2.861661</td>\n",
              "      <td>0.104159</td>\n",
              "      <td>0.686149</td>\n",
              "      <td>1.369429</td>\n",
              "      <td>0.598433</td>\n",
              "      <td>-2.128938</td>\n",
              "      <td>-4.712652</td>\n",
              "      <td>-1.440282</td>\n",
              "      <td>1.734748</td>\n",
              "      <td>-0.951867</td>\n",
              "      <td>0.350871</td>\n",
              "      <td>1.205282</td>\n",
              "      <td>0.518828</td>\n",
              "      <td>-0.126228</td>\n",
              "      <td>0.247306</td>\n",
              "      <td>-1.100988</td>\n",
              "      <td>-1.274187</td>\n",
              "      <td>-1.646382</td>\n",
              "      <td>0.148002</td>\n",
              "    </tr>\n",
              "    <tr>\n",
              "      <th>1981-08-20 11:10:02.855059</th>\n",
              "      <td>-0.330754</td>\n",
              "      <td>1.464379</td>\n",
              "      <td>-1.405119</td>\n",
              "      <td>0.396713</td>\n",
              "      <td>-1.722305</td>\n",
              "      <td>2.457629</td>\n",
              "      <td>1.360210</td>\n",
              "      <td>0.598880</td>\n",
              "      <td>-2.769403</td>\n",
              "      <td>2.148379</td>\n",
              "      <td>0.149130</td>\n",
              "      <td>-0.344994</td>\n",
              "      <td>-0.270242</td>\n",
              "      <td>-1.335891</td>\n",
              "      <td>-2.517104</td>\n",
              "      <td>-0.320609</td>\n",
              "      <td>-2.229938</td>\n",
              "      <td>-1.727211</td>\n",
              "      <td>1.524020</td>\n",
              "      <td>-0.171415</td>\n",
              "    </tr>\n",
              "    <tr>\n",
              "      <th>1981-08-21 11:10:02.855059</th>\n",
              "      <td>-0.461334</td>\n",
              "      <td>-0.160432</td>\n",
              "      <td>-2.169501</td>\n",
              "      <td>-0.137535</td>\n",
              "      <td>0.398229</td>\n",
              "      <td>0.807388</td>\n",
              "      <td>-0.032925</td>\n",
              "      <td>1.056388</td>\n",
              "      <td>-1.110272</td>\n",
              "      <td>-0.690573</td>\n",
              "      <td>1.385891</td>\n",
              "      <td>-0.994307</td>\n",
              "      <td>-1.020541</td>\n",
              "      <td>-0.671245</td>\n",
              "      <td>-0.013901</td>\n",
              "      <td>0.489610</td>\n",
              "      <td>1.761593</td>\n",
              "      <td>-0.371046</td>\n",
              "      <td>-0.939324</td>\n",
              "      <td>1.923307</td>\n",
              "    </tr>\n",
              "    <tr>\n",
              "      <th>1981-08-24 11:10:02.855059</th>\n",
              "      <td>-1.573667</td>\n",
              "      <td>3.110105</td>\n",
              "      <td>0.073939</td>\n",
              "      <td>1.232501</td>\n",
              "      <td>1.069429</td>\n",
              "      <td>2.660115</td>\n",
              "      <td>-0.758505</td>\n",
              "      <td>-1.797288</td>\n",
              "      <td>-0.598249</td>\n",
              "      <td>0.575557</td>\n",
              "      <td>1.374754</td>\n",
              "      <td>0.257797</td>\n",
              "      <td>0.108781</td>\n",
              "      <td>1.233139</td>\n",
              "      <td>0.484138</td>\n",
              "      <td>0.376817</td>\n",
              "      <td>0.491534</td>\n",
              "      <td>1.152249</td>\n",
              "      <td>-1.200973</td>\n",
              "      <td>0.363082</td>\n",
              "    </tr>\n",
              "    <tr>\n",
              "      <th>1981-08-25 11:10:02.855059</th>\n",
              "      <td>0.528677</td>\n",
              "      <td>1.538982</td>\n",
              "      <td>-1.603758</td>\n",
              "      <td>2.056413</td>\n",
              "      <td>0.777722</td>\n",
              "      <td>1.574457</td>\n",
              "      <td>-0.717575</td>\n",
              "      <td>-2.730023</td>\n",
              "      <td>-1.430891</td>\n",
              "      <td>0.096802</td>\n",
              "      <td>0.582142</td>\n",
              "      <td>1.279587</td>\n",
              "      <td>-1.104004</td>\n",
              "      <td>-1.288717</td>\n",
              "      <td>0.263587</td>\n",
              "      <td>0.125378</td>\n",
              "      <td>-1.919282</td>\n",
              "      <td>0.146416</td>\n",
              "      <td>-0.973685</td>\n",
              "      <td>1.649327</td>\n",
              "    </tr>\n",
              "  </tbody>\n",
              "</table>\n",
              "</div>"
            ],
            "text/plain": [
              "                                 I_0       I_1  ...       N_8       N_9\n",
              "1981-08-19 11:10:02.855059  2.105359  2.861661  ... -1.646382  0.148002\n",
              "1981-08-20 11:10:02.855059 -0.330754  1.464379  ...  1.524020 -0.171415\n",
              "1981-08-21 11:10:02.855059 -0.461334 -0.160432  ... -0.939324  1.923307\n",
              "1981-08-24 11:10:02.855059 -1.573667  3.110105  ... -1.200973  0.363082\n",
              "1981-08-25 11:10:02.855059  0.528677  1.538982  ... -0.973685  1.649327\n",
              "\n",
              "[5 rows x 20 columns]"
            ]
          },
          "metadata": {
            "tags": []
          },
          "execution_count": 163
        }
      ]
    },
    {
      "cell_type": "code",
      "metadata": {
        "id": "BI_2GfjRN3mR",
        "colab_type": "code",
        "colab": {
          "base_uri": "https://localhost:8080/",
          "height": 221
        },
        "outputId": "b296b0db-2785-418f-e89b-b3d33b89fde7"
      },
      "source": [
        "y=cont.bin\n",
        "y"
      ],
      "execution_count": 164,
      "outputs": [
        {
          "output_type": "execute_result",
          "data": {
            "text/plain": [
              "1981-08-19 11:10:02.855059    0\n",
              "1981-08-20 11:10:02.855059    0\n",
              "1981-08-21 11:10:02.855059    0\n",
              "1981-08-24 11:10:02.855059    0\n",
              "1981-08-25 11:10:02.855059    0\n",
              "                             ..\n",
              "2019-12-11 11:10:02.855059    1\n",
              "2019-12-12 11:10:02.855059    1\n",
              "2019-12-13 11:10:02.855059    1\n",
              "2019-12-16 11:10:02.855059    1\n",
              "2019-12-17 11:10:02.855059    1\n",
              "Freq: B, Name: bin, Length: 10000, dtype: int64"
            ]
          },
          "metadata": {
            "tags": []
          },
          "execution_count": 164
        }
      ]
    },
    {
      "cell_type": "code",
      "metadata": {
        "id": "Z1O-EPPWTlHi",
        "colab_type": "code",
        "colab": {
          "base_uri": "https://localhost:8080/",
          "height": 68
        },
        "outputId": "0b8f9d95-0c24-4e85-8d5f-ff8faf9204d2"
      },
      "source": [
        "y.value_counts()"
      ],
      "execution_count": 165,
      "outputs": [
        {
          "output_type": "execute_result",
          "data": {
            "text/plain": [
              "1    5003\n",
              "0    4997\n",
              "Name: bin, dtype: int64"
            ]
          },
          "metadata": {
            "tags": []
          },
          "execution_count": 165
        }
      ]
    },
    {
      "cell_type": "markdown",
      "metadata": {
        "id": "ti0ULh4JCI5J",
        "colab_type": "text"
      },
      "source": [
        "## (b) Apply a PCA transformation on $X$, which we denote $\\dot{X}$."
      ]
    },
    {
      "cell_type": "code",
      "metadata": {
        "id": "TcWl3PhfG5LU",
        "colab_type": "code",
        "colab": {}
      },
      "source": [
        "from sklearn.decomposition import PCA"
      ],
      "execution_count": 0,
      "outputs": []
    },
    {
      "cell_type": "code",
      "metadata": {
        "id": "sfW5j5QDIQZU",
        "colab_type": "code",
        "colab": {}
      },
      "source": [
        "n=5\n",
        "pca = PCA(n)\n",
        "pca.fit(trnsX)\n",
        "pcaX = pca.transform(trnsX)"
      ],
      "execution_count": 0,
      "outputs": []
    },
    {
      "cell_type": "code",
      "metadata": {
        "id": "5n9OwdLzKdWl",
        "colab_type": "code",
        "colab": {
          "base_uri": "https://localhost:8080/",
          "height": 34
        },
        "outputId": "6f92dbb4-557b-4844-bc00-297d638b776c"
      },
      "source": [
        "pca.explained_variance_ratio_"
      ],
      "execution_count": 168,
      "outputs": [
        {
          "output_type": "execute_result",
          "data": {
            "text/plain": [
              "array([0.27884877, 0.22660774, 0.13345306, 0.05864858, 0.0292165 ])"
            ]
          },
          "metadata": {
            "tags": []
          },
          "execution_count": 168
        }
      ]
    },
    {
      "cell_type": "code",
      "metadata": {
        "id": "qpHwQQ-EKJr1",
        "colab_type": "code",
        "colab": {
          "base_uri": "https://localhost:8080/",
          "height": 34
        },
        "outputId": "ea9ec422-ebe4-45a5-94ff-a702bc581b87"
      },
      "source": [
        "pcaX.shape"
      ],
      "execution_count": 169,
      "outputs": [
        {
          "output_type": "execute_result",
          "data": {
            "text/plain": [
              "(10000, 5)"
            ]
          },
          "metadata": {
            "tags": []
          },
          "execution_count": 169
        }
      ]
    },
    {
      "cell_type": "code",
      "metadata": {
        "id": "7uzRudp2QoHL",
        "colab_type": "code",
        "colab": {
          "base_uri": "https://localhost:8080/",
          "height": 419
        },
        "outputId": "58afff7a-f6b0-42c7-fb92-815a29898720"
      },
      "source": [
        "X = pd.DataFrame(index=trnsX.index)\n",
        "for i in range(n):\n",
        "  a = pd.Series(data=pcaX[:,i],index=trnsX.index,name=i)\n",
        "  X = X.join(a)\n",
        "X"
      ],
      "execution_count": 170,
      "outputs": [
        {
          "output_type": "execute_result",
          "data": {
            "text/html": [
              "<div>\n",
              "<style scoped>\n",
              "    .dataframe tbody tr th:only-of-type {\n",
              "        vertical-align: middle;\n",
              "    }\n",
              "\n",
              "    .dataframe tbody tr th {\n",
              "        vertical-align: top;\n",
              "    }\n",
              "\n",
              "    .dataframe thead th {\n",
              "        text-align: right;\n",
              "    }\n",
              "</style>\n",
              "<table border=\"1\" class=\"dataframe\">\n",
              "  <thead>\n",
              "    <tr style=\"text-align: right;\">\n",
              "      <th></th>\n",
              "      <th>0</th>\n",
              "      <th>1</th>\n",
              "      <th>2</th>\n",
              "      <th>3</th>\n",
              "      <th>4</th>\n",
              "    </tr>\n",
              "  </thead>\n",
              "  <tbody>\n",
              "    <tr>\n",
              "      <th>1981-08-19 11:10:02.855059</th>\n",
              "      <td>-0.079478</td>\n",
              "      <td>6.987463</td>\n",
              "      <td>2.303134</td>\n",
              "      <td>0.284018</td>\n",
              "      <td>0.041992</td>\n",
              "    </tr>\n",
              "    <tr>\n",
              "      <th>1981-08-20 11:10:02.855059</th>\n",
              "      <td>-4.125725</td>\n",
              "      <td>0.696678</td>\n",
              "      <td>-0.653375</td>\n",
              "      <td>-0.033049</td>\n",
              "      <td>-0.512002</td>\n",
              "    </tr>\n",
              "    <tr>\n",
              "      <th>1981-08-21 11:10:02.855059</th>\n",
              "      <td>-0.143899</td>\n",
              "      <td>-0.960887</td>\n",
              "      <td>1.175653</td>\n",
              "      <td>0.844542</td>\n",
              "      <td>-1.798651</td>\n",
              "    </tr>\n",
              "    <tr>\n",
              "      <th>1981-08-24 11:10:02.855059</th>\n",
              "      <td>-1.599016</td>\n",
              "      <td>2.375769</td>\n",
              "      <td>3.393312</td>\n",
              "      <td>-1.555787</td>\n",
              "      <td>0.596834</td>\n",
              "    </tr>\n",
              "    <tr>\n",
              "      <th>1981-08-25 11:10:02.855059</th>\n",
              "      <td>-0.807683</td>\n",
              "      <td>3.098131</td>\n",
              "      <td>2.382476</td>\n",
              "      <td>1.715768</td>\n",
              "      <td>1.147588</td>\n",
              "    </tr>\n",
              "    <tr>\n",
              "      <th>...</th>\n",
              "      <td>...</td>\n",
              "      <td>...</td>\n",
              "      <td>...</td>\n",
              "      <td>...</td>\n",
              "      <td>...</td>\n",
              "    </tr>\n",
              "    <tr>\n",
              "      <th>2019-12-11 11:10:02.855059</th>\n",
              "      <td>-0.362427</td>\n",
              "      <td>-1.943164</td>\n",
              "      <td>-2.898029</td>\n",
              "      <td>2.299986</td>\n",
              "      <td>-0.269398</td>\n",
              "    </tr>\n",
              "    <tr>\n",
              "      <th>2019-12-12 11:10:02.855059</th>\n",
              "      <td>2.591074</td>\n",
              "      <td>-4.866338</td>\n",
              "      <td>0.950890</td>\n",
              "      <td>1.299394</td>\n",
              "      <td>0.321017</td>\n",
              "    </tr>\n",
              "    <tr>\n",
              "      <th>2019-12-13 11:10:02.855059</th>\n",
              "      <td>-0.735571</td>\n",
              "      <td>-4.388725</td>\n",
              "      <td>0.149137</td>\n",
              "      <td>-2.626403</td>\n",
              "      <td>-1.793254</td>\n",
              "    </tr>\n",
              "    <tr>\n",
              "      <th>2019-12-16 11:10:02.855059</th>\n",
              "      <td>-1.409797</td>\n",
              "      <td>-3.666857</td>\n",
              "      <td>-1.278288</td>\n",
              "      <td>-0.918072</td>\n",
              "      <td>0.151399</td>\n",
              "    </tr>\n",
              "    <tr>\n",
              "      <th>2019-12-17 11:10:02.855059</th>\n",
              "      <td>4.199926</td>\n",
              "      <td>-5.245134</td>\n",
              "      <td>1.050906</td>\n",
              "      <td>2.708541</td>\n",
              "      <td>0.454813</td>\n",
              "    </tr>\n",
              "  </tbody>\n",
              "</table>\n",
              "<p>10000 rows × 5 columns</p>\n",
              "</div>"
            ],
            "text/plain": [
              "                                   0         1         2         3         4\n",
              "1981-08-19 11:10:02.855059 -0.079478  6.987463  2.303134  0.284018  0.041992\n",
              "1981-08-20 11:10:02.855059 -4.125725  0.696678 -0.653375 -0.033049 -0.512002\n",
              "1981-08-21 11:10:02.855059 -0.143899 -0.960887  1.175653  0.844542 -1.798651\n",
              "1981-08-24 11:10:02.855059 -1.599016  2.375769  3.393312 -1.555787  0.596834\n",
              "1981-08-25 11:10:02.855059 -0.807683  3.098131  2.382476  1.715768  1.147588\n",
              "...                              ...       ...       ...       ...       ...\n",
              "2019-12-11 11:10:02.855059 -0.362427 -1.943164 -2.898029  2.299986 -0.269398\n",
              "2019-12-12 11:10:02.855059  2.591074 -4.866338  0.950890  1.299394  0.321017\n",
              "2019-12-13 11:10:02.855059 -0.735571 -4.388725  0.149137 -2.626403 -1.793254\n",
              "2019-12-16 11:10:02.855059 -1.409797 -3.666857 -1.278288 -0.918072  0.151399\n",
              "2019-12-17 11:10:02.855059  4.199926 -5.245134  1.050906  2.708541  0.454813\n",
              "\n",
              "[10000 rows x 5 columns]"
            ]
          },
          "metadata": {
            "tags": []
          },
          "execution_count": 170
        }
      ]
    },
    {
      "cell_type": "markdown",
      "metadata": {
        "id": "IO36xbQrCMrT",
        "colab_type": "text"
      },
      "source": [
        "## (c) Compute MDI, MDA, and SFI feature importance on$(\\dot{X}, y)$, where the base estimator is RF."
      ]
    },
    {
      "cell_type": "code",
      "metadata": {
        "id": "uFC8P7tsLM7n",
        "colab_type": "code",
        "colab": {}
      },
      "source": [
        "from sklearn.ensemble import RandomForestClassifier"
      ],
      "execution_count": 0,
      "outputs": []
    },
    {
      "cell_type": "code",
      "metadata": {
        "id": "LO53zJGpK0KC",
        "colab_type": "code",
        "colab": {}
      },
      "source": [
        "pip install -q mlfinlab"
      ],
      "execution_count": 0,
      "outputs": []
    },
    {
      "cell_type": "code",
      "metadata": {
        "id": "HMhwcVEMK229",
        "colab_type": "code",
        "colab": {}
      },
      "source": [
        "from mlfinlab import feature_importance"
      ],
      "execution_count": 0,
      "outputs": []
    },
    {
      "cell_type": "code",
      "metadata": {
        "id": "HuADvHLvLWaL",
        "colab_type": "code",
        "colab": {}
      },
      "source": [
        "clf = RandomForestClassifier(n_estimators=100,max_features=1 ,criterion='entropy',class_weight='balanced_subsample',oob_score=True)\n",
        "fit = clf.fit(X,y)"
      ],
      "execution_count": 0,
      "outputs": []
    },
    {
      "cell_type": "code",
      "metadata": {
        "id": "gy7cTDjCK6qM",
        "colab_type": "code",
        "colab": {}
      },
      "source": [
        "mdi = feature_importance.feature_importance_mean_decrease_impurity(clf=fit, feature_names = X.columns.to_list())"
      ],
      "execution_count": 0,
      "outputs": []
    },
    {
      "cell_type": "code",
      "metadata": {
        "id": "fDUQpQ4UWLd3",
        "colab_type": "code",
        "colab": {
          "base_uri": "https://localhost:8080/",
          "height": 204
        },
        "outputId": "9d93893d-0dc7-4306-9985-a9432e3c4bda"
      },
      "source": [
        "mdi.sort_values('mean', ascending=False)"
      ],
      "execution_count": 176,
      "outputs": [
        {
          "output_type": "execute_result",
          "data": {
            "text/html": [
              "<div>\n",
              "<style scoped>\n",
              "    .dataframe tbody tr th:only-of-type {\n",
              "        vertical-align: middle;\n",
              "    }\n",
              "\n",
              "    .dataframe tbody tr th {\n",
              "        vertical-align: top;\n",
              "    }\n",
              "\n",
              "    .dataframe thead th {\n",
              "        text-align: right;\n",
              "    }\n",
              "</style>\n",
              "<table border=\"1\" class=\"dataframe\">\n",
              "  <thead>\n",
              "    <tr style=\"text-align: right;\">\n",
              "      <th></th>\n",
              "      <th>mean</th>\n",
              "      <th>std</th>\n",
              "    </tr>\n",
              "  </thead>\n",
              "  <tbody>\n",
              "    <tr>\n",
              "      <th>2</th>\n",
              "      <td>0.421439</td>\n",
              "      <td>0.002705</td>\n",
              "    </tr>\n",
              "    <tr>\n",
              "      <th>0</th>\n",
              "      <td>0.207297</td>\n",
              "      <td>0.002034</td>\n",
              "    </tr>\n",
              "    <tr>\n",
              "      <th>3</th>\n",
              "      <td>0.142356</td>\n",
              "      <td>0.001886</td>\n",
              "    </tr>\n",
              "    <tr>\n",
              "      <th>1</th>\n",
              "      <td>0.116367</td>\n",
              "      <td>0.001556</td>\n",
              "    </tr>\n",
              "    <tr>\n",
              "      <th>4</th>\n",
              "      <td>0.112542</td>\n",
              "      <td>0.001182</td>\n",
              "    </tr>\n",
              "  </tbody>\n",
              "</table>\n",
              "</div>"
            ],
            "text/plain": [
              "       mean       std\n",
              "2  0.421439  0.002705\n",
              "0  0.207297  0.002034\n",
              "3  0.142356  0.001886\n",
              "1  0.116367  0.001556\n",
              "4  0.112542  0.001182"
            ]
          },
          "metadata": {
            "tags": []
          },
          "execution_count": 176
        }
      ]
    },
    {
      "cell_type": "code",
      "metadata": {
        "id": "VpiDWzdDO6mp",
        "colab_type": "code",
        "colab": {}
      },
      "source": [
        "from mlfinlab import cross_validation\n",
        "cv_gen = cross_validation.PurgedKFold(5, cont['t1'], 0.01)"
      ],
      "execution_count": 0,
      "outputs": []
    },
    {
      "cell_type": "code",
      "metadata": {
        "id": "Dwa56yFlOWEd",
        "colab_type": "code",
        "colab": {}
      },
      "source": [
        "mda =feature_importance.feature_importance_mean_decrease_accuracy(clf=clf, X=X,y=y,cv_gen=cv_gen, sample_weight=cont['w'])"
      ],
      "execution_count": 0,
      "outputs": []
    },
    {
      "cell_type": "code",
      "metadata": {
        "id": "5firmCUoXU4M",
        "colab_type": "code",
        "colab": {
          "base_uri": "https://localhost:8080/",
          "height": 204
        },
        "outputId": "f3249e92-e98b-4369-84a0-c0123da127aa"
      },
      "source": [
        "mda.sort_values('mean',ascending=False)"
      ],
      "execution_count": 182,
      "outputs": [
        {
          "output_type": "execute_result",
          "data": {
            "text/html": [
              "<div>\n",
              "<style scoped>\n",
              "    .dataframe tbody tr th:only-of-type {\n",
              "        vertical-align: middle;\n",
              "    }\n",
              "\n",
              "    .dataframe tbody tr th {\n",
              "        vertical-align: top;\n",
              "    }\n",
              "\n",
              "    .dataframe thead th {\n",
              "        text-align: right;\n",
              "    }\n",
              "</style>\n",
              "<table border=\"1\" class=\"dataframe\">\n",
              "  <thead>\n",
              "    <tr style=\"text-align: right;\">\n",
              "      <th></th>\n",
              "      <th>mean</th>\n",
              "      <th>std</th>\n",
              "    </tr>\n",
              "  </thead>\n",
              "  <tbody>\n",
              "    <tr>\n",
              "      <th>2</th>\n",
              "      <td>0.553241</td>\n",
              "      <td>0.075444</td>\n",
              "    </tr>\n",
              "    <tr>\n",
              "      <th>0</th>\n",
              "      <td>0.342088</td>\n",
              "      <td>0.080315</td>\n",
              "    </tr>\n",
              "    <tr>\n",
              "      <th>3</th>\n",
              "      <td>0.246367</td>\n",
              "      <td>0.074087</td>\n",
              "    </tr>\n",
              "    <tr>\n",
              "      <th>4</th>\n",
              "      <td>0.091245</td>\n",
              "      <td>0.023775</td>\n",
              "    </tr>\n",
              "    <tr>\n",
              "      <th>1</th>\n",
              "      <td>0.026036</td>\n",
              "      <td>0.024903</td>\n",
              "    </tr>\n",
              "  </tbody>\n",
              "</table>\n",
              "</div>"
            ],
            "text/plain": [
              "       mean       std\n",
              "2  0.553241  0.075444\n",
              "0  0.342088  0.080315\n",
              "3  0.246367  0.074087\n",
              "4  0.091245  0.023775\n",
              "1  0.026036  0.024903"
            ]
          },
          "metadata": {
            "tags": []
          },
          "execution_count": 182
        }
      ]
    },
    {
      "cell_type": "code",
      "metadata": {
        "id": "5hUzVPj-Rim7",
        "colab_type": "code",
        "colab": {}
      },
      "source": [
        "sfi = feature_importance.feature_importance_sfi(clf=clf,X=X,y=y,cv_gen=cv_gen,sample_weight=cont['w'])"
      ],
      "execution_count": 0,
      "outputs": []
    },
    {
      "cell_type": "code",
      "metadata": {
        "id": "2e1hvoiJYCXv",
        "colab_type": "code",
        "colab": {
          "base_uri": "https://localhost:8080/",
          "height": 204
        },
        "outputId": "9221c415-154e-479c-f159-c6e45736758f"
      },
      "source": [
        "sfi.sort_values('mean',ascending=False)"
      ],
      "execution_count": 184,
      "outputs": [
        {
          "output_type": "execute_result",
          "data": {
            "text/html": [
              "<div>\n",
              "<style scoped>\n",
              "    .dataframe tbody tr th:only-of-type {\n",
              "        vertical-align: middle;\n",
              "    }\n",
              "\n",
              "    .dataframe tbody tr th {\n",
              "        vertical-align: top;\n",
              "    }\n",
              "\n",
              "    .dataframe thead th {\n",
              "        text-align: right;\n",
              "    }\n",
              "</style>\n",
              "<table border=\"1\" class=\"dataframe\">\n",
              "  <thead>\n",
              "    <tr style=\"text-align: right;\">\n",
              "      <th></th>\n",
              "      <th>mean</th>\n",
              "      <th>std</th>\n",
              "    </tr>\n",
              "  </thead>\n",
              "  <tbody>\n",
              "    <tr>\n",
              "      <th>4</th>\n",
              "      <td>-3.35337</td>\n",
              "      <td>0.404321</td>\n",
              "    </tr>\n",
              "    <tr>\n",
              "      <th>2</th>\n",
              "      <td>-3.56621</td>\n",
              "      <td>1.12803</td>\n",
              "    </tr>\n",
              "    <tr>\n",
              "      <th>1</th>\n",
              "      <td>-3.86668</td>\n",
              "      <td>0.449911</td>\n",
              "    </tr>\n",
              "    <tr>\n",
              "      <th>3</th>\n",
              "      <td>-3.97325</td>\n",
              "      <td>0.728429</td>\n",
              "    </tr>\n",
              "    <tr>\n",
              "      <th>0</th>\n",
              "      <td>-4.16636</td>\n",
              "      <td>1.01013</td>\n",
              "    </tr>\n",
              "  </tbody>\n",
              "</table>\n",
              "</div>"
            ],
            "text/plain": [
              "      mean       std\n",
              "4 -3.35337  0.404321\n",
              "2 -3.56621   1.12803\n",
              "1 -3.86668  0.449911\n",
              "3 -3.97325  0.728429\n",
              "0 -4.16636   1.01013"
            ]
          },
          "metadata": {
            "tags": []
          },
          "execution_count": 184
        }
      ]
    },
    {
      "cell_type": "markdown",
      "metadata": {
        "id": "amG26_idCP9s",
        "colab_type": "text"
      },
      "source": [
        "## (d) Do the three methods agree on what features are important? Why?"
      ]
    },
    {
      "cell_type": "markdown",
      "metadata": {
        "id": "NqfZ_xQVYKbA",
        "colab_type": "text"
      },
      "source": [
        "SFI의 importance는 혼자 조금 다르다."
      ]
    },
    {
      "cell_type": "code",
      "metadata": {
        "id": "0_kn_jeLCSdb",
        "colab_type": "code",
        "colab": {
          "base_uri": "https://localhost:8080/",
          "height": 121
        },
        "outputId": "5acab79c-2943-428c-ef40-f5f8b43ba0da"
      },
      "source": [
        "feature_importance.plot_feature_importance(imp=mdi,oob_score=1,oos_score=1)"
      ],
      "execution_count": 185,
      "outputs": [
        {
          "output_type": "display_data",
          "data": {
            "image/png": "[encoded data removed]",
            "text/plain": [
              "<Figure size 720x72 with 1 Axes>"
            ]
          },
          "metadata": {
            "tags": []
          }
        }
      ]
    },
    {
      "cell_type": "code",
      "metadata": {
        "id": "wqmDMKW0Yh4x",
        "colab_type": "code",
        "colab": {
          "base_uri": "https://localhost:8080/",
          "height": 121
        },
        "outputId": "e4ffe8d9-015e-433f-9eb6-a97c8c020c74"
      },
      "source": [
        "feature_importance.plot_feature_importance(imp=mda,oob_score=1,oos_score=1)"
      ],
      "execution_count": 186,
      "outputs": [
        {
          "output_type": "display_data",
          "data": {
            "image/png": "[encoded data removed]",
            "text/plain": [
              "<Figure size 720x72 with 1 Axes>"
            ]
          },
          "metadata": {
            "tags": []
          }
        }
      ]
    },
    {
      "cell_type": "code",
      "metadata": {
        "id": "vtL9SjAldi1Z",
        "colab_type": "code",
        "colab": {
          "base_uri": "https://localhost:8080/",
          "height": 121
        },
        "outputId": "427859f5-cd72-457b-f0e4-3b7679aa2eba"
      },
      "source": [
        "feature_importance.plot_feature_importance(imp=sfi,oob_score=1,oos_score=1)"
      ],
      "execution_count": 187,
      "outputs": [
        {
          "output_type": "display_data",
          "data": {
            "image/png": "[encoded data removed]",
            "text/plain": [
              "<Figure size 720x72 with 1 Axes>"
            ]
          },
          "metadata": {
            "tags": []
          }
        }
      ]
    },
    {
      "cell_type": "markdown",
      "metadata": {
        "id": "EnOXMUbejMhs",
        "colab_type": "text"
      },
      "source": [
        "# 2. From exercise 1, generate a new dataset ($\\ddot{X} , y)$, where $\\ddot{X}$ is a feature union of $X$ and ̇$\\dot{X}$"
      ]
    },
    {
      "cell_type": "code",
      "metadata": {
        "id": "KJXGSeD6k72N",
        "colab_type": "code",
        "colab": {
          "base_uri": "https://localhost:8080/",
          "height": 309
        },
        "outputId": "643fd9a0-f814-4382-ad98-4b7680c8233a"
      },
      "source": [
        "X2 = trnsX.join(X)\n",
        "X2.head()"
      ],
      "execution_count": 191,
      "outputs": [
        {
          "output_type": "execute_result",
          "data": {
            "text/html": [
              "<div>\n",
              "<style scoped>\n",
              "    .dataframe tbody tr th:only-of-type {\n",
              "        vertical-align: middle;\n",
              "    }\n",
              "\n",
              "    .dataframe tbody tr th {\n",
              "        vertical-align: top;\n",
              "    }\n",
              "\n",
              "    .dataframe thead th {\n",
              "        text-align: right;\n",
              "    }\n",
              "</style>\n",
              "<table border=\"1\" class=\"dataframe\">\n",
              "  <thead>\n",
              "    <tr style=\"text-align: right;\">\n",
              "      <th></th>\n",
              "      <th>I_0</th>\n",
              "      <th>I_1</th>\n",
              "      <th>I_2</th>\n",
              "      <th>I_3</th>\n",
              "      <th>I_4</th>\n",
              "      <th>R_0</th>\n",
              "      <th>R_1</th>\n",
              "      <th>R_2</th>\n",
              "      <th>R_3</th>\n",
              "      <th>R_4</th>\n",
              "      <th>N_0</th>\n",
              "      <th>N_1</th>\n",
              "      <th>N_2</th>\n",
              "      <th>N_3</th>\n",
              "      <th>N_4</th>\n",
              "      <th>N_5</th>\n",
              "      <th>N_6</th>\n",
              "      <th>N_7</th>\n",
              "      <th>N_8</th>\n",
              "      <th>N_9</th>\n",
              "      <th>0</th>\n",
              "      <th>1</th>\n",
              "      <th>2</th>\n",
              "      <th>3</th>\n",
              "      <th>4</th>\n",
              "    </tr>\n",
              "  </thead>\n",
              "  <tbody>\n",
              "    <tr>\n",
              "      <th>1981-08-19 11:10:02.855059</th>\n",
              "      <td>2.105359</td>\n",
              "      <td>2.861661</td>\n",
              "      <td>0.104159</td>\n",
              "      <td>0.686149</td>\n",
              "      <td>1.369429</td>\n",
              "      <td>0.598433</td>\n",
              "      <td>-2.128938</td>\n",
              "      <td>-4.712652</td>\n",
              "      <td>-1.440282</td>\n",
              "      <td>1.734748</td>\n",
              "      <td>-0.951867</td>\n",
              "      <td>0.350871</td>\n",
              "      <td>1.205282</td>\n",
              "      <td>0.518828</td>\n",
              "      <td>-0.126228</td>\n",
              "      <td>0.247306</td>\n",
              "      <td>-1.100988</td>\n",
              "      <td>-1.274187</td>\n",
              "      <td>-1.646382</td>\n",
              "      <td>0.148002</td>\n",
              "      <td>-0.079478</td>\n",
              "      <td>6.987463</td>\n",
              "      <td>2.303134</td>\n",
              "      <td>0.284018</td>\n",
              "      <td>0.041992</td>\n",
              "    </tr>\n",
              "    <tr>\n",
              "      <th>1981-08-20 11:10:02.855059</th>\n",
              "      <td>-0.330754</td>\n",
              "      <td>1.464379</td>\n",
              "      <td>-1.405119</td>\n",
              "      <td>0.396713</td>\n",
              "      <td>-1.722305</td>\n",
              "      <td>2.457629</td>\n",
              "      <td>1.360210</td>\n",
              "      <td>0.598880</td>\n",
              "      <td>-2.769403</td>\n",
              "      <td>2.148379</td>\n",
              "      <td>0.149130</td>\n",
              "      <td>-0.344994</td>\n",
              "      <td>-0.270242</td>\n",
              "      <td>-1.335891</td>\n",
              "      <td>-2.517104</td>\n",
              "      <td>-0.320609</td>\n",
              "      <td>-2.229938</td>\n",
              "      <td>-1.727211</td>\n",
              "      <td>1.524020</td>\n",
              "      <td>-0.171415</td>\n",
              "      <td>-4.125725</td>\n",
              "      <td>0.696678</td>\n",
              "      <td>-0.653375</td>\n",
              "      <td>-0.033049</td>\n",
              "      <td>-0.512002</td>\n",
              "    </tr>\n",
              "    <tr>\n",
              "      <th>1981-08-21 11:10:02.855059</th>\n",
              "      <td>-0.461334</td>\n",
              "      <td>-0.160432</td>\n",
              "      <td>-2.169501</td>\n",
              "      <td>-0.137535</td>\n",
              "      <td>0.398229</td>\n",
              "      <td>0.807388</td>\n",
              "      <td>-0.032925</td>\n",
              "      <td>1.056388</td>\n",
              "      <td>-1.110272</td>\n",
              "      <td>-0.690573</td>\n",
              "      <td>1.385891</td>\n",
              "      <td>-0.994307</td>\n",
              "      <td>-1.020541</td>\n",
              "      <td>-0.671245</td>\n",
              "      <td>-0.013901</td>\n",
              "      <td>0.489610</td>\n",
              "      <td>1.761593</td>\n",
              "      <td>-0.371046</td>\n",
              "      <td>-0.939324</td>\n",
              "      <td>1.923307</td>\n",
              "      <td>-0.143899</td>\n",
              "      <td>-0.960887</td>\n",
              "      <td>1.175653</td>\n",
              "      <td>0.844542</td>\n",
              "      <td>-1.798651</td>\n",
              "    </tr>\n",
              "    <tr>\n",
              "      <th>1981-08-24 11:10:02.855059</th>\n",
              "      <td>-1.573667</td>\n",
              "      <td>3.110105</td>\n",
              "      <td>0.073939</td>\n",
              "      <td>1.232501</td>\n",
              "      <td>1.069429</td>\n",
              "      <td>2.660115</td>\n",
              "      <td>-0.758505</td>\n",
              "      <td>-1.797288</td>\n",
              "      <td>-0.598249</td>\n",
              "      <td>0.575557</td>\n",
              "      <td>1.374754</td>\n",
              "      <td>0.257797</td>\n",
              "      <td>0.108781</td>\n",
              "      <td>1.233139</td>\n",
              "      <td>0.484138</td>\n",
              "      <td>0.376817</td>\n",
              "      <td>0.491534</td>\n",
              "      <td>1.152249</td>\n",
              "      <td>-1.200973</td>\n",
              "      <td>0.363082</td>\n",
              "      <td>-1.599016</td>\n",
              "      <td>2.375769</td>\n",
              "      <td>3.393312</td>\n",
              "      <td>-1.555787</td>\n",
              "      <td>0.596834</td>\n",
              "    </tr>\n",
              "    <tr>\n",
              "      <th>1981-08-25 11:10:02.855059</th>\n",
              "      <td>0.528677</td>\n",
              "      <td>1.538982</td>\n",
              "      <td>-1.603758</td>\n",
              "      <td>2.056413</td>\n",
              "      <td>0.777722</td>\n",
              "      <td>1.574457</td>\n",
              "      <td>-0.717575</td>\n",
              "      <td>-2.730023</td>\n",
              "      <td>-1.430891</td>\n",
              "      <td>0.096802</td>\n",
              "      <td>0.582142</td>\n",
              "      <td>1.279587</td>\n",
              "      <td>-1.104004</td>\n",
              "      <td>-1.288717</td>\n",
              "      <td>0.263587</td>\n",
              "      <td>0.125378</td>\n",
              "      <td>-1.919282</td>\n",
              "      <td>0.146416</td>\n",
              "      <td>-0.973685</td>\n",
              "      <td>1.649327</td>\n",
              "      <td>-0.807683</td>\n",
              "      <td>3.098131</td>\n",
              "      <td>2.382476</td>\n",
              "      <td>1.715768</td>\n",
              "      <td>1.147588</td>\n",
              "    </tr>\n",
              "  </tbody>\n",
              "</table>\n",
              "</div>"
            ],
            "text/plain": [
              "                                 I_0       I_1  ...         3         4\n",
              "1981-08-19 11:10:02.855059  2.105359  2.861661  ...  0.284018  0.041992\n",
              "1981-08-20 11:10:02.855059 -0.330754  1.464379  ... -0.033049 -0.512002\n",
              "1981-08-21 11:10:02.855059 -0.461334 -0.160432  ...  0.844542 -1.798651\n",
              "1981-08-24 11:10:02.855059 -1.573667  3.110105  ... -1.555787  0.596834\n",
              "1981-08-25 11:10:02.855059  0.528677  1.538982  ...  1.715768  1.147588\n",
              "\n",
              "[5 rows x 25 columns]"
            ]
          },
          "metadata": {
            "tags": []
          },
          "execution_count": 191
        }
      ]
    },
    {
      "cell_type": "markdown",
      "metadata": {
        "id": "E48VJmhbkfwy",
        "colab_type": "text"
      },
      "source": [
        "## (a) Compute MDI, MDA, and SFI feature importance on (Ẍ , y), where the base estimator is RF."
      ]
    },
    {
      "cell_type": "code",
      "metadata": {
        "id": "X5WxOnq3k3rN",
        "colab_type": "code",
        "colab": {}
      },
      "source": [
        "fit2 = clf.fit(X2,y)"
      ],
      "execution_count": 0,
      "outputs": []
    },
    {
      "cell_type": "code",
      "metadata": {
        "id": "8x83Aq9jlMLV",
        "colab_type": "code",
        "colab": {}
      },
      "source": [
        "mdi2 = feature_importance.feature_importance_mean_decrease_impurity(clf=fit2, feature_names = X2.columns.to_list())"
      ],
      "execution_count": 0,
      "outputs": []
    },
    {
      "cell_type": "code",
      "metadata": {
        "id": "Rox3Bn_klS9z",
        "colab_type": "code",
        "colab": {
          "base_uri": "https://localhost:8080/",
          "height": 297
        },
        "outputId": "5e92a888-849c-49ea-bcbb-ac99c0a852b4"
      },
      "source": [
        "mdi2.sort_values('mean',ascending=False).head(8)"
      ],
      "execution_count": 216,
      "outputs": [
        {
          "output_type": "execute_result",
          "data": {
            "text/html": [
              "<div>\n",
              "<style scoped>\n",
              "    .dataframe tbody tr th:only-of-type {\n",
              "        vertical-align: middle;\n",
              "    }\n",
              "\n",
              "    .dataframe tbody tr th {\n",
              "        vertical-align: top;\n",
              "    }\n",
              "\n",
              "    .dataframe thead th {\n",
              "        text-align: right;\n",
              "    }\n",
              "</style>\n",
              "<table border=\"1\" class=\"dataframe\">\n",
              "  <thead>\n",
              "    <tr style=\"text-align: right;\">\n",
              "      <th></th>\n",
              "      <th>mean</th>\n",
              "      <th>std</th>\n",
              "    </tr>\n",
              "  </thead>\n",
              "  <tbody>\n",
              "    <tr>\n",
              "      <th>2</th>\n",
              "      <td>0.110418</td>\n",
              "      <td>0.008164</td>\n",
              "    </tr>\n",
              "    <tr>\n",
              "      <th>R_0</th>\n",
              "      <td>0.089293</td>\n",
              "      <td>0.006263</td>\n",
              "    </tr>\n",
              "    <tr>\n",
              "      <th>I_1</th>\n",
              "      <td>0.087870</td>\n",
              "      <td>0.006481</td>\n",
              "    </tr>\n",
              "    <tr>\n",
              "      <th>I_4</th>\n",
              "      <td>0.066689</td>\n",
              "      <td>0.003593</td>\n",
              "    </tr>\n",
              "    <tr>\n",
              "      <th>0</th>\n",
              "      <td>0.054217</td>\n",
              "      <td>0.003204</td>\n",
              "    </tr>\n",
              "    <tr>\n",
              "      <th>I_2</th>\n",
              "      <td>0.053678</td>\n",
              "      <td>0.002719</td>\n",
              "    </tr>\n",
              "    <tr>\n",
              "      <th>R_1</th>\n",
              "      <td>0.053399</td>\n",
              "      <td>0.003367</td>\n",
              "    </tr>\n",
              "    <tr>\n",
              "      <th>I_0</th>\n",
              "      <td>0.049011</td>\n",
              "      <td>0.002186</td>\n",
              "    </tr>\n",
              "  </tbody>\n",
              "</table>\n",
              "</div>"
            ],
            "text/plain": [
              "         mean       std\n",
              "2    0.110418  0.008164\n",
              "R_0  0.089293  0.006263\n",
              "I_1  0.087870  0.006481\n",
              "I_4  0.066689  0.003593\n",
              "0    0.054217  0.003204\n",
              "I_2  0.053678  0.002719\n",
              "R_1  0.053399  0.003367\n",
              "I_0  0.049011  0.002186"
            ]
          },
          "metadata": {
            "tags": []
          },
          "execution_count": 216
        }
      ]
    },
    {
      "cell_type": "code",
      "metadata": {
        "id": "upHWg1EElgGb",
        "colab_type": "code",
        "colab": {}
      },
      "source": [
        "mda2 =feature_importance.feature_importance_mean_decrease_accuracy(clf=clf, X=X2,y=y,cv_gen=cv_gen, sample_weight=cont['w'])"
      ],
      "execution_count": 0,
      "outputs": []
    },
    {
      "cell_type": "code",
      "metadata": {
        "id": "HDiwD5yKmNMg",
        "colab_type": "code",
        "colab": {
          "base_uri": "https://localhost:8080/",
          "height": 297
        },
        "outputId": "beaed18e-bb54-45e7-8d74-82ad0675cfa0"
      },
      "source": [
        "mda2.sort_values('mean',ascending=False).head(8)"
      ],
      "execution_count": 217,
      "outputs": [
        {
          "output_type": "execute_result",
          "data": {
            "text/html": [
              "<div>\n",
              "<style scoped>\n",
              "    .dataframe tbody tr th:only-of-type {\n",
              "        vertical-align: middle;\n",
              "    }\n",
              "\n",
              "    .dataframe tbody tr th {\n",
              "        vertical-align: top;\n",
              "    }\n",
              "\n",
              "    .dataframe thead th {\n",
              "        text-align: right;\n",
              "    }\n",
              "</style>\n",
              "<table border=\"1\" class=\"dataframe\">\n",
              "  <thead>\n",
              "    <tr style=\"text-align: right;\">\n",
              "      <th></th>\n",
              "      <th>mean</th>\n",
              "      <th>std</th>\n",
              "    </tr>\n",
              "  </thead>\n",
              "  <tbody>\n",
              "    <tr>\n",
              "      <th>R_0</th>\n",
              "      <td>0.076616</td>\n",
              "      <td>0.024418</td>\n",
              "    </tr>\n",
              "    <tr>\n",
              "      <th>2</th>\n",
              "      <td>0.071454</td>\n",
              "      <td>0.049959</td>\n",
              "    </tr>\n",
              "    <tr>\n",
              "      <th>I_1</th>\n",
              "      <td>0.059825</td>\n",
              "      <td>0.033644</td>\n",
              "    </tr>\n",
              "    <tr>\n",
              "      <th>3</th>\n",
              "      <td>0.051881</td>\n",
              "      <td>0.016332</td>\n",
              "    </tr>\n",
              "    <tr>\n",
              "      <th>I_2</th>\n",
              "      <td>0.049351</td>\n",
              "      <td>0.017837</td>\n",
              "    </tr>\n",
              "    <tr>\n",
              "      <th>I_4</th>\n",
              "      <td>0.047708</td>\n",
              "      <td>0.030153</td>\n",
              "    </tr>\n",
              "    <tr>\n",
              "      <th>0</th>\n",
              "      <td>0.045410</td>\n",
              "      <td>0.022027</td>\n",
              "    </tr>\n",
              "    <tr>\n",
              "      <th>I_0</th>\n",
              "      <td>0.042317</td>\n",
              "      <td>0.023517</td>\n",
              "    </tr>\n",
              "  </tbody>\n",
              "</table>\n",
              "</div>"
            ],
            "text/plain": [
              "         mean       std\n",
              "R_0  0.076616  0.024418\n",
              "2    0.071454  0.049959\n",
              "I_1  0.059825  0.033644\n",
              "3    0.051881  0.016332\n",
              "I_2  0.049351  0.017837\n",
              "I_4  0.047708  0.030153\n",
              "0    0.045410  0.022027\n",
              "I_0  0.042317  0.023517"
            ]
          },
          "metadata": {
            "tags": []
          },
          "execution_count": 217
        }
      ]
    },
    {
      "cell_type": "code",
      "metadata": {
        "id": "S1VybqiYmUD7",
        "colab_type": "code",
        "colab": {}
      },
      "source": [
        "sfi2 = feature_importance.feature_importance_sfi(clf=clf,X=X2,y=y,cv_gen=cv_gen,sample_weight=cont['w'])"
      ],
      "execution_count": 0,
      "outputs": []
    },
    {
      "cell_type": "code",
      "metadata": {
        "id": "HnYUc3dkmcN1",
        "colab_type": "code",
        "colab": {
          "base_uri": "https://localhost:8080/",
          "height": 297
        },
        "outputId": "1221060f-07a5-4e24-8b00-1acfa35c32ab"
      },
      "source": [
        "sfi2.sort_values('mean',ascending=True).head(8)"
      ],
      "execution_count": 220,
      "outputs": [
        {
          "output_type": "execute_result",
          "data": {
            "text/html": [
              "<div>\n",
              "<style scoped>\n",
              "    .dataframe tbody tr th:only-of-type {\n",
              "        vertical-align: middle;\n",
              "    }\n",
              "\n",
              "    .dataframe tbody tr th {\n",
              "        vertical-align: top;\n",
              "    }\n",
              "\n",
              "    .dataframe thead th {\n",
              "        text-align: right;\n",
              "    }\n",
              "</style>\n",
              "<table border=\"1\" class=\"dataframe\">\n",
              "  <thead>\n",
              "    <tr style=\"text-align: right;\">\n",
              "      <th></th>\n",
              "      <th>mean</th>\n",
              "      <th>std</th>\n",
              "    </tr>\n",
              "  </thead>\n",
              "  <tbody>\n",
              "    <tr>\n",
              "      <th>0</th>\n",
              "      <td>-4.29815</td>\n",
              "      <td>1.01713</td>\n",
              "    </tr>\n",
              "    <tr>\n",
              "      <th>R_1</th>\n",
              "      <td>-4.15423</td>\n",
              "      <td>0.404699</td>\n",
              "    </tr>\n",
              "    <tr>\n",
              "      <th>I_0</th>\n",
              "      <td>-4.13288</td>\n",
              "      <td>1.15339</td>\n",
              "    </tr>\n",
              "    <tr>\n",
              "      <th>R_0</th>\n",
              "      <td>-4.10421</td>\n",
              "      <td>0.671435</td>\n",
              "    </tr>\n",
              "    <tr>\n",
              "      <th>R_2</th>\n",
              "      <td>-4.0861</td>\n",
              "      <td>0.462301</td>\n",
              "    </tr>\n",
              "    <tr>\n",
              "      <th>I_4</th>\n",
              "      <td>-4.08406</td>\n",
              "      <td>0.541414</td>\n",
              "    </tr>\n",
              "    <tr>\n",
              "      <th>R_3</th>\n",
              "      <td>-3.98385</td>\n",
              "      <td>0.824386</td>\n",
              "    </tr>\n",
              "    <tr>\n",
              "      <th>I_2</th>\n",
              "      <td>-3.93145</td>\n",
              "      <td>1.24959</td>\n",
              "    </tr>\n",
              "  </tbody>\n",
              "</table>\n",
              "</div>"
            ],
            "text/plain": [
              "        mean       std\n",
              "0   -4.29815   1.01713\n",
              "R_1 -4.15423  0.404699\n",
              "I_0 -4.13288   1.15339\n",
              "R_0 -4.10421  0.671435\n",
              "R_2  -4.0861  0.462301\n",
              "I_4 -4.08406  0.541414\n",
              "R_3 -3.98385  0.824386\n",
              "I_2 -3.93145   1.24959"
            ]
          },
          "metadata": {
            "tags": []
          },
          "execution_count": 220
        }
      ]
    },
    {
      "cell_type": "markdown",
      "metadata": {
        "id": "aJNvuZOSkwef",
        "colab_type": "text"
      },
      "source": [
        "##(b) Do the three methods agree on the important features? Why?"
      ]
    },
    {
      "cell_type": "code",
      "metadata": {
        "id": "jclqGmgFkmDC",
        "colab_type": "code",
        "colab": {
          "base_uri": "https://localhost:8080/",
          "height": 980
        },
        "outputId": "301f7e7b-999c-41d9-de28-f956205259a8"
      },
      "source": [
        "feature_importance.plot_feature_importance(imp=mdi2,oob_score=1,oos_score=1)\n",
        "feature_importance.plot_feature_importance(imp=mda2,oob_score=1,oos_score=1)\n",
        "feature_importance.plot_feature_importance(imp=sfi2,oob_score=1,oos_score=1)"
      ],
      "execution_count": 222,
      "outputs": [
        {
          "output_type": "display_data",
          "data": {
            "image/png": "[encoded data removed]",
            "text/plain": [
              "<Figure size 720x360 with 1 Axes>"
            ]
          },
          "metadata": {
            "tags": []
          }
        },
        {
          "output_type": "display_data",
          "data": {
            "image/png": "[encoded data removed]",
            "text/plain": [
              "<Figure size 720x360 with 1 Axes>"
            ]
          },
          "metadata": {
            "tags": []
          }
        },
        {
          "output_type": "display_data",
          "data": {
            "image/png": "[encoded data removed]",
            "text/plain": [
              "<Figure size 720x360 with 1 Axes>"
            ]
          },
          "metadata": {
            "tags": []
          }
        }
      ]
    },
    {
      "cell_type": "markdown",
      "metadata": {
        "id": "yY4Grb7momWG",
        "colab_type": "text"
      },
      "source": [
        "SFI가 뭔가 잘못됐다. 반대로인가."
      ]
    },
    {
      "cell_type": "markdown",
      "metadata": {
        "id": "bgl4wBYPoqk5",
        "colab_type": "text"
      },
      "source": [
        "# 3. Take the results from exercise 2:\n",
        "(a) Drop the most important features according to each method, resulting in a\n",
        "features matrix ⃛X.\n",
        "(b) Compute MDI, MDA, and SFI feature importance on (⃛X, y), where the base\n",
        "estimator is RF.\n",
        "(c) Do you appreciate significant changes in the rankings of important features,\n",
        "relative to the results from exercise 2?"
      ]
    },
    {
      "cell_type": "markdown",
      "metadata": {
        "id": "cx01mXLbo3ud",
        "colab_type": "text"
      },
      "source": [
        "sfi는 잠시 안하겠다."
      ]
    },
    {
      "cell_type": "code",
      "metadata": {
        "id": "XLpxfhxTmo8i",
        "colab_type": "code",
        "colab": {}
      },
      "source": [
        "# 3개 빼보자.\n",
        "drop = [2,'R_0','I_1']\n",
        "X3 = X2.drop(drop,axis=1)"
      ],
      "execution_count": 0,
      "outputs": []
    },
    {
      "cell_type": "code",
      "metadata": {
        "id": "SrfvEBa3pe9u",
        "colab_type": "code",
        "colab": {}
      },
      "source": [
        "fit3 = clf.fit(X3,y)"
      ],
      "execution_count": 0,
      "outputs": []
    },
    {
      "cell_type": "code",
      "metadata": {
        "id": "P7Ep5zw9pMZO",
        "colab_type": "code",
        "colab": {}
      },
      "source": [
        "mdi3 = feature_importance.feature_importance_mean_decrease_impurity(clf=fit3, feature_names = X3.columns.to_list())"
      ],
      "execution_count": 0,
      "outputs": []
    },
    {
      "cell_type": "code",
      "metadata": {
        "id": "lt7c0UO3pkjh",
        "colab_type": "code",
        "colab": {
          "base_uri": "https://localhost:8080/",
          "height": 204
        },
        "outputId": "afe6f90f-b9ee-4bb4-c23b-11bda97ca993"
      },
      "source": [
        "mdi3.sort_values('mean',ascending=False).head(5)"
      ],
      "execution_count": 212,
      "outputs": [
        {
          "output_type": "execute_result",
          "data": {
            "text/html": [
              "<div>\n",
              "<style scoped>\n",
              "    .dataframe tbody tr th:only-of-type {\n",
              "        vertical-align: middle;\n",
              "    }\n",
              "\n",
              "    .dataframe tbody tr th {\n",
              "        vertical-align: top;\n",
              "    }\n",
              "\n",
              "    .dataframe thead th {\n",
              "        text-align: right;\n",
              "    }\n",
              "</style>\n",
              "<table border=\"1\" class=\"dataframe\">\n",
              "  <thead>\n",
              "    <tr style=\"text-align: right;\">\n",
              "      <th></th>\n",
              "      <th>mean</th>\n",
              "      <th>std</th>\n",
              "    </tr>\n",
              "  </thead>\n",
              "  <tbody>\n",
              "    <tr>\n",
              "      <th>I_4</th>\n",
              "      <td>0.093477</td>\n",
              "      <td>0.003825</td>\n",
              "    </tr>\n",
              "    <tr>\n",
              "      <th>0</th>\n",
              "      <td>0.081622</td>\n",
              "      <td>0.003016</td>\n",
              "    </tr>\n",
              "    <tr>\n",
              "      <th>R_1</th>\n",
              "      <td>0.076300</td>\n",
              "      <td>0.002895</td>\n",
              "    </tr>\n",
              "    <tr>\n",
              "      <th>I_0</th>\n",
              "      <td>0.075042</td>\n",
              "      <td>0.002628</td>\n",
              "    </tr>\n",
              "    <tr>\n",
              "      <th>I_2</th>\n",
              "      <td>0.074523</td>\n",
              "      <td>0.002975</td>\n",
              "    </tr>\n",
              "  </tbody>\n",
              "</table>\n",
              "</div>"
            ],
            "text/plain": [
              "         mean       std\n",
              "I_4  0.093477  0.003825\n",
              "0    0.081622  0.003016\n",
              "R_1  0.076300  0.002895\n",
              "I_0  0.075042  0.002628\n",
              "I_2  0.074523  0.002975"
            ]
          },
          "metadata": {
            "tags": []
          },
          "execution_count": 212
        }
      ]
    },
    {
      "cell_type": "code",
      "metadata": {
        "id": "XuBFNstOpnjB",
        "colab_type": "code",
        "colab": {}
      },
      "source": [
        "mda3 = feature_importance.feature_importance_mean_decrease_accuracy(clf=clf, X=X3,y=y,cv_gen=cv_gen, sample_weight=cont['w'])"
      ],
      "execution_count": 0,
      "outputs": []
    },
    {
      "cell_type": "code",
      "metadata": {
        "id": "H5QkxLxxp5MM",
        "colab_type": "code",
        "colab": {
          "base_uri": "https://localhost:8080/",
          "height": 204
        },
        "outputId": "a5a7c41e-35b4-4554-e11d-f6a0e72ae587"
      },
      "source": [
        "mda3.sort_values('mean',ascending=False).head(5)"
      ],
      "execution_count": 215,
      "outputs": [
        {
          "output_type": "execute_result",
          "data": {
            "text/html": [
              "<div>\n",
              "<style scoped>\n",
              "    .dataframe tbody tr th:only-of-type {\n",
              "        vertical-align: middle;\n",
              "    }\n",
              "\n",
              "    .dataframe tbody tr th {\n",
              "        vertical-align: top;\n",
              "    }\n",
              "\n",
              "    .dataframe thead th {\n",
              "        text-align: right;\n",
              "    }\n",
              "</style>\n",
              "<table border=\"1\" class=\"dataframe\">\n",
              "  <thead>\n",
              "    <tr style=\"text-align: right;\">\n",
              "      <th></th>\n",
              "      <th>mean</th>\n",
              "      <th>std</th>\n",
              "    </tr>\n",
              "  </thead>\n",
              "  <tbody>\n",
              "    <tr>\n",
              "      <th>I_0</th>\n",
              "      <td>0.082449</td>\n",
              "      <td>0.032835</td>\n",
              "    </tr>\n",
              "    <tr>\n",
              "      <th>0</th>\n",
              "      <td>0.080901</td>\n",
              "      <td>0.025261</td>\n",
              "    </tr>\n",
              "    <tr>\n",
              "      <th>I_4</th>\n",
              "      <td>0.078295</td>\n",
              "      <td>0.038576</td>\n",
              "    </tr>\n",
              "    <tr>\n",
              "      <th>I_2</th>\n",
              "      <td>0.065433</td>\n",
              "      <td>0.026185</td>\n",
              "    </tr>\n",
              "    <tr>\n",
              "      <th>R_3</th>\n",
              "      <td>0.055288</td>\n",
              "      <td>0.017246</td>\n",
              "    </tr>\n",
              "  </tbody>\n",
              "</table>\n",
              "</div>"
            ],
            "text/plain": [
              "         mean       std\n",
              "I_0  0.082449  0.032835\n",
              "0    0.080901  0.025261\n",
              "I_4  0.078295  0.038576\n",
              "I_2  0.065433  0.026185\n",
              "R_3  0.055288  0.017246"
            ]
          },
          "metadata": {
            "tags": []
          },
          "execution_count": 215
        }
      ]
    },
    {
      "cell_type": "code",
      "metadata": {
        "id": "SdUMPPwsp7-z",
        "colab_type": "code",
        "colab": {
          "base_uri": "https://localhost:8080/",
          "height": 627
        },
        "outputId": "3f399b89-e9ff-4f09-d47a-53316b87e4bb"
      },
      "source": [
        "feature_importance.plot_feature_importance(imp=mdi2,oob_score=1,oos_score=1)\n",
        "feature_importance.plot_feature_importance(imp=mdi3,oob_score=1,oos_score=1)"
      ],
      "execution_count": 221,
      "outputs": [
        {
          "output_type": "display_data",
          "data": {
            "image/png": "[encoded data removed]",
            "text/plain": [
              "<Figure size 720x360 with 1 Axes>"
            ]
          },
          "metadata": {
            "tags": []
          }
        },
        {
          "output_type": "display_data",
          "data": {
            "image/png": "[encoded data removed]",
            "text/plain": [
              "<Figure size 720x316.8 with 1 Axes>"
            ]
          },
          "metadata": {
            "tags": []
          }
        }
      ]
    },
    {
      "cell_type": "code",
      "metadata": {
        "id": "oWxqLDUWqeRz",
        "colab_type": "code",
        "colab": {
          "base_uri": "https://localhost:8080/",
          "height": 627
        },
        "outputId": "24e625ad-d6a0-4b55-8746-c4dd48428ed2"
      },
      "source": [
        "feature_importance.plot_feature_importance(imp=mda2,oob_score=1,oos_score=1)\n",
        "feature_importance.plot_feature_importance(imp=mda3,oob_score=1,oos_score=1)"
      ],
      "execution_count": 223,
      "outputs": [
        {
          "output_type": "display_data",
          "data": {
            "image/png": "[encoded data removed]",
            "text/plain": [
              "<Figure size 720x360 with 1 Axes>"
            ]
          },
          "metadata": {
            "tags": []
          }
        },
        {
          "output_type": "display_data",
          "data": {
            "image/png": "[encoded data removed]",
            "text/plain": [
              "<Figure size 720x316.8 with 1 Axes>"
            ]
          },
          "metadata": {
            "tags": []
          }
        }
      ]
    },
    {
      "cell_type": "markdown",
      "metadata": {
        "id": "etkot76qqyfq",
        "colab_type": "text"
      },
      "source": [
        "순위가 비슷한거같으나 다르긴하다."
      ]
    },
    {
      "cell_type": "markdown",
      "metadata": {
        "id": "wnZ5wwqXq-T9",
        "colab_type": "text"
      },
      "source": [
        "# 4.Using the code presented in Section 8.6:\n",
        "\n",
        "(a) Generate a dataset (X, y) of 1E6 observations, where 5 features are informative,\n",
        "5 are redundant and 10 are noise.\n",
        "(b) Split (X, y) into 10 datasets {(Xi, yi)}i=1,…,10, each of 1E5 observations.\n",
        "(c) Compute the parallelized feature importance (Section 8.5), on each of the 10\n",
        "datasets, {(Xi, yi)}i=1,…,10.\n",
        "(d) Compute the stacked feature importance on the combined dataset (X, y)."
      ]
    },
    {
      "cell_type": "code",
      "metadata": {
        "id": "CN-N5PQpqshs",
        "colab_type": "code",
        "colab": {
          "base_uri": "https://localhost:8080/",
          "height": 408
        },
        "outputId": "8b3b1623-cb26-42a1-e1b2-d365c4fcf1f6"
      },
      "source": [
        "trnsx2, y2 = getTestData(15,5,5,1000000) "
      ],
      "execution_count": 227,
      "outputs": [
        {
          "output_type": "error",
          "ename": "OverflowError",
          "evalue": "ignored",
          "traceback": [
            "\u001b[0;31m---------------------------------------------------------------------------\u001b[0m",
            "\u001b[0;31mOverflowError\u001b[0m                             Traceback (most recent call last)",
            "\u001b[0;32m<ipython-input-227-60ce5a2ff5db>\u001b[0m in \u001b[0;36m<module>\u001b[0;34m()\u001b[0m\n\u001b[0;32m----> 1\u001b[0;31m \u001b[0mtrnsx2\u001b[0m\u001b[0;34m,\u001b[0m \u001b[0my2\u001b[0m \u001b[0;34m=\u001b[0m \u001b[0mgetTestData\u001b[0m\u001b[0;34m(\u001b[0m\u001b[0;36m15\u001b[0m\u001b[0;34m,\u001b[0m\u001b[0;36m5\u001b[0m\u001b[0;34m,\u001b[0m\u001b[0;36m5\u001b[0m\u001b[0;34m,\u001b[0m\u001b[0;36m1000000\u001b[0m\u001b[0;34m)\u001b[0m\u001b[0;34m\u001b[0m\u001b[0;34m\u001b[0m\u001b[0m\n\u001b[0m",
            "\u001b[0;32m<ipython-input-162-5085f2a56516>\u001b[0m in \u001b[0;36mgetTestData\u001b[0;34m(n_features, n_informative, n_redundant, n_samples)\u001b[0m\n\u001b[1;32m      3\u001b[0m   \u001b[0;32mfrom\u001b[0m \u001b[0msklearn\u001b[0m\u001b[0;34m.\u001b[0m\u001b[0mdatasets\u001b[0m \u001b[0;32mimport\u001b[0m \u001b[0mmake_classification\u001b[0m\u001b[0;34m\u001b[0m\u001b[0;34m\u001b[0m\u001b[0m\n\u001b[1;32m      4\u001b[0m   \u001b[0mtrnsX\u001b[0m\u001b[0;34m,\u001b[0m\u001b[0mcont\u001b[0m \u001b[0;34m=\u001b[0m \u001b[0mmake_classification\u001b[0m\u001b[0;34m(\u001b[0m\u001b[0mn_samples\u001b[0m\u001b[0;34m=\u001b[0m\u001b[0mn_samples\u001b[0m\u001b[0;34m,\u001b[0m\u001b[0mn_features\u001b[0m\u001b[0;34m=\u001b[0m\u001b[0mn_features\u001b[0m\u001b[0;34m,\u001b[0m\u001b[0mn_informative\u001b[0m\u001b[0;34m=\u001b[0m\u001b[0mn_informative\u001b[0m\u001b[0;34m,\u001b[0m\u001b[0mn_redundant\u001b[0m\u001b[0;34m=\u001b[0m\u001b[0mn_redundant\u001b[0m\u001b[0;34m,\u001b[0m\u001b[0mrandom_state\u001b[0m\u001b[0;34m=\u001b[0m\u001b[0;36m0\u001b[0m\u001b[0;34m,\u001b[0m\u001b[0mshuffle\u001b[0m\u001b[0;34m=\u001b[0m\u001b[0;32mFalse\u001b[0m\u001b[0;34m)\u001b[0m\u001b[0;34m\u001b[0m\u001b[0;34m\u001b[0m\u001b[0m\n\u001b[0;32m----> 5\u001b[0;31m   \u001b[0mdf0\u001b[0m \u001b[0;34m=\u001b[0m \u001b[0mpd\u001b[0m\u001b[0;34m.\u001b[0m\u001b[0mDatetimeIndex\u001b[0m\u001b[0;34m(\u001b[0m\u001b[0mperiods\u001b[0m\u001b[0;34m=\u001b[0m\u001b[0mn_samples\u001b[0m\u001b[0;34m,\u001b[0m\u001b[0mfreq\u001b[0m\u001b[0;34m=\u001b[0m\u001b[0mpd\u001b[0m\u001b[0;34m.\u001b[0m\u001b[0mtseries\u001b[0m\u001b[0;34m.\u001b[0m\u001b[0moffsets\u001b[0m\u001b[0;34m.\u001b[0m\u001b[0mBDay\u001b[0m\u001b[0;34m(\u001b[0m\u001b[0;34m)\u001b[0m\u001b[0;34m,\u001b[0m \u001b[0mend\u001b[0m\u001b[0;34m=\u001b[0m\u001b[0mpd\u001b[0m\u001b[0;34m.\u001b[0m\u001b[0mdatetime\u001b[0m\u001b[0;34m.\u001b[0m\u001b[0mtoday\u001b[0m\u001b[0;34m(\u001b[0m\u001b[0;34m)\u001b[0m\u001b[0;34m)\u001b[0m\u001b[0;34m\u001b[0m\u001b[0;34m\u001b[0m\u001b[0m\n\u001b[0m\u001b[1;32m      6\u001b[0m   \u001b[0mtrnsX\u001b[0m\u001b[0;34m,\u001b[0m\u001b[0mcont\u001b[0m \u001b[0;34m=\u001b[0m \u001b[0mpd\u001b[0m\u001b[0;34m.\u001b[0m\u001b[0mDataFrame\u001b[0m\u001b[0;34m(\u001b[0m\u001b[0mtrnsX\u001b[0m\u001b[0;34m,\u001b[0m\u001b[0mindex\u001b[0m\u001b[0;34m=\u001b[0m\u001b[0mdf0\u001b[0m\u001b[0;34m)\u001b[0m\u001b[0;34m,\u001b[0m \u001b[0mpd\u001b[0m\u001b[0;34m.\u001b[0m\u001b[0mSeries\u001b[0m\u001b[0;34m(\u001b[0m\u001b[0mcont\u001b[0m\u001b[0;34m,\u001b[0m\u001b[0mindex\u001b[0m\u001b[0;34m=\u001b[0m\u001b[0mdf0\u001b[0m\u001b[0;34m)\u001b[0m\u001b[0;34m.\u001b[0m\u001b[0mto_frame\u001b[0m\u001b[0;34m(\u001b[0m\u001b[0;34m'bin'\u001b[0m\u001b[0;34m)\u001b[0m\u001b[0;34m\u001b[0m\u001b[0;34m\u001b[0m\u001b[0m\n\u001b[1;32m      7\u001b[0m   \u001b[0mdf0\u001b[0m \u001b[0;34m=\u001b[0m \u001b[0;34m[\u001b[0m\u001b[0;34m'I_'\u001b[0m\u001b[0;34m+\u001b[0m\u001b[0mstr\u001b[0m\u001b[0;34m(\u001b[0m\u001b[0mi\u001b[0m\u001b[0;34m)\u001b[0m \u001b[0;32mfor\u001b[0m \u001b[0mi\u001b[0m \u001b[0;32min\u001b[0m \u001b[0mrange\u001b[0m\u001b[0;34m(\u001b[0m\u001b[0mn_informative\u001b[0m\u001b[0;34m)\u001b[0m\u001b[0;34m]\u001b[0m\u001b[0;34m+\u001b[0m \u001b[0;34m[\u001b[0m\u001b[0;34m'R_'\u001b[0m\u001b[0;34m+\u001b[0m\u001b[0mstr\u001b[0m\u001b[0;34m(\u001b[0m\u001b[0mi\u001b[0m\u001b[0;34m)\u001b[0m \u001b[0;32mfor\u001b[0m \u001b[0mi\u001b[0m \u001b[0;32min\u001b[0m \u001b[0mrange\u001b[0m\u001b[0;34m(\u001b[0m\u001b[0mn_redundant\u001b[0m\u001b[0;34m)\u001b[0m\u001b[0;34m]\u001b[0m\u001b[0;34m\u001b[0m\u001b[0;34m\u001b[0m\u001b[0m\n",
            "\u001b[0;32m/usr/local/lib/python3.6/dist-packages/pandas/core/indexes/datetimes.py\u001b[0m in \u001b[0;36m__new__\u001b[0;34m(cls, data, freq, start, end, periods, tz, normalize, closed, ambiguous, dayfirst, yearfirst, dtype, copy, name, verify_integrity)\u001b[0m\n\u001b[1;32m    299\u001b[0m                 \u001b[0mnormalize\u001b[0m\u001b[0;34m=\u001b[0m\u001b[0mnormalize\u001b[0m\u001b[0;34m,\u001b[0m\u001b[0;34m\u001b[0m\u001b[0;34m\u001b[0m\u001b[0m\n\u001b[1;32m    300\u001b[0m                 \u001b[0mclosed\u001b[0m\u001b[0;34m=\u001b[0m\u001b[0mclosed\u001b[0m\u001b[0;34m,\u001b[0m\u001b[0;34m\u001b[0m\u001b[0;34m\u001b[0m\u001b[0m\n\u001b[0;32m--> 301\u001b[0;31m                 \u001b[0mambiguous\u001b[0m\u001b[0;34m=\u001b[0m\u001b[0mambiguous\u001b[0m\u001b[0;34m,\u001b[0m\u001b[0;34m\u001b[0m\u001b[0;34m\u001b[0m\u001b[0m\n\u001b[0m\u001b[1;32m    302\u001b[0m             )\n\u001b[1;32m    303\u001b[0m             warnings.warn(\n",
            "\u001b[0;32m/usr/local/lib/python3.6/dist-packages/pandas/core/arrays/datetimes.py\u001b[0m in \u001b[0;36m_generate_range\u001b[0;34m(cls, start, end, periods, freq, tz, normalize, ambiguous, nonexistent, closed)\u001b[0m\n\u001b[1;32m    532\u001b[0m                     \u001b[0mend\u001b[0m \u001b[0;34m=\u001b[0m \u001b[0mend\u001b[0m\u001b[0;34m.\u001b[0m\u001b[0mtz_localize\u001b[0m\u001b[0;34m(\u001b[0m\u001b[0;32mNone\u001b[0m\u001b[0;34m)\u001b[0m\u001b[0;34m\u001b[0m\u001b[0;34m\u001b[0m\u001b[0m\n\u001b[1;32m    533\u001b[0m             \u001b[0;31m# TODO: consider re-implementing _cached_range; GH#17914\u001b[0m\u001b[0;34m\u001b[0m\u001b[0;34m\u001b[0m\u001b[0;34m\u001b[0m\u001b[0m\n\u001b[0;32m--> 534\u001b[0;31m             \u001b[0mvalues\u001b[0m\u001b[0;34m,\u001b[0m \u001b[0m_tz\u001b[0m \u001b[0;34m=\u001b[0m \u001b[0mgenerate_regular_range\u001b[0m\u001b[0;34m(\u001b[0m\u001b[0mstart\u001b[0m\u001b[0;34m,\u001b[0m \u001b[0mend\u001b[0m\u001b[0;34m,\u001b[0m \u001b[0mperiods\u001b[0m\u001b[0;34m,\u001b[0m \u001b[0mfreq\u001b[0m\u001b[0;34m)\u001b[0m\u001b[0;34m\u001b[0m\u001b[0;34m\u001b[0m\u001b[0m\n\u001b[0m\u001b[1;32m    535\u001b[0m             \u001b[0mindex\u001b[0m \u001b[0;34m=\u001b[0m \u001b[0mcls\u001b[0m\u001b[0;34m.\u001b[0m\u001b[0m_simple_new\u001b[0m\u001b[0;34m(\u001b[0m\u001b[0mvalues\u001b[0m\u001b[0;34m,\u001b[0m \u001b[0mfreq\u001b[0m\u001b[0;34m=\u001b[0m\u001b[0mfreq\u001b[0m\u001b[0;34m,\u001b[0m \u001b[0mdtype\u001b[0m\u001b[0;34m=\u001b[0m\u001b[0mtz_to_dtype\u001b[0m\u001b[0;34m(\u001b[0m\u001b[0m_tz\u001b[0m\u001b[0;34m)\u001b[0m\u001b[0;34m)\u001b[0m\u001b[0;34m\u001b[0m\u001b[0;34m\u001b[0m\u001b[0m\n\u001b[1;32m    536\u001b[0m \u001b[0;34m\u001b[0m\u001b[0m\n",
            "\u001b[0;32m/usr/local/lib/python3.6/dist-packages/pandas/core/arrays/_ranges.py\u001b[0m in \u001b[0;36mgenerate_regular_range\u001b[0;34m(start, end, periods, freq)\u001b[0m\n\u001b[1;32m     79\u001b[0m         \u001b[0mxdr\u001b[0m \u001b[0;34m=\u001b[0m \u001b[0mgenerate_range\u001b[0m\u001b[0;34m(\u001b[0m\u001b[0mstart\u001b[0m\u001b[0;34m=\u001b[0m\u001b[0mstart\u001b[0m\u001b[0;34m,\u001b[0m \u001b[0mend\u001b[0m\u001b[0;34m=\u001b[0m\u001b[0mend\u001b[0m\u001b[0;34m,\u001b[0m \u001b[0mperiods\u001b[0m\u001b[0;34m=\u001b[0m\u001b[0mperiods\u001b[0m\u001b[0;34m,\u001b[0m \u001b[0moffset\u001b[0m\u001b[0;34m=\u001b[0m\u001b[0mfreq\u001b[0m\u001b[0;34m)\u001b[0m\u001b[0;34m\u001b[0m\u001b[0;34m\u001b[0m\u001b[0m\n\u001b[1;32m     80\u001b[0m \u001b[0;34m\u001b[0m\u001b[0m\n\u001b[0;32m---> 81\u001b[0;31m         \u001b[0mvalues\u001b[0m \u001b[0;34m=\u001b[0m \u001b[0mnp\u001b[0m\u001b[0;34m.\u001b[0m\u001b[0marray\u001b[0m\u001b[0;34m(\u001b[0m\u001b[0;34m[\u001b[0m\u001b[0mx\u001b[0m\u001b[0;34m.\u001b[0m\u001b[0mvalue\u001b[0m \u001b[0;32mfor\u001b[0m \u001b[0mx\u001b[0m \u001b[0;32min\u001b[0m \u001b[0mxdr\u001b[0m\u001b[0;34m]\u001b[0m\u001b[0;34m,\u001b[0m \u001b[0mdtype\u001b[0m\u001b[0;34m=\u001b[0m\u001b[0mnp\u001b[0m\u001b[0;34m.\u001b[0m\u001b[0mint64\u001b[0m\u001b[0;34m)\u001b[0m\u001b[0;34m\u001b[0m\u001b[0;34m\u001b[0m\u001b[0m\n\u001b[0m\u001b[1;32m     82\u001b[0m \u001b[0;34m\u001b[0m\u001b[0m\n\u001b[1;32m     83\u001b[0m     \u001b[0;32mreturn\u001b[0m \u001b[0mvalues\u001b[0m\u001b[0;34m,\u001b[0m \u001b[0mtz\u001b[0m\u001b[0;34m\u001b[0m\u001b[0;34m\u001b[0m\u001b[0m\n",
            "\u001b[0;32m/usr/local/lib/python3.6/dist-packages/pandas/core/arrays/_ranges.py\u001b[0m in \u001b[0;36m<listcomp>\u001b[0;34m(.0)\u001b[0m\n\u001b[1;32m     79\u001b[0m         \u001b[0mxdr\u001b[0m \u001b[0;34m=\u001b[0m \u001b[0mgenerate_range\u001b[0m\u001b[0;34m(\u001b[0m\u001b[0mstart\u001b[0m\u001b[0;34m=\u001b[0m\u001b[0mstart\u001b[0m\u001b[0;34m,\u001b[0m \u001b[0mend\u001b[0m\u001b[0;34m=\u001b[0m\u001b[0mend\u001b[0m\u001b[0;34m,\u001b[0m \u001b[0mperiods\u001b[0m\u001b[0;34m=\u001b[0m\u001b[0mperiods\u001b[0m\u001b[0;34m,\u001b[0m \u001b[0moffset\u001b[0m\u001b[0;34m=\u001b[0m\u001b[0mfreq\u001b[0m\u001b[0;34m)\u001b[0m\u001b[0;34m\u001b[0m\u001b[0;34m\u001b[0m\u001b[0m\n\u001b[1;32m     80\u001b[0m \u001b[0;34m\u001b[0m\u001b[0m\n\u001b[0;32m---> 81\u001b[0;31m         \u001b[0mvalues\u001b[0m \u001b[0;34m=\u001b[0m \u001b[0mnp\u001b[0m\u001b[0;34m.\u001b[0m\u001b[0marray\u001b[0m\u001b[0;34m(\u001b[0m\u001b[0;34m[\u001b[0m\u001b[0mx\u001b[0m\u001b[0;34m.\u001b[0m\u001b[0mvalue\u001b[0m \u001b[0;32mfor\u001b[0m \u001b[0mx\u001b[0m \u001b[0;32min\u001b[0m \u001b[0mxdr\u001b[0m\u001b[0;34m]\u001b[0m\u001b[0;34m,\u001b[0m \u001b[0mdtype\u001b[0m\u001b[0;34m=\u001b[0m\u001b[0mnp\u001b[0m\u001b[0;34m.\u001b[0m\u001b[0mint64\u001b[0m\u001b[0;34m)\u001b[0m\u001b[0;34m\u001b[0m\u001b[0;34m\u001b[0m\u001b[0m\n\u001b[0m\u001b[1;32m     82\u001b[0m \u001b[0;34m\u001b[0m\u001b[0m\n\u001b[1;32m     83\u001b[0m     \u001b[0;32mreturn\u001b[0m \u001b[0mvalues\u001b[0m\u001b[0;34m,\u001b[0m \u001b[0mtz\u001b[0m\u001b[0;34m\u001b[0m\u001b[0;34m\u001b[0m\u001b[0m\n",
            "\u001b[0;32m/usr/local/lib/python3.6/dist-packages/pandas/tseries/offsets.py\u001b[0m in \u001b[0;36mgenerate_range\u001b[0;34m(start, end, periods, offset)\u001b[0m\n\u001b[1;32m   2742\u001b[0m \u001b[0;34m\u001b[0m\u001b[0m\n\u001b[1;32m   2743\u001b[0m     \u001b[0;32mif\u001b[0m \u001b[0mstart\u001b[0m \u001b[0;32mis\u001b[0m \u001b[0;32mNone\u001b[0m\u001b[0;34m:\u001b[0m\u001b[0;34m\u001b[0m\u001b[0;34m\u001b[0m\u001b[0m\n\u001b[0;32m-> 2744\u001b[0;31m         \u001b[0mstart\u001b[0m \u001b[0;34m=\u001b[0m \u001b[0mend\u001b[0m \u001b[0;34m-\u001b[0m \u001b[0;34m(\u001b[0m\u001b[0mperiods\u001b[0m \u001b[0;34m-\u001b[0m \u001b[0;36m1\u001b[0m\u001b[0;34m)\u001b[0m \u001b[0;34m*\u001b[0m \u001b[0moffset\u001b[0m\u001b[0;34m\u001b[0m\u001b[0;34m\u001b[0m\u001b[0m\n\u001b[0m\u001b[1;32m   2745\u001b[0m \u001b[0;34m\u001b[0m\u001b[0m\n\u001b[1;32m   2746\u001b[0m     \u001b[0mcur\u001b[0m \u001b[0;34m=\u001b[0m \u001b[0mstart\u001b[0m\u001b[0;34m\u001b[0m\u001b[0;34m\u001b[0m\u001b[0m\n",
            "\u001b[0;32mpandas/_libs/tslibs/offsets.pyx\u001b[0m in \u001b[0;36mpandas._libs.tslibs.offsets.BaseOffset.__rsub__\u001b[0;34m()\u001b[0m\n",
            "\u001b[0;32mpandas/_libs/tslibs/offsets.pyx\u001b[0m in \u001b[0;36mpandas._libs.tslibs.offsets._BaseOffset.__add__\u001b[0;34m()\u001b[0m\n",
            "\u001b[0;32m/usr/local/lib/python3.6/dist-packages/pandas/tseries/offsets.py\u001b[0m in \u001b[0;36mwrapper\u001b[0;34m(self, other)\u001b[0m\n\u001b[1;32m    110\u001b[0m                 \u001b[0mother\u001b[0m \u001b[0;34m=\u001b[0m \u001b[0mother\u001b[0m\u001b[0;34m.\u001b[0m\u001b[0mtz_localize\u001b[0m\u001b[0;34m(\u001b[0m\u001b[0;32mNone\u001b[0m\u001b[0;34m)\u001b[0m\u001b[0;34m\u001b[0m\u001b[0;34m\u001b[0m\u001b[0m\n\u001b[1;32m    111\u001b[0m \u001b[0;34m\u001b[0m\u001b[0m\n\u001b[0;32m--> 112\u001b[0;31m             \u001b[0mresult\u001b[0m \u001b[0;34m=\u001b[0m \u001b[0mfunc\u001b[0m\u001b[0;34m(\u001b[0m\u001b[0mself\u001b[0m\u001b[0;34m,\u001b[0m \u001b[0mother\u001b[0m\u001b[0;34m)\u001b[0m\u001b[0;34m\u001b[0m\u001b[0;34m\u001b[0m\u001b[0m\n\u001b[0m\u001b[1;32m    113\u001b[0m \u001b[0;34m\u001b[0m\u001b[0m\n\u001b[1;32m    114\u001b[0m             \u001b[0;32mif\u001b[0m \u001b[0mself\u001b[0m\u001b[0;34m.\u001b[0m\u001b[0m_adjust_dst\u001b[0m\u001b[0;34m:\u001b[0m\u001b[0;34m\u001b[0m\u001b[0;34m\u001b[0m\u001b[0m\n",
            "\u001b[0;32m/usr/local/lib/python3.6/dist-packages/pandas/tseries/offsets.py\u001b[0m in \u001b[0;36mapply\u001b[0;34m(self, other)\u001b[0m\n\u001b[1;32m    595\u001b[0m                 \u001b[0mdays\u001b[0m \u001b[0;34m=\u001b[0m \u001b[0mn\u001b[0m \u001b[0;34m+\u001b[0m \u001b[0;36m2\u001b[0m\u001b[0;34m\u001b[0m\u001b[0;34m\u001b[0m\u001b[0m\n\u001b[1;32m    596\u001b[0m \u001b[0;34m\u001b[0m\u001b[0m\n\u001b[0;32m--> 597\u001b[0;31m             \u001b[0mresult\u001b[0m \u001b[0;34m=\u001b[0m \u001b[0mother\u001b[0m \u001b[0;34m+\u001b[0m \u001b[0mtimedelta\u001b[0m\u001b[0;34m(\u001b[0m\u001b[0mdays\u001b[0m\u001b[0;34m=\u001b[0m\u001b[0;36m7\u001b[0m \u001b[0;34m*\u001b[0m \u001b[0mweeks\u001b[0m \u001b[0;34m+\u001b[0m \u001b[0mdays\u001b[0m\u001b[0;34m)\u001b[0m\u001b[0;34m\u001b[0m\u001b[0;34m\u001b[0m\u001b[0m\n\u001b[0m\u001b[1;32m    598\u001b[0m             \u001b[0;32mif\u001b[0m \u001b[0mself\u001b[0m\u001b[0;34m.\u001b[0m\u001b[0moffset\u001b[0m\u001b[0;34m:\u001b[0m\u001b[0;34m\u001b[0m\u001b[0;34m\u001b[0m\u001b[0m\n\u001b[1;32m    599\u001b[0m                 \u001b[0mresult\u001b[0m \u001b[0;34m=\u001b[0m \u001b[0mresult\u001b[0m \u001b[0;34m+\u001b[0m \u001b[0mself\u001b[0m\u001b[0;34m.\u001b[0m\u001b[0moffset\u001b[0m\u001b[0;34m\u001b[0m\u001b[0;34m\u001b[0m\u001b[0m\n",
            "\u001b[0;32mpandas/_libs/tslibs/c_timestamp.pyx\u001b[0m in \u001b[0;36mpandas._libs.tslibs.c_timestamp._Timestamp.__add__\u001b[0;34m()\u001b[0m\n",
            "\u001b[0;31mOverflowError\u001b[0m: Python int too large to convert to C long"
          ]
        }
      ]
    },
    {
      "cell_type": "code",
      "metadata": {
        "id": "l8Yv8f4UrYDD",
        "colab_type": "code",
        "colab": {
          "base_uri": "https://localhost:8080/",
          "height": 71
        },
        "outputId": "077cb3d3-e2d1-4a5c-e912-9a0f4bd80e92"
      },
      "source": [
        "trnsx2, cont2 = getTestData(15,5,5,10000)"
      ],
      "execution_count": 231,
      "outputs": [
        {
          "output_type": "stream",
          "text": [
            "/usr/local/lib/python3.6/dist-packages/ipykernel_launcher.py:5: FutureWarning: Creating a DatetimeIndex by passing range endpoints is deprecated.  Use `pandas.date_range` instead.\n",
            "  \"\"\"\n"
          ],
          "name": "stderr"
        }
      ]
    },
    {
      "cell_type": "code",
      "metadata": {
        "id": "wo1qE8HquXtl",
        "colab_type": "code",
        "colab": {}
      },
      "source": [
        "y2 = cont2.bin\n",
        "c2 = cont2"
      ],
      "execution_count": 0,
      "outputs": []
    },
    {
      "cell_type": "markdown",
      "metadata": {
        "id": "ACLNqG-Ix8gl",
        "colab_type": "text"
      },
      "source": [
        "반복문쓰는거 잘 좀 알고싶다."
      ]
    },
    {
      "cell_type": "code",
      "metadata": {
        "id": "KGCSM9gAranh",
        "colab_type": "code",
        "colab": {}
      },
      "source": [
        "xa = trnsx2.iloc[0:2000]\n",
        "xb = trnsx2.iloc[2000:4000]\n",
        "xc = trnsx2.iloc[4000:6000]\n",
        "xd = trnsx2.iloc[6000:8000]\n",
        "xe = trnsx2.iloc[8000:10000]\n",
        "\n",
        "ca = c2.iloc[0:2000]\n",
        "cb = c2.iloc[2000:4000]\n",
        "cc = c2.iloc[4000:6000]\n",
        "cd = c2.iloc[6000:8000]\n",
        "ce = c2.iloc[8000:10000]\n",
        "\n",
        "ya = y2.iloc[0:2000]\n",
        "yb = y2.iloc[2000:4000]\n",
        "yc = y2.iloc[4000:6000]\n",
        "yd = y2.iloc[6000:8000]\n",
        "ye = y2.iloc[8000:10000]"
      ],
      "execution_count": 0,
      "outputs": []
    },
    {
      "cell_type": "code",
      "metadata": {
        "id": "UkXCdAYWsuWl",
        "colab_type": "code",
        "colab": {
          "base_uri": "https://localhost:8080/",
          "height": 527
        },
        "outputId": "fc15435c-8627-4865-87d9-90b93c72fbe1"
      },
      "source": [
        "cv_gena = cross_validation.PurgedKFold(3, ca['t1'], 0.01)\n",
        "cv_genb = cross_validation.PurgedKFold(3, cb['t1'], 0.01)\n",
        "cv_genc = cross_validation.PurgedKFold(3, cc['t1'], 0.01)\n",
        "cv_gend = cross_validation.PurgedKFold(3, cd['t1'], 0.01)\n",
        "cv_gene = cross_validation.PurgedKFold(3, ce['t1'], 0.01)\n",
        "\n",
        "\n",
        "mdaa = feature_importance.feature_importance_mean_decrease_accuracy(clf=clf, X=xa,y=ya,cv_gen=cv_gena, sample_weight=ca['w'])\n",
        "mdab = feature_importance.feature_importance_mean_decrease_accuracy(clf=clf, X=xb,y=yb,cv_gen=cv_genb, sample_weight=cb['w'])\n",
        "mdac = feature_importance.feature_importance_mean_decrease_accuracy(clf=clf, X=xc,y=yc,cv_gen=cv_genc, sample_weight=cc['w'])\n",
        "mdad = feature_importance.feature_importance_mean_decrease_accuracy(clf=clf, X=xd,y=yd,cv_gen=cv_gend, sample_weight=cd['w'])\n",
        "mdae = feature_importance.feature_importance_mean_decrease_accuracy(clf=clf, X=xe,y=ye,cv_gen=cv_gene, sample_weight=ce['w'])\n",
        "\n",
        "print(mdaa.sort_values('mean',ascending=False).head())\n",
        "print(mdab.sort_values('mean',ascending=False).head())\n",
        "print(mdac.sort_values('mean',ascending=False).head())\n",
        "print(mdad.sort_values('mean',ascending=False).head())\n",
        "print(mdae.sort_values('mean',ascending=False).head())"
      ],
      "execution_count": 241,
      "outputs": [
        {
          "output_type": "stream",
          "text": [
            "         mean       std\n",
            "I_1  0.050726  0.039985\n",
            "I_4  0.050608  0.042746\n",
            "I_0  0.036173  0.026800\n",
            "I_2  0.029134  0.025646\n",
            "I_3  0.027742  0.023558\n",
            "         mean       std\n",
            "I_4  0.286360  0.168057\n",
            "I_1  0.208924  0.132225\n",
            "R_0  0.198498  0.107133\n",
            "R_1  0.193157  0.104119\n",
            "R_4  0.160806  0.094777\n",
            "         mean       std\n",
            "I_4  0.063419  0.030933\n",
            "I_1  0.055401  0.083299\n",
            "R_3  0.049312  0.036539\n",
            "I_2  0.042037  0.094535\n",
            "R_0  0.036678  0.093618\n",
            "         mean       std\n",
            "I_2  0.107099  0.053764\n",
            "I_3  0.054742  0.019247\n",
            "I_0  0.022906  0.018156\n",
            "R_2  0.018924  0.012256\n",
            "R_4  0.005360  0.046685\n",
            "         mean       std\n",
            "I_4  0.090705  0.155269\n",
            "I_3  0.008340  0.003794\n",
            "N_3  0.001184  0.001020\n",
            "N_1 -0.046717  0.045153\n",
            "N_4 -0.118183  0.120620\n"
          ],
          "name": "stdout"
        }
      ]
    },
    {
      "cell_type": "code",
      "metadata": {
        "id": "acvUP5wHvITT",
        "colab_type": "code",
        "colab": {}
      },
      "source": [
        "따로해서합친거 = (mdaa['mean']+\n",
        "mdab['mean']+\n",
        "mdac['mean']+\n",
        "mdad['mean']+\n",
        "mdae['mean'])"
      ],
      "execution_count": 0,
      "outputs": []
    },
    {
      "cell_type": "code",
      "metadata": {
        "id": "yds0PfHCwdZM",
        "colab_type": "code",
        "colab": {
          "base_uri": "https://localhost:8080/",
          "height": 514
        },
        "outputId": "04c569b9-8e29-4917-847b-745d76b1fe51"
      },
      "source": [
        "따로해서합친거.to_frame().sort_values('mean',ascending=False)"
      ],
      "execution_count": 249,
      "outputs": [
        {
          "output_type": "execute_result",
          "data": {
            "text/html": [
              "<div>\n",
              "<style scoped>\n",
              "    .dataframe tbody tr th:only-of-type {\n",
              "        vertical-align: middle;\n",
              "    }\n",
              "\n",
              "    .dataframe tbody tr th {\n",
              "        vertical-align: top;\n",
              "    }\n",
              "\n",
              "    .dataframe thead th {\n",
              "        text-align: right;\n",
              "    }\n",
              "</style>\n",
              "<table border=\"1\" class=\"dataframe\">\n",
              "  <thead>\n",
              "    <tr style=\"text-align: right;\">\n",
              "      <th></th>\n",
              "      <th>mean</th>\n",
              "    </tr>\n",
              "  </thead>\n",
              "  <tbody>\n",
              "    <tr>\n",
              "      <th>I_4</th>\n",
              "      <td>0.473738</td>\n",
              "    </tr>\n",
              "    <tr>\n",
              "      <th>I_3</th>\n",
              "      <td>0.215172</td>\n",
              "    </tr>\n",
              "    <tr>\n",
              "      <th>N_1</th>\n",
              "      <td>0.074096</td>\n",
              "    </tr>\n",
              "    <tr>\n",
              "      <th>I_2</th>\n",
              "      <td>-0.001060</td>\n",
              "    </tr>\n",
              "    <tr>\n",
              "      <th>N_3</th>\n",
              "      <td>-0.005419</td>\n",
              "    </tr>\n",
              "    <tr>\n",
              "      <th>I_0</th>\n",
              "      <td>-0.007445</td>\n",
              "    </tr>\n",
              "    <tr>\n",
              "      <th>R_2</th>\n",
              "      <td>-0.125504</td>\n",
              "    </tr>\n",
              "    <tr>\n",
              "      <th>N_2</th>\n",
              "      <td>-0.151261</td>\n",
              "    </tr>\n",
              "    <tr>\n",
              "      <th>I_1</th>\n",
              "      <td>-0.276663</td>\n",
              "    </tr>\n",
              "    <tr>\n",
              "      <th>R_0</th>\n",
              "      <td>-0.444877</td>\n",
              "    </tr>\n",
              "    <tr>\n",
              "      <th>R_3</th>\n",
              "      <td>-0.514616</td>\n",
              "    </tr>\n",
              "    <tr>\n",
              "      <th>N_0</th>\n",
              "      <td>-0.558409</td>\n",
              "    </tr>\n",
              "    <tr>\n",
              "      <th>R_1</th>\n",
              "      <td>-1.149321</td>\n",
              "    </tr>\n",
              "    <tr>\n",
              "      <th>R_4</th>\n",
              "      <td>-1.368370</td>\n",
              "    </tr>\n",
              "    <tr>\n",
              "      <th>N_4</th>\n",
              "      <td>-1.609022</td>\n",
              "    </tr>\n",
              "  </tbody>\n",
              "</table>\n",
              "</div>"
            ],
            "text/plain": [
              "         mean\n",
              "I_4  0.473738\n",
              "I_3  0.215172\n",
              "N_1  0.074096\n",
              "I_2 -0.001060\n",
              "N_3 -0.005419\n",
              "I_0 -0.007445\n",
              "R_2 -0.125504\n",
              "N_2 -0.151261\n",
              "I_1 -0.276663\n",
              "R_0 -0.444877\n",
              "R_3 -0.514616\n",
              "N_0 -0.558409\n",
              "R_1 -1.149321\n",
              "R_4 -1.368370\n",
              "N_4 -1.609022"
            ]
          },
          "metadata": {
            "tags": []
          },
          "execution_count": 249
        }
      ]
    },
    {
      "cell_type": "code",
      "metadata": {
        "id": "fCxCDjFnw-84",
        "colab_type": "code",
        "colab": {
          "base_uri": "https://localhost:8080/",
          "height": 514
        },
        "outputId": "78aa926e-b5e5-45f2-9759-bc6e1f8084b2"
      },
      "source": [
        "cv_gen2 = cross_validation.PurgedKFold(3, cont2['t1'], 0.01)\n",
        "합쳐서한거 = feature_importance.feature_importance_mean_decrease_accuracy(clf=clf, X=trnsx2,y=y2,cv_gen=cv_gen2, sample_weight=cont2['w'])\n",
        "합쳐서한거.sort_values('mean',ascending=False)"
      ],
      "execution_count": 250,
      "outputs": [
        {
          "output_type": "execute_result",
          "data": {
            "text/html": [
              "<div>\n",
              "<style scoped>\n",
              "    .dataframe tbody tr th:only-of-type {\n",
              "        vertical-align: middle;\n",
              "    }\n",
              "\n",
              "    .dataframe tbody tr th {\n",
              "        vertical-align: top;\n",
              "    }\n",
              "\n",
              "    .dataframe thead th {\n",
              "        text-align: right;\n",
              "    }\n",
              "</style>\n",
              "<table border=\"1\" class=\"dataframe\">\n",
              "  <thead>\n",
              "    <tr style=\"text-align: right;\">\n",
              "      <th></th>\n",
              "      <th>mean</th>\n",
              "      <th>std</th>\n",
              "    </tr>\n",
              "  </thead>\n",
              "  <tbody>\n",
              "    <tr>\n",
              "      <th>R_0</th>\n",
              "      <td>0.087175</td>\n",
              "      <td>0.078179</td>\n",
              "    </tr>\n",
              "    <tr>\n",
              "      <th>I_2</th>\n",
              "      <td>0.058215</td>\n",
              "      <td>0.037020</td>\n",
              "    </tr>\n",
              "    <tr>\n",
              "      <th>I_1</th>\n",
              "      <td>0.046753</td>\n",
              "      <td>0.056338</td>\n",
              "    </tr>\n",
              "    <tr>\n",
              "      <th>N_4</th>\n",
              "      <td>0.016077</td>\n",
              "      <td>0.006397</td>\n",
              "    </tr>\n",
              "    <tr>\n",
              "      <th>N_1</th>\n",
              "      <td>0.015364</td>\n",
              "      <td>0.007402</td>\n",
              "    </tr>\n",
              "    <tr>\n",
              "      <th>I_0</th>\n",
              "      <td>0.002690</td>\n",
              "      <td>0.079281</td>\n",
              "    </tr>\n",
              "    <tr>\n",
              "      <th>N_3</th>\n",
              "      <td>0.000991</td>\n",
              "      <td>0.012477</td>\n",
              "    </tr>\n",
              "    <tr>\n",
              "      <th>N_0</th>\n",
              "      <td>-0.001794</td>\n",
              "      <td>0.002800</td>\n",
              "    </tr>\n",
              "    <tr>\n",
              "      <th>N_2</th>\n",
              "      <td>-0.002218</td>\n",
              "      <td>0.002262</td>\n",
              "    </tr>\n",
              "    <tr>\n",
              "      <th>R_3</th>\n",
              "      <td>-0.003272</td>\n",
              "      <td>0.056308</td>\n",
              "    </tr>\n",
              "    <tr>\n",
              "      <th>I_3</th>\n",
              "      <td>-0.007815</td>\n",
              "      <td>0.031629</td>\n",
              "    </tr>\n",
              "    <tr>\n",
              "      <th>R_2</th>\n",
              "      <td>-0.010238</td>\n",
              "      <td>0.037890</td>\n",
              "    </tr>\n",
              "    <tr>\n",
              "      <th>I_4</th>\n",
              "      <td>-0.059665</td>\n",
              "      <td>0.116566</td>\n",
              "    </tr>\n",
              "    <tr>\n",
              "      <th>R_4</th>\n",
              "      <td>-0.061172</td>\n",
              "      <td>0.070630</td>\n",
              "    </tr>\n",
              "    <tr>\n",
              "      <th>R_1</th>\n",
              "      <td>-0.067892</td>\n",
              "      <td>0.100482</td>\n",
              "    </tr>\n",
              "  </tbody>\n",
              "</table>\n",
              "</div>"
            ],
            "text/plain": [
              "         mean       std\n",
              "R_0  0.087175  0.078179\n",
              "I_2  0.058215  0.037020\n",
              "I_1  0.046753  0.056338\n",
              "N_4  0.016077  0.006397\n",
              "N_1  0.015364  0.007402\n",
              "I_0  0.002690  0.079281\n",
              "N_3  0.000991  0.012477\n",
              "N_0 -0.001794  0.002800\n",
              "N_2 -0.002218  0.002262\n",
              "R_3 -0.003272  0.056308\n",
              "I_3 -0.007815  0.031629\n",
              "R_2 -0.010238  0.037890\n",
              "I_4 -0.059665  0.116566\n",
              "R_4 -0.061172  0.070630\n",
              "R_1 -0.067892  0.100482"
            ]
          },
          "metadata": {
            "tags": []
          },
          "execution_count": 250
        }
      ]
    },
    {
      "cell_type": "markdown",
      "metadata": {
        "id": "9GtloSJdxucL",
        "colab_type": "text"
      },
      "source": [
        "딱히 우열이 가려지진않는다.."
      ]
    },
    {
      "cell_type": "markdown",
      "metadata": {
        "id": "ZQ1EPqqcxkqx",
        "colab_type": "text"
      },
      "source": [
        "#5. Repeat all MDI calculations from exercises 1–4, but this time allow for masking effects. That means, do not set max_features=int(1) in Snippet 8.2. How do results differ as a consequence of this change? Why?"
      ]
    },
    {
      "cell_type": "code",
      "metadata": {
        "id": "sPB6PRgGx26J",
        "colab_type": "code",
        "colab": {
          "base_uri": "https://localhost:8080/",
          "height": 491
        },
        "outputId": "e7e0daa3-8a7f-483f-b891-fec731c093fb"
      },
      "source": [
        "# 2번 것으로 하겠다.\n",
        "#우선 max_features=1로 했을때,\n",
        "print(mdi2.sort_values('mean',ascending=False).head(8))\n",
        "feature_importance.plot_feature_importance(imp=mdi2,oob_score=1,oos_score=1)"
      ],
      "execution_count": 255,
      "outputs": [
        {
          "output_type": "stream",
          "text": [
            "         mean       std\n",
            "2    0.110418  0.008164\n",
            "R_0  0.089293  0.006263\n",
            "I_1  0.087870  0.006481\n",
            "I_4  0.066689  0.003593\n",
            "0    0.054217  0.003204\n",
            "I_2  0.053678  0.002719\n",
            "R_1  0.053399  0.003367\n",
            "I_0  0.049011  0.002186\n"
          ],
          "name": "stdout"
        },
        {
          "output_type": "display_data",
          "data": {
            "image/png": "[encoded data removed]",
            "text/plain": [
              "<Figure size 720x360 with 1 Axes>"
            ]
          },
          "metadata": {
            "tags": []
          }
        }
      ]
    },
    {
      "cell_type": "code",
      "metadata": {
        "id": "r53GZjY5ybC2",
        "colab_type": "code",
        "colab": {}
      },
      "source": [
        "#max_features = 자동으로 놓겠다.\n",
        "\n",
        "clf2 = RandomForestClassifier(n_estimators=100,criterion='entropy',class_weight='balanced_subsample',oob_score=True)\n",
        "fitb = clf2.fit(X2,y)"
      ],
      "execution_count": 0,
      "outputs": []
    },
    {
      "cell_type": "code",
      "metadata": {
        "id": "8PBRfEAyyvK_",
        "colab_type": "code",
        "colab": {
          "base_uri": "https://localhost:8080/",
          "height": 491
        },
        "outputId": "919f2b0c-aea9-4f78-c48f-cc0dc7666282"
      },
      "source": [
        "mdib = feature_importance.feature_importance_mean_decrease_impurity(clf=fitb, feature_names = X2.columns.to_list())\n",
        "print(mdib.sort_values('mean',ascending=False).head(8))\n",
        "feature_importance.plot_feature_importance(imp=mdib,oob_score=1,oos_score=1)"
      ],
      "execution_count": 260,
      "outputs": [
        {
          "output_type": "stream",
          "text": [
            "         mean       std\n",
            "2    0.185775  0.010740\n",
            "R_0  0.123753  0.007559\n",
            "I_1  0.091851  0.007771\n",
            "I_2  0.072063  0.003094\n",
            "I_4  0.064726  0.004702\n",
            "3    0.056325  0.001353\n",
            "0    0.047745  0.004094\n",
            "R_3  0.045579  0.002898\n"
          ],
          "name": "stdout"
        },
        {
          "output_type": "display_data",
          "data": {
            "image/png": "[encoded data removed]",
            "text/plain": [
              "<Figure size 720x360 with 1 Axes>"
            ]
          },
          "metadata": {
            "tags": []
          }
        }
      ]
    },
    {
      "cell_type": "markdown",
      "metadata": {
        "id": "m4PrP-oJz1nx",
        "colab_type": "text"
      },
      "source": [
        "순위가 조금 다르고, max_features=1일때 importance가 더 고르다."
      ]
    },
    {
      "cell_type": "markdown",
      "metadata": {
        "id": "L6L2wLCI0E_Q",
        "colab_type": "text"
      },
      "source": [
        "Masking effects take place when some features are systematically ignored\n",
        "by tree-based classifiers in favor of others. In order to avoid them, set\n",
        "max_features=int(1)when using sklearn’s RF class. In this way, only one\n",
        "random feature is considered per level."
      ]
    },
    {
      "cell_type": "markdown",
      "metadata": {
        "id": "9OBt9gtI0OdU",
        "colab_type": "text"
      },
      "source": [
        "(a) Every feature is given a chance (at some random levels of some random\n",
        "trees) to reduce impurity.\n",
        "\n",
        "(b) Make sure that features with zero importance are not averaged, since the\n",
        "only reason for a 0 is that the feature was not randomly chosen. Replace\n",
        "those values with np.nan."
      ]
    },
    {
      "cell_type": "code",
      "metadata": {
        "id": "9urZ7GE2zQ8P",
        "colab_type": "code",
        "colab": {}
      },
      "source": [
        ""
      ],
      "execution_count": 0,
      "outputs": []
    }
  ]
}