{
  "nbformat": 4,
  "nbformat_minor": 0,
  "metadata": {
    "colab": {
      "name": "Chapter10",
      "provenance": [],
      "collapsed_sections": [
        "_o8fSFBBkQ9-"
      ],
      "include_colab_link": true
    },
    "kernelspec": {
      "name": "python3",
      "display_name": "Python 3"
    },
    "accelerator": "GPU"
  },
  "cells": [
    {
      "cell_type": "markdown",
      "metadata": {
        "id": "view-in-github",
        "colab_type": "text"
      },
      "source": [
        "<a href=\"https://colab.research.google.com/github/jo-cho/advanced_in_financial_machine_learning/blob/master/Chapter_10.ipynb\" target=\"_parent\"><img src=\"https://colab.research.google.com/assets/colab-badge.svg\" alt=\"Open In Colab\"/></a>"
      ]
    },
    {
      "cell_type": "markdown",
      "metadata": {
        "id": "-QiSb3F511Su",
        "colab_type": "text"
      },
      "source": [
        "Chapter 10 Bet Sizing"
      ]
    },
    {
      "cell_type": "markdown",
      "metadata": {
        "id": "5AM7JlBP2D3p",
        "colab_type": "text"
      },
      "source": [
        "# Exercises"
      ]
    },
    {
      "cell_type": "code",
      "metadata": {
        "id": "-j60DByo4iVO",
        "colab_type": "code",
        "colab": {}
      },
      "source": [
        "import numpy as np\n",
        "import pandas as pd\n",
        "import datetime as dt\n",
        "\n",
        "import matplotlib.pyplot as plt\n",
        "from matplotlib import cm\n",
        "import seaborn as sns; sns.set()\n",
        "\n",
        "from scipy.stats import norm, moment\n",
        "\n",
        "from dask.diagnostics import ProgressBar\n",
        "ProgressBar().register()  # ready progress bar once in notebook for later calculations\n",
        "\n",
        "from sklearn.neighbors import KernelDensity\n"
      ],
      "execution_count": 0,
      "outputs": []
    },
    {
      "cell_type": "code",
      "metadata": {
        "id": "K7deW2Deiyuk",
        "colab_type": "code",
        "colab": {}
      },
      "source": [
        "# 멀티프로세싱\n",
        "\n",
        "import time\n",
        "import sys\n",
        "\n",
        "def linParts(numAtoms,numThreads):\n",
        "    # partition of atoms with a single loop\n",
        "    parts=np.linspace(0,numAtoms,min(numThreads,numAtoms)+1)\n",
        "    parts=np.ceil(parts).astype(int)\n",
        "    return parts\n",
        "\n",
        "def nestedParts(numAtoms,numThreads,upperTriang=False):\n",
        "    # partition of atoms with an inner loop\n",
        "    parts,numThreads_=[0],min(numThreads,numAtoms)\n",
        "    for num in range(numThreads_):\n",
        "        part=1+4*(parts[-1]**2+parts[-1]+numAtoms*(numAtoms+1.)/numThreads_)\n",
        "        part=(-1+part**.5)/2.\n",
        "        parts.append(part)\n",
        "    parts=np.round(parts).astype(int)\n",
        "    if upperTriang: # the first rows are heaviest\n",
        "        parts=np.cumsum(np.diff(parts)[::-1])\n",
        "        parts=np.append(np.array([0]),parts)\n",
        "    return parts\n",
        "# =======================================================\n",
        "# single-thread execution for debugging [20.8]\n",
        "def processJobs_(jobs):\n",
        "    # Run jobs sequentially, for debugging\n",
        "    out=[]\n",
        "    for job in jobs:\n",
        "        out_=expandCall(job)\n",
        "        out.append(out_)\n",
        "    return out\n",
        "# =======================================================\n",
        "# Example of async call to multiprocessing lib [20.9]\n",
        "import multiprocessing as mp\n",
        "import datetime as dt\n",
        "\n",
        "#________________________________\n",
        "def reportProgress(jobNum,numJobs,time0,task):\n",
        "    # Report progress as asynch jobs are completed\n",
        "    msg=[float(jobNum)/numJobs, (time.time()-time0)/60.]\n",
        "    msg.append(msg[1]*(1/msg[0]-1))\n",
        "    timeStamp=str(dt.datetime.fromtimestamp(time.time()))\n",
        "    msg=timeStamp+' '+str(round(msg[0]*100,2))+'% '+task+' done after '+ \\\n",
        "        str(round(msg[1],2))+' minutes. Remaining '+str(round(msg[2],2))+' minutes.'\n",
        "    if jobNum<numJobs:sys.stderr.write(msg+'\\r')\n",
        "    else:sys.stderr.write(msg+'\\n')\n",
        "    return\n",
        "#________________________________\n",
        "def processJobs(jobs,task=None,numThreads=24):\n",
        "    # Run in parallel.\n",
        "    # jobs must contain a 'func' callback, for expandCall\n",
        "    if task is None:task=jobs[0]['func'].__name__\n",
        "    pool=mp.Pool(processes=numThreads)\n",
        "    outputs,out,time0=pool.imap_unordered(expandCall,jobs),[],time.time()\n",
        "    # Process asyn output, report progress\n",
        "    for i,out_ in enumerate(outputs,1):\n",
        "        out.append(out_)\n",
        "        reportProgress(i,len(jobs),time0,task)\n",
        "    pool.close();pool.join() # this is needed to prevent memory leaks\n",
        "    return out\n",
        "# =======================================================\n",
        "# Unwrapping the Callback [20.10]\n",
        "def expandCall(kargs):\n",
        "    # Expand the arguments of a callback function, kargs['func']\n",
        "    func=kargs['func']\n",
        "    del kargs['func']\n",
        "    out=func(**kargs)\n",
        "    return out\n",
        "# =======================================================\n",
        "# Pickle Unpickling Objects [20.11]\n",
        "def _pickle_method(method):\n",
        "    func_name=method.im_func.__name__\n",
        "    obj=method.im_self\n",
        "    cls=method.im_class\n",
        "    return _unpickle_method, (func_name,obj,cls)\n",
        "#________________________________\n",
        "def _unpickle_method(func_name,obj,cls):\n",
        "    for cls in cls.mro():\n",
        "        try:func=cls.__dict__[func_name]\n",
        "        except KeyError:pass\n",
        "        else:break\n",
        "    return func.__get__(obj,cls)\n",
        "#________________________________\n",
        "def mpPandasObj(func,pdObj,numThreads=24,mpBatches=1,linMols=True,**kargs):\n",
        "    '''\n",
        "    Parallelize jobs, return a dataframe or series\n",
        "    + func: function to be parallelized. Returns a DataFrame\n",
        "    + pdObj[0]: Name of argument used to pass the molecule\n",
        "    + pdObj[1]: List of atoms that will be grouped into molecules\n",
        "    + kwds: any other argument needed by func\n",
        "    Example: df1=mpPandasObj(func,('molecule',df0.index),24,**kwds)\n",
        "    '''\n",
        "    import pandas as pd\n",
        "    #if linMols:parts=linParts(len(argList[1]),numThreads*mpBatches)\n",
        "    #else:parts=nestedParts(len(argList[1]),numThreads*mpBatches)\n",
        "    if linMols:parts=linParts(len(pdObj[1]),numThreads*mpBatches)\n",
        "    else:parts=nestedParts(len(pdObj[1]),numThreads*mpBatches)\n",
        "\n",
        "    jobs=[]\n",
        "    for i in range(1,len(parts)):\n",
        "        job={pdObj[0]:pdObj[1][parts[i-1]:parts[i]],'func':func}\n",
        "        job.update(kargs)\n",
        "        jobs.append(job)\n",
        "    if numThreads==1:out=processJobs_(jobs)\n",
        "    else: out=processJobs(jobs,numThreads=numThreads)\n",
        "    if isinstance(out[0],pd.DataFrame):df0=pd.DataFrame()\n",
        "    elif isinstance(out[0],pd.Series):df0=pd.Series()\n",
        "    else:return out\n",
        "    for i in out:df0=df0.append(i)\n",
        "    df0=df0.sort_index()\n",
        "    return df0"
      ],
      "execution_count": 0,
      "outputs": []
    },
    {
      "cell_type": "markdown",
      "metadata": {
        "id": "HvGOgCIR1rdY",
        "colab_type": "text"
      },
      "source": [
        "## 1. Using the formulation in Section 10.3, plot the bet size (m) as a function of the maximum predicted probability $(\\tilde{p})$ when ‖X‖ = 2, 3,…, 10"
      ]
    },
    {
      "cell_type": "markdown",
      "metadata": {
        "id": "IE6xgy33xACB",
        "colab_type": "text"
      },
      "source": [
        "- $ z = \\frac{\\tilde{p}− \\frac{1}{‖X‖}}{\\sqrt{p(1-\\tilde{p})}} ∼Z $\n",
        "- $ m = x (2Z [z] − 1) $\n"
      ]
    },
    {
      "cell_type": "code",
      "metadata": {
        "id": "nOR-kwy4kU6T",
        "colab_type": "code",
        "colab": {
          "base_uri": "https://localhost:8080/",
          "height": 412
        },
        "outputId": "404a037e-310f-4b5c-ecc4-942d059f10f4"
      },
      "source": [
        "# This code is cloned from github.com/hudson-and-thames/research\n",
        "\n",
        "num_classes_list = [i for i in range(2, 11, 1)]  # array of number of classes, 2 to 10\n",
        "n = 10000  # number of points to plot\n",
        "colors = iter(cm.coolwarm(np.linspace(0,1,len(num_classes_list))))\n",
        "\n",
        "fig_10_1, ax_10_1 = plt.subplots(figsize=(10, 6))\n",
        "\n",
        "for num_classes in num_classes_list:\n",
        "    min_prob, max_prob = 1 / num_classes, 1  # possible range for maximum predicted probability, [1/||X||, 1] !!!그렇단다\n",
        "    P = np.linspace(min_prob, max_prob, n, endpoint=False)  # range of maximum predicted probabilities to plot\n",
        "    z = (P - min_prob) / (P*(1-P))**0.5\n",
        "    m = 2 * norm.cdf(z) - 1\n",
        "    ax_10_1.plot(P, m, label=f\"||X||={num_classes}\", linewidth=2, alpha=1, color=colors.__next__())\n",
        "\n",
        "ax_10_1.set_ylabel(\"Bet Size $m=2Z[z]-1$\", fontsize=10)\n",
        "ax_10_1.set_xlabel(r\"Maximum Predicted Probability $\\tilde{p}=max_i${$p_i$}\", fontsize=10)\n",
        "ax_10_1.set_title(\"Bet Size vs. Maximum Predicted Probability\", fontsize=12)\n",
        "ax_10_1.set_xticks([0.1*i for i in range(11)])\n",
        "ax_10_1.set_yticks([0.1*i for i in range(11)])\n",
        "ax_10_1.legend(loc=\"upper left\", fontsize=8, title=\"Number of bet size labels\", title_fontsize=9)\n",
        "ax_10_1.set_ylim((0,1.05))\n",
        "ax_10_1.set_xlim((0, 1.05))\n",
        "ax_10_1.grid(linewidth=1, linestyle=':')\n",
        "\n",
        "plt.show()"
      ],
      "execution_count": 158,
      "outputs": [
        {
          "output_type": "display_data",
          "data": {
            "image/png": "[encoded data removed]",
            "text/plain": [
              "<Figure size 720x432 with 1 Axes>"
            ]
          },
          "metadata": {
            "tags": []
          }
        }
      ]
    },
    {
      "cell_type": "markdown",
      "metadata": {
        "id": "-q4pt8pYpVHV",
        "colab_type": "text"
      },
      "source": [
        "예측된 최대 확률로 나타낸 bet size의 함수이다. long만 생각한 것이다. 당연히 예상되는 최대 확률이 높으면 bet size가 커진다. 최대확률이 $\\frac{1}{||X||}$ 보다 작으면 베팅하지 않는다. \n",
        "\n",
        "--Note--\n",
        "\n",
        "$||X||$가 클수록 bet size를 1로 놓는 순간이 빠르다, since the greater number of alternative bets spreads the remaining probability much thinner, leading to a greater confidence in that with the maximum predicted probability."
      ]
    },
    {
      "cell_type": "markdown",
      "metadata": {
        "id": "KY45YPZ-wn5r",
        "colab_type": "text"
      },
      "source": [
        "## 2. Draw 10,000 random numbers from a uniform distribution with bounds U[.5, 1.]. (Author's note: These exercises are intended to simulate dynamic bet sizing of a long-only strategy.)"
      ]
    },
    {
      "cell_type": "code",
      "metadata": {
        "id": "txH3mDaOw43a",
        "colab_type": "code",
        "colab": {}
      },
      "source": [
        "# draw random numbers from a uniform distribution (all bets are long)\n",
        "np.random.seed(0)\n",
        "n = 10000\n",
        "P_t = np.random.uniform(.5, 1., n)  # array of random from uniform dist."
      ],
      "execution_count": 0,
      "outputs": []
    },
    {
      "cell_type": "markdown",
      "metadata": {
        "id": "3L0YhkDywy8r",
        "colab_type": "text"
      },
      "source": [
        "### (a) Compute bet sizes m for $||X||=2$."
      ]
    },
    {
      "cell_type": "code",
      "metadata": {
        "id": "89IbAEegwnNb",
        "colab_type": "code",
        "colab": {
          "base_uri": "https://localhost:8080/",
          "height": 51
        },
        "outputId": "a5418e63-4355-43bd-f400-24528e258a84"
      },
      "source": [
        "z = (P_t - 1/2) /  (P_t*(1-P_t))**0.5\n",
        "m = 2 * norm.cdf(z) - 1\n",
        "m"
      ],
      "execution_count": 160,
      "outputs": [
        {
          "output_type": "execute_result",
          "data": {
            "text/plain": [
              "array([0.48850964, 0.69381609, 0.55000197, ..., 0.75544329, 0.0189832 ,\n",
              "       0.83824514])"
            ]
          },
          "metadata": {
            "tags": []
          },
          "execution_count": 160
        }
      ]
    },
    {
      "cell_type": "markdown",
      "metadata": {
        "id": "QmBI2gSUxjFp",
        "colab_type": "text"
      },
      "source": [
        "### (b) Assign 10,000 consecutive calendar days"
      ]
    },
    {
      "cell_type": "code",
      "metadata": {
        "id": "pudhwe_DxfkK",
        "colab_type": "code",
        "colab": {
          "base_uri": "https://localhost:8080/",
          "height": 221
        },
        "outputId": "06af1d4a-4910-4949-c5e5-91b913ece480"
      },
      "source": [
        "start_date = dt.datetime(1992, 7, 22)  # starting at 01-JAN-1992\n",
        "date_step = dt.timedelta(days=1)\n",
        "dates = np.array([start_date + i*date_step for i in range(n)])\n",
        "bet_sizes = pd.Series(data=m, index=dates)\n",
        "bet_sizes"
      ],
      "execution_count": 161,
      "outputs": [
        {
          "output_type": "execute_result",
          "data": {
            "text/plain": [
              "1992-07-22    0.488510\n",
              "1992-07-23    0.693816\n",
              "1992-07-24    0.550002\n",
              "1992-07-25    0.484193\n",
              "1992-07-26    0.360002\n",
              "                ...   \n",
              "2019-12-03    0.490310\n",
              "2019-12-04    0.334799\n",
              "2019-12-05    0.755443\n",
              "2019-12-06    0.018983\n",
              "2019-12-07    0.838245\n",
              "Length: 10000, dtype: float64"
            ]
          },
          "metadata": {
            "tags": []
          },
          "execution_count": 161
        }
      ]
    },
    {
      "cell_type": "markdown",
      "metadata": {
        "id": "MzIk_IdGxeaR",
        "colab_type": "text"
      },
      "source": [
        "### (c) Draw 10,000 random numbers from a uniform distribution with bounds U[1, 25]."
      ]
    },
    {
      "cell_type": "code",
      "metadata": {
        "id": "hUzMT9ndymc-",
        "colab_type": "code",
        "colab": {}
      },
      "source": [
        "# 재미를 위해 25 대신 10으로 하겠다.\n",
        "\n",
        "rn = np.random.uniform(1, 10, n)\n",
        "rn = rn.round()"
      ],
      "execution_count": 0,
      "outputs": []
    },
    {
      "cell_type": "markdown",
      "metadata": {
        "id": "h595_oehy_UA",
        "colab_type": "text"
      },
      "source": [
        "### (d) Form a pandas.Series indexed by the dates in 2.b, and with values equal to the index shifted forward the number of days in 2.c. This is a t1 object similar to the ones we used in Chapter 3."
      ]
    },
    {
      "cell_type": "code",
      "metadata": {
        "id": "OXyMtL49zC44",
        "colab_type": "code",
        "colab": {
          "base_uri": "https://localhost:8080/",
          "height": 68
        },
        "outputId": "478a50b7-62bc-4412-a478-0cf8e35e0fa7"
      },
      "source": [
        "shift_day = np.array([dt.timedelta(days=ndays) for ndays in rn])\n",
        "shift_day"
      ],
      "execution_count": 163,
      "outputs": [
        {
          "output_type": "execute_result",
          "data": {
            "text/plain": [
              "array([datetime.timedelta(8), datetime.timedelta(3),\n",
              "       datetime.timedelta(5), ..., datetime.timedelta(5),\n",
              "       datetime.timedelta(4), datetime.timedelta(7)], dtype=object)"
            ]
          },
          "metadata": {
            "tags": []
          },
          "execution_count": 163
        }
      ]
    },
    {
      "cell_type": "code",
      "metadata": {
        "id": "fmWYKV0wz7_B",
        "colab_type": "code",
        "colab": {
          "base_uri": "https://localhost:8080/",
          "height": 221
        },
        "outputId": "30bfd22c-4a97-43f8-b492-decc245ce22b"
      },
      "source": [
        "dates_shifted = dates + shift_day\n",
        "\n",
        "t1 = pd.Series(data=dates_shifted, index=dates)\n",
        "t1"
      ],
      "execution_count": 164,
      "outputs": [
        {
          "output_type": "execute_result",
          "data": {
            "text/plain": [
              "1992-07-22   1992-07-30\n",
              "1992-07-23   1992-07-26\n",
              "1992-07-24   1992-07-29\n",
              "1992-07-25   1992-07-26\n",
              "1992-07-26   1992-07-27\n",
              "                ...    \n",
              "2019-12-03   2019-12-11\n",
              "2019-12-04   2019-12-08\n",
              "2019-12-05   2019-12-10\n",
              "2019-12-06   2019-12-10\n",
              "2019-12-07   2019-12-14\n",
              "Length: 10000, dtype: datetime64[ns]"
            ]
          },
          "metadata": {
            "tags": []
          },
          "execution_count": 164
        }
      ]
    },
    {
      "cell_type": "code",
      "metadata": {
        "id": "1JEOZ3t-Z7cA",
        "colab_type": "code",
        "colab": {
          "base_uri": "https://localhost:8080/",
          "height": 204
        },
        "outputId": "8c3a2e8b-17a7-4ca2-f7d7-31ab4162ab06"
      },
      "source": [
        "df_events = pd.concat(objs=[t1, bet_sizes], axis=1)\n",
        "df_events = df_events.rename(columns={0: 't1', 1: 'bet_size'})\n",
        "df_events['p'] = P_t\n",
        "df_events = df_events[['t1', 'p', 'bet_size']]\n",
        "df_events.head()"
      ],
      "execution_count": 165,
      "outputs": [
        {
          "output_type": "execute_result",
          "data": {
            "text/html": [
              "<div>\n",
              "<style scoped>\n",
              "    .dataframe tbody tr th:only-of-type {\n",
              "        vertical-align: middle;\n",
              "    }\n",
              "\n",
              "    .dataframe tbody tr th {\n",
              "        vertical-align: top;\n",
              "    }\n",
              "\n",
              "    .dataframe thead th {\n",
              "        text-align: right;\n",
              "    }\n",
              "</style>\n",
              "<table border=\"1\" class=\"dataframe\">\n",
              "  <thead>\n",
              "    <tr style=\"text-align: right;\">\n",
              "      <th></th>\n",
              "      <th>t1</th>\n",
              "      <th>p</th>\n",
              "      <th>bet_size</th>\n",
              "    </tr>\n",
              "  </thead>\n",
              "  <tbody>\n",
              "    <tr>\n",
              "      <th>1992-07-22</th>\n",
              "      <td>1992-07-30</td>\n",
              "      <td>0.774407</td>\n",
              "      <td>0.488510</td>\n",
              "    </tr>\n",
              "    <tr>\n",
              "      <th>1992-07-23</th>\n",
              "      <td>1992-07-26</td>\n",
              "      <td>0.857595</td>\n",
              "      <td>0.693816</td>\n",
              "    </tr>\n",
              "    <tr>\n",
              "      <th>1992-07-24</th>\n",
              "      <td>1992-07-29</td>\n",
              "      <td>0.801382</td>\n",
              "      <td>0.550002</td>\n",
              "    </tr>\n",
              "    <tr>\n",
              "      <th>1992-07-25</th>\n",
              "      <td>1992-07-26</td>\n",
              "      <td>0.772442</td>\n",
              "      <td>0.484193</td>\n",
              "    </tr>\n",
              "    <tr>\n",
              "      <th>1992-07-26</th>\n",
              "      <td>1992-07-27</td>\n",
              "      <td>0.711827</td>\n",
              "      <td>0.360002</td>\n",
              "    </tr>\n",
              "  </tbody>\n",
              "</table>\n",
              "</div>"
            ],
            "text/plain": [
              "                   t1         p  bet_size\n",
              "1992-07-22 1992-07-30  0.774407  0.488510\n",
              "1992-07-23 1992-07-26  0.857595  0.693816\n",
              "1992-07-24 1992-07-29  0.801382  0.550002\n",
              "1992-07-25 1992-07-26  0.772442  0.484193\n",
              "1992-07-26 1992-07-27  0.711827  0.360002"
            ]
          },
          "metadata": {
            "tags": []
          },
          "execution_count": 165
        }
      ]
    },
    {
      "cell_type": "markdown",
      "metadata": {
        "id": "a4MR_xv0Zxyi",
        "colab_type": "text"
      },
      "source": [
        "### (e) Compute the resulting average active bets, following Section 10.4."
      ]
    },
    {
      "cell_type": "markdown",
      "metadata": {
        "id": "O2KH6zWeaY5K",
        "colab_type": "text"
      },
      "source": [
        "what is average active bets?\n",
        "\n",
        "어느날 기준, 그 전날 중에서 t1이 어느날보다 뒤인 날들의 bet size들을 포함해 평균 낸 것.\n",
        "즉 과거에 베팅한 것들이 남아있을 때 그 베팅사이즈들도 고려해 평균 낸 것을 말한다.  "
      ]
    },
    {
      "cell_type": "code",
      "metadata": {
        "id": "Ed9070tVekob",
        "colab_type": "code",
        "colab": {
          "base_uri": "https://localhost:8080/",
          "height": 204
        },
        "outputId": "5b24479d-5b69-409b-ef2f-e3d81dc708c1"
      },
      "source": [
        "df_events = df_events.rename(columns={'bet_size': 'signal'})\n",
        "df_events.head()"
      ],
      "execution_count": 166,
      "outputs": [
        {
          "output_type": "execute_result",
          "data": {
            "text/html": [
              "<div>\n",
              "<style scoped>\n",
              "    .dataframe tbody tr th:only-of-type {\n",
              "        vertical-align: middle;\n",
              "    }\n",
              "\n",
              "    .dataframe tbody tr th {\n",
              "        vertical-align: top;\n",
              "    }\n",
              "\n",
              "    .dataframe thead th {\n",
              "        text-align: right;\n",
              "    }\n",
              "</style>\n",
              "<table border=\"1\" class=\"dataframe\">\n",
              "  <thead>\n",
              "    <tr style=\"text-align: right;\">\n",
              "      <th></th>\n",
              "      <th>t1</th>\n",
              "      <th>p</th>\n",
              "      <th>signal</th>\n",
              "    </tr>\n",
              "  </thead>\n",
              "  <tbody>\n",
              "    <tr>\n",
              "      <th>1992-07-22</th>\n",
              "      <td>1992-07-30</td>\n",
              "      <td>0.774407</td>\n",
              "      <td>0.488510</td>\n",
              "    </tr>\n",
              "    <tr>\n",
              "      <th>1992-07-23</th>\n",
              "      <td>1992-07-26</td>\n",
              "      <td>0.857595</td>\n",
              "      <td>0.693816</td>\n",
              "    </tr>\n",
              "    <tr>\n",
              "      <th>1992-07-24</th>\n",
              "      <td>1992-07-29</td>\n",
              "      <td>0.801382</td>\n",
              "      <td>0.550002</td>\n",
              "    </tr>\n",
              "    <tr>\n",
              "      <th>1992-07-25</th>\n",
              "      <td>1992-07-26</td>\n",
              "      <td>0.772442</td>\n",
              "      <td>0.484193</td>\n",
              "    </tr>\n",
              "    <tr>\n",
              "      <th>1992-07-26</th>\n",
              "      <td>1992-07-27</td>\n",
              "      <td>0.711827</td>\n",
              "      <td>0.360002</td>\n",
              "    </tr>\n",
              "  </tbody>\n",
              "</table>\n",
              "</div>"
            ],
            "text/plain": [
              "                   t1         p    signal\n",
              "1992-07-22 1992-07-30  0.774407  0.488510\n",
              "1992-07-23 1992-07-26  0.857595  0.693816\n",
              "1992-07-24 1992-07-29  0.801382  0.550002\n",
              "1992-07-25 1992-07-26  0.772442  0.484193\n",
              "1992-07-26 1992-07-27  0.711827  0.360002"
            ]
          },
          "metadata": {
            "tags": []
          },
          "execution_count": 166
        }
      ]
    },
    {
      "cell_type": "code",
      "metadata": {
        "id": "vBqhoWQIgBUu",
        "colab_type": "code",
        "colab": {}
      },
      "source": [
        "def mpAvgActiveSignals(signals,molecule):\n",
        "  '''\n",
        "  At time loc, average signal among those still active.\n",
        "  Signal is active if:\n",
        "  a) issued before or at loc AND\n",
        "  b) loc before signal's endtime, or endtime is still unknown (NaT).\n",
        "  '''\n",
        "\n",
        "  out=pd.Series()\n",
        "  for loc in molecule:\n",
        "    df0=(signals.index.values<=loc)&((loc<signals['t1'])|pd.isnull(signals['t1']))\n",
        "    act=signals[df0].index\n",
        "    if len(act)>0:\n",
        "      out[loc]=signals.loc[act,'signal'].mean()\n",
        "    else:\n",
        "      out[loc]=0 # no signals active at this time\n",
        "  return out"
      ],
      "execution_count": 0,
      "outputs": []
    },
    {
      "cell_type": "code",
      "metadata": {
        "id": "sTXO5qEMg7Yz",
        "colab_type": "code",
        "colab": {}
      },
      "source": [
        "def avgActiveSignals(signals,numThreads):\n",
        "# compute the average signal among those active\n",
        "#1) time points where signals change (either one starts or one ends)\n",
        "  tPnts=set(signals['t1'].dropna().values)\n",
        "  tPnts=tPnts.union(signals.index.values)\n",
        "  tPnts=list(tPnts);tPnts.sort()\n",
        "  \n",
        "  out=mpPandasObj(mpAvgActiveSignals,('molecule',tPnts),numThreads,signals=signals)\n",
        "  return out"
      ],
      "execution_count": 0,
      "outputs": []
    },
    {
      "cell_type": "code",
      "metadata": {
        "id": "JF5oArqZhATQ",
        "colab_type": "code",
        "colab": {
          "base_uri": "https://localhost:8080/",
          "height": 34
        },
        "outputId": "af9e6267-ff0c-45d7-d617-98cf76838ab5"
      },
      "source": [
        "active = avgActiveSignals(signals=df_events,numThreads=12)"
      ],
      "execution_count": 169,
      "outputs": [
        {
          "output_type": "stream",
          "text": [
            "2019-12-07 14:09:44.246460 100.0% mpAvgActiveSignals done after 0.52 minutes. Remaining 0.0 minutes.\n"
          ],
          "name": "stderr"
        }
      ]
    },
    {
      "cell_type": "code",
      "metadata": {
        "id": "SpAYvArrWJjE",
        "colab_type": "code",
        "colab": {}
      },
      "source": [
        "#두번째 방법 from hudson-thames --> 매우 느림\n",
        "\n",
        "#avg_bet = pd.Series()\n",
        "#active_bets = pd.Series()\n",
        "#for idx, val in t1.iteritems():\n",
        "#    active_idx = t1[(t1.index<=idx)&(t1>idx)].index\n",
        "#    num_active = len(active_idx)\n",
        "#    active_bets[idx] = num_active\n",
        "#    avg_bet[idx] = bet_sizes[active_idx].mean()\n"
      ],
      "execution_count": 0,
      "outputs": []
    },
    {
      "cell_type": "code",
      "metadata": {
        "id": "_5HgEg4FbeHo",
        "colab_type": "code",
        "colab": {
          "base_uri": "https://localhost:8080/",
          "height": 376
        },
        "outputId": "353fb027-c0c6-4567-ead6-ecd38a6f3013"
      },
      "source": [
        "print(\"The resulting DataFrame from Exercise 10.2:\")\n",
        "df_events = df_events.rename(columns={'signal':'bet size'})\n",
        "df_events['avg active bets'] = active\n",
        "df_events.head(10)"
      ],
      "execution_count": 170,
      "outputs": [
        {
          "output_type": "stream",
          "text": [
            "The resulting DataFrame from Exercise 10.2:\n"
          ],
          "name": "stdout"
        },
        {
          "output_type": "execute_result",
          "data": {
            "text/html": [
              "<div>\n",
              "<style scoped>\n",
              "    .dataframe tbody tr th:only-of-type {\n",
              "        vertical-align: middle;\n",
              "    }\n",
              "\n",
              "    .dataframe tbody tr th {\n",
              "        vertical-align: top;\n",
              "    }\n",
              "\n",
              "    .dataframe thead th {\n",
              "        text-align: right;\n",
              "    }\n",
              "</style>\n",
              "<table border=\"1\" class=\"dataframe\">\n",
              "  <thead>\n",
              "    <tr style=\"text-align: right;\">\n",
              "      <th></th>\n",
              "      <th>t1</th>\n",
              "      <th>p</th>\n",
              "      <th>bet size</th>\n",
              "      <th>avg active bets</th>\n",
              "    </tr>\n",
              "  </thead>\n",
              "  <tbody>\n",
              "    <tr>\n",
              "      <th>1992-07-22</th>\n",
              "      <td>1992-07-30</td>\n",
              "      <td>0.774407</td>\n",
              "      <td>0.488510</td>\n",
              "      <td>0.488510</td>\n",
              "    </tr>\n",
              "    <tr>\n",
              "      <th>1992-07-23</th>\n",
              "      <td>1992-07-26</td>\n",
              "      <td>0.857595</td>\n",
              "      <td>0.693816</td>\n",
              "      <td>0.591163</td>\n",
              "    </tr>\n",
              "    <tr>\n",
              "      <th>1992-07-24</th>\n",
              "      <td>1992-07-29</td>\n",
              "      <td>0.801382</td>\n",
              "      <td>0.550002</td>\n",
              "      <td>0.577443</td>\n",
              "    </tr>\n",
              "    <tr>\n",
              "      <th>1992-07-25</th>\n",
              "      <td>1992-07-26</td>\n",
              "      <td>0.772442</td>\n",
              "      <td>0.484193</td>\n",
              "      <td>0.554130</td>\n",
              "    </tr>\n",
              "    <tr>\n",
              "      <th>1992-07-26</th>\n",
              "      <td>1992-07-27</td>\n",
              "      <td>0.711827</td>\n",
              "      <td>0.360002</td>\n",
              "      <td>0.466171</td>\n",
              "    </tr>\n",
              "    <tr>\n",
              "      <th>1992-07-27</th>\n",
              "      <td>1992-08-06</td>\n",
              "      <td>0.822947</td>\n",
              "      <td>0.602473</td>\n",
              "      <td>0.546995</td>\n",
              "    </tr>\n",
              "    <tr>\n",
              "      <th>1992-07-28</th>\n",
              "      <td>1992-08-02</td>\n",
              "      <td>0.718794</td>\n",
              "      <td>0.373496</td>\n",
              "      <td>0.503620</td>\n",
              "    </tr>\n",
              "    <tr>\n",
              "      <th>1992-07-29</th>\n",
              "      <td>1992-08-02</td>\n",
              "      <td>0.945887</td>\n",
              "      <td>0.951258</td>\n",
              "      <td>0.603934</td>\n",
              "    </tr>\n",
              "    <tr>\n",
              "      <th>1992-07-30</th>\n",
              "      <td>1992-08-02</td>\n",
              "      <td>0.981831</td>\n",
              "      <td>0.999691</td>\n",
              "      <td>0.731729</td>\n",
              "    </tr>\n",
              "    <tr>\n",
              "      <th>1992-07-31</th>\n",
              "      <td>1992-08-08</td>\n",
              "      <td>0.691721</td>\n",
              "      <td>0.321986</td>\n",
              "      <td>0.649781</td>\n",
              "    </tr>\n",
              "  </tbody>\n",
              "</table>\n",
              "</div>"
            ],
            "text/plain": [
              "                   t1         p  bet size  avg active bets\n",
              "1992-07-22 1992-07-30  0.774407  0.488510         0.488510\n",
              "1992-07-23 1992-07-26  0.857595  0.693816         0.591163\n",
              "1992-07-24 1992-07-29  0.801382  0.550002         0.577443\n",
              "1992-07-25 1992-07-26  0.772442  0.484193         0.554130\n",
              "1992-07-26 1992-07-27  0.711827  0.360002         0.466171\n",
              "1992-07-27 1992-08-06  0.822947  0.602473         0.546995\n",
              "1992-07-28 1992-08-02  0.718794  0.373496         0.503620\n",
              "1992-07-29 1992-08-02  0.945887  0.951258         0.603934\n",
              "1992-07-30 1992-08-02  0.981831  0.999691         0.731729\n",
              "1992-07-31 1992-08-08  0.691721  0.321986         0.649781"
            ]
          },
          "metadata": {
            "tags": []
          },
          "execution_count": 170
        }
      ]
    },
    {
      "cell_type": "markdown",
      "metadata": {
        "id": "PqQC12ial-vy",
        "colab_type": "text"
      },
      "source": [
        "## 3. Using the $t1$ object from exercise 2.d:"
      ]
    },
    {
      "cell_type": "markdown",
      "metadata": {
        "id": "FX2-vS5PmN0j",
        "colab_type": "text"
      },
      "source": [
        "### (a) Determine the maximum number of concurrent long bets, $\\bar{c}_l$."
      ]
    },
    {
      "cell_type": "code",
      "metadata": {
        "id": "yvvnN2mSuXOa",
        "colab_type": "code",
        "colab": {}
      },
      "source": [
        "df_events2 = df_events.copy()\n",
        "active_long = pd.Series()\n",
        "\n",
        "for idx in df_events2.index:    \n",
        "    # long bets are defined as having a prediction probability greater than or equal to 0.75\n",
        "    df_long_active_idx = set(df_events2[(df_events2.index<=idx) & (df_events2.t1>idx) & (df_events2.p>=0.75)].index)\n",
        "    active_long[idx] = len(df_long_active_idx)"
      ],
      "execution_count": 0,
      "outputs": []
    },
    {
      "cell_type": "code",
      "metadata": {
        "id": "w6aj8elwDyn9",
        "colab_type": "code",
        "colab": {
          "base_uri": "https://localhost:8080/",
          "height": 153
        },
        "outputId": "9e1c56d8-7c3c-4c0e-d46f-7ebde5c38eb9"
      },
      "source": [
        "print(active_long.head(5), 2*'\\n','num of max concurrent long :',active_long.max())"
      ],
      "execution_count": 172,
      "outputs": [
        {
          "output_type": "stream",
          "text": [
            "1992-07-22    1\n",
            "1992-07-23    2\n",
            "1992-07-24    3\n",
            "1992-07-25    4\n",
            "1992-07-26    2\n",
            "dtype: int64 \n",
            "\n",
            " num of max concurrent long : 7\n"
          ],
          "name": "stdout"
        }
      ]
    },
    {
      "cell_type": "code",
      "metadata": {
        "id": "Mr7YkdygKI2P",
        "colab_type": "code",
        "colab": {
          "base_uri": "https://localhost:8080/",
          "height": 34
        },
        "outputId": "035b7b17-1a18-4016-fb51-5b95a1ae204d"
      },
      "source": [
        "len(active_short)"
      ],
      "execution_count": 173,
      "outputs": [
        {
          "output_type": "execute_result",
          "data": {
            "text/plain": [
              "10000"
            ]
          },
          "metadata": {
            "tags": []
          },
          "execution_count": 173
        }
      ]
    },
    {
      "cell_type": "markdown",
      "metadata": {
        "id": "hMMKUf6pEted",
        "colab_type": "text"
      },
      "source": [
        "### (b) Determine the maximum number of concurrent short bets, $c_s$"
      ]
    },
    {
      "cell_type": "code",
      "metadata": {
        "id": "x3QGeDVrByza",
        "colab_type": "code",
        "colab": {}
      },
      "source": [
        "active_short = pd.Series()\n",
        "\n",
        "for idx in df_events2.index:    \n",
        "    # short bets are defined as having a prediction probability less than 0.75\n",
        "    df_short_active_idx = set(df_events2[(df_events2.index<=idx) & (df_events2.t1>idx) & (df_events2.p<0.75)].index)\n",
        "    active_short[idx] = len(df_short_active_idx)"
      ],
      "execution_count": 0,
      "outputs": []
    },
    {
      "cell_type": "code",
      "metadata": {
        "id": "d1bDyLzjClih",
        "colab_type": "code",
        "colab": {
          "base_uri": "https://localhost:8080/",
          "height": 153
        },
        "outputId": "70e27faf-4518-4baa-a670-5754f2bea6c0"
      },
      "source": [
        "print(active_short.head(5),2*'\\n', '- num of max concurrent short :', active_short.max())"
      ],
      "execution_count": 175,
      "outputs": [
        {
          "output_type": "stream",
          "text": [
            "1992-07-22    0\n",
            "1992-07-23    0\n",
            "1992-07-24    0\n",
            "1992-07-25    0\n",
            "1992-07-26    1\n",
            "dtype: int64 \n",
            "\n",
            " - num of max concurrent short : 8\n"
          ],
          "name": "stdout"
        }
      ]
    },
    {
      "cell_type": "markdown",
      "metadata": {
        "id": "r-_4COVUE_lB",
        "colab_type": "text"
      },
      "source": [
        "### (c) Derive the bet size as $m_t = c_{t,l} \\frac1{\\bar{c}_l}- c_{t,s}\\frac1{\\bar{c}_s}$, where $c_{t,l}$ is the number of concurrent long bets at time t, and $c_{t,s}$ is the number of concurrent short bets at time t."
      ]
    },
    {
      "cell_type": "code",
      "metadata": {
        "id": "zhYTbVLlE__0",
        "colab_type": "code",
        "colab": {
          "base_uri": "https://localhost:8080/",
          "height": 119
        },
        "outputId": "4d8255a2-4cab-4a62-ccdf-e174346974b7"
      },
      "source": [
        "bet_size2 = pd.Series()\n",
        "bet_size2 = active_long/active_long.max() - active_short*1/active_short.max()\n",
        "bet_size2.head()"
      ],
      "execution_count": 176,
      "outputs": [
        {
          "output_type": "execute_result",
          "data": {
            "text/plain": [
              "1992-07-22    0.142857\n",
              "1992-07-23    0.285714\n",
              "1992-07-24    0.428571\n",
              "1992-07-25    0.571429\n",
              "1992-07-26    0.160714\n",
              "dtype: float64"
            ]
          },
          "metadata": {
            "tags": []
          },
          "execution_count": 176
        }
      ]
    },
    {
      "cell_type": "code",
      "metadata": {
        "id": "ymwffRvcLf6w",
        "colab_type": "code",
        "colab": {
          "base_uri": "https://localhost:8080/",
          "height": 34
        },
        "outputId": "2921507c-f3b1-41f7-9c4c-285ba8e4ca29"
      },
      "source": [
        "np.all(df_events2.index == active_long.index)"
      ],
      "execution_count": 177,
      "outputs": [
        {
          "output_type": "execute_result",
          "data": {
            "text/plain": [
              "True"
            ]
          },
          "metadata": {
            "tags": []
          },
          "execution_count": 177
        }
      ]
    },
    {
      "cell_type": "code",
      "metadata": {
        "id": "Tj_-wjCMIUAV",
        "colab_type": "code",
        "colab": {
          "base_uri": "https://localhost:8080/",
          "height": 419
        },
        "outputId": "3e118be3-981a-49f7-cd98-c063e916f767"
      },
      "source": [
        "#overview\n",
        "\n",
        "df_events2= df_events2.assign(num_of_concurrent_long = active_long,num_of_concurrent_short=active_short,bet_size2=bet_size2)\n",
        "df_events2"
      ],
      "execution_count": 178,
      "outputs": [
        {
          "output_type": "execute_result",
          "data": {
            "text/html": [
              "<div>\n",
              "<style scoped>\n",
              "    .dataframe tbody tr th:only-of-type {\n",
              "        vertical-align: middle;\n",
              "    }\n",
              "\n",
              "    .dataframe tbody tr th {\n",
              "        vertical-align: top;\n",
              "    }\n",
              "\n",
              "    .dataframe thead th {\n",
              "        text-align: right;\n",
              "    }\n",
              "</style>\n",
              "<table border=\"1\" class=\"dataframe\">\n",
              "  <thead>\n",
              "    <tr style=\"text-align: right;\">\n",
              "      <th></th>\n",
              "      <th>t1</th>\n",
              "      <th>p</th>\n",
              "      <th>bet size</th>\n",
              "      <th>avg active bets</th>\n",
              "      <th>num_of_concurrent_long</th>\n",
              "      <th>num_of_concurrent_short</th>\n",
              "      <th>bet_size2</th>\n",
              "    </tr>\n",
              "  </thead>\n",
              "  <tbody>\n",
              "    <tr>\n",
              "      <th>1992-07-22</th>\n",
              "      <td>1992-07-30</td>\n",
              "      <td>0.774407</td>\n",
              "      <td>0.488510</td>\n",
              "      <td>0.488510</td>\n",
              "      <td>1</td>\n",
              "      <td>0</td>\n",
              "      <td>0.142857</td>\n",
              "    </tr>\n",
              "    <tr>\n",
              "      <th>1992-07-23</th>\n",
              "      <td>1992-07-26</td>\n",
              "      <td>0.857595</td>\n",
              "      <td>0.693816</td>\n",
              "      <td>0.591163</td>\n",
              "      <td>2</td>\n",
              "      <td>0</td>\n",
              "      <td>0.285714</td>\n",
              "    </tr>\n",
              "    <tr>\n",
              "      <th>1992-07-24</th>\n",
              "      <td>1992-07-29</td>\n",
              "      <td>0.801382</td>\n",
              "      <td>0.550002</td>\n",
              "      <td>0.577443</td>\n",
              "      <td>3</td>\n",
              "      <td>0</td>\n",
              "      <td>0.428571</td>\n",
              "    </tr>\n",
              "    <tr>\n",
              "      <th>1992-07-25</th>\n",
              "      <td>1992-07-26</td>\n",
              "      <td>0.772442</td>\n",
              "      <td>0.484193</td>\n",
              "      <td>0.554130</td>\n",
              "      <td>4</td>\n",
              "      <td>0</td>\n",
              "      <td>0.571429</td>\n",
              "    </tr>\n",
              "    <tr>\n",
              "      <th>1992-07-26</th>\n",
              "      <td>1992-07-27</td>\n",
              "      <td>0.711827</td>\n",
              "      <td>0.360002</td>\n",
              "      <td>0.466171</td>\n",
              "      <td>2</td>\n",
              "      <td>1</td>\n",
              "      <td>0.160714</td>\n",
              "    </tr>\n",
              "    <tr>\n",
              "      <th>...</th>\n",
              "      <td>...</td>\n",
              "      <td>...</td>\n",
              "      <td>...</td>\n",
              "      <td>...</td>\n",
              "      <td>...</td>\n",
              "      <td>...</td>\n",
              "      <td>...</td>\n",
              "    </tr>\n",
              "    <tr>\n",
              "      <th>2019-12-03</th>\n",
              "      <td>2019-12-11</td>\n",
              "      <td>0.775223</td>\n",
              "      <td>0.490310</td>\n",
              "      <td>0.477373</td>\n",
              "      <td>4</td>\n",
              "      <td>3</td>\n",
              "      <td>0.196429</td>\n",
              "    </tr>\n",
              "    <tr>\n",
              "      <th>2019-12-04</th>\n",
              "      <td>2019-12-08</td>\n",
              "      <td>0.698576</td>\n",
              "      <td>0.334799</td>\n",
              "      <td>0.430025</td>\n",
              "      <td>3</td>\n",
              "      <td>4</td>\n",
              "      <td>-0.071429</td>\n",
              "    </tr>\n",
              "    <tr>\n",
              "      <th>2019-12-05</th>\n",
              "      <td>2019-12-10</td>\n",
              "      <td>0.879215</td>\n",
              "      <td>0.755443</td>\n",
              "      <td>0.434725</td>\n",
              "      <td>3</td>\n",
              "      <td>3</td>\n",
              "      <td>0.053571</td>\n",
              "    </tr>\n",
              "    <tr>\n",
              "      <th>2019-12-06</th>\n",
              "      <td>2019-12-10</td>\n",
              "      <td>0.511894</td>\n",
              "      <td>0.018983</td>\n",
              "      <td>0.422658</td>\n",
              "      <td>3</td>\n",
              "      <td>3</td>\n",
              "      <td>0.053571</td>\n",
              "    </tr>\n",
              "    <tr>\n",
              "      <th>2019-12-07</th>\n",
              "      <td>2019-12-14</td>\n",
              "      <td>0.906788</td>\n",
              "      <td>0.838245</td>\n",
              "      <td>0.482028</td>\n",
              "      <td>4</td>\n",
              "      <td>3</td>\n",
              "      <td>0.196429</td>\n",
              "    </tr>\n",
              "  </tbody>\n",
              "</table>\n",
              "<p>10000 rows × 7 columns</p>\n",
              "</div>"
            ],
            "text/plain": [
              "                   t1         p  ...  num_of_concurrent_short  bet_size2\n",
              "1992-07-22 1992-07-30  0.774407  ...                        0   0.142857\n",
              "1992-07-23 1992-07-26  0.857595  ...                        0   0.285714\n",
              "1992-07-24 1992-07-29  0.801382  ...                        0   0.428571\n",
              "1992-07-25 1992-07-26  0.772442  ...                        0   0.571429\n",
              "1992-07-26 1992-07-27  0.711827  ...                        1   0.160714\n",
              "...               ...       ...  ...                      ...        ...\n",
              "2019-12-03 2019-12-11  0.775223  ...                        3   0.196429\n",
              "2019-12-04 2019-12-08  0.698576  ...                        4  -0.071429\n",
              "2019-12-05 2019-12-10  0.879215  ...                        3   0.053571\n",
              "2019-12-06 2019-12-10  0.511894  ...                        3   0.053571\n",
              "2019-12-07 2019-12-14  0.906788  ...                        3   0.196429\n",
              "\n",
              "[10000 rows x 7 columns]"
            ]
          },
          "metadata": {
            "tags": []
          },
          "execution_count": 178
        }
      ]
    },
    {
      "cell_type": "markdown",
      "metadata": {
        "id": "bursIBu8Mxlb",
        "colab_type": "text"
      },
      "source": [
        "## 4. Using the $t1$ object from exercise 2.d:"
      ]
    },
    {
      "cell_type": "markdown",
      "metadata": {
        "id": "G-YeJ1f0ND7H",
        "colab_type": "text"
      },
      "source": [
        "###(a) Compute the series $c_t = c_{t,l} − c_{t,s}$, where $c_{t,l}$ is the number of concurrent long bets at time $t$, and $c_{t,s}$ is the number of concurrent short bets at time $t$"
      ]
    },
    {
      "cell_type": "code",
      "metadata": {
        "id": "VQHzOrszNYtW",
        "colab_type": "code",
        "colab": {
          "base_uri": "https://localhost:8080/",
          "height": 119
        },
        "outputId": "7568c57a-d019-4df5-9445-fe5a639df3f1"
      },
      "source": [
        "c = pd.Series()\n",
        "c = active_long - active_short\n",
        "c.head()"
      ],
      "execution_count": 179,
      "outputs": [
        {
          "output_type": "execute_result",
          "data": {
            "text/plain": [
              "1992-07-22    1\n",
              "1992-07-23    2\n",
              "1992-07-24    3\n",
              "1992-07-25    4\n",
              "1992-07-26    1\n",
              "dtype: int64"
            ]
          },
          "metadata": {
            "tags": []
          },
          "execution_count": 179
        }
      ]
    },
    {
      "cell_type": "code",
      "metadata": {
        "id": "HeMK1qL-X4S2",
        "colab_type": "code",
        "colab": {
          "base_uri": "https://localhost:8080/",
          "height": 204
        },
        "outputId": "d6682b5b-3a77-4be1-923e-833ddd6dc091"
      },
      "source": [
        "df_events2['c_t'] = c\n",
        "df_events2.head()"
      ],
      "execution_count": 180,
      "outputs": [
        {
          "output_type": "execute_result",
          "data": {
            "text/html": [
              "<div>\n",
              "<style scoped>\n",
              "    .dataframe tbody tr th:only-of-type {\n",
              "        vertical-align: middle;\n",
              "    }\n",
              "\n",
              "    .dataframe tbody tr th {\n",
              "        vertical-align: top;\n",
              "    }\n",
              "\n",
              "    .dataframe thead th {\n",
              "        text-align: right;\n",
              "    }\n",
              "</style>\n",
              "<table border=\"1\" class=\"dataframe\">\n",
              "  <thead>\n",
              "    <tr style=\"text-align: right;\">\n",
              "      <th></th>\n",
              "      <th>t1</th>\n",
              "      <th>p</th>\n",
              "      <th>bet size</th>\n",
              "      <th>avg active bets</th>\n",
              "      <th>num_of_concurrent_long</th>\n",
              "      <th>num_of_concurrent_short</th>\n",
              "      <th>bet_size2</th>\n",
              "      <th>c_t</th>\n",
              "    </tr>\n",
              "  </thead>\n",
              "  <tbody>\n",
              "    <tr>\n",
              "      <th>1992-07-22</th>\n",
              "      <td>1992-07-30</td>\n",
              "      <td>0.774407</td>\n",
              "      <td>0.488510</td>\n",
              "      <td>0.488510</td>\n",
              "      <td>1</td>\n",
              "      <td>0</td>\n",
              "      <td>0.142857</td>\n",
              "      <td>1</td>\n",
              "    </tr>\n",
              "    <tr>\n",
              "      <th>1992-07-23</th>\n",
              "      <td>1992-07-26</td>\n",
              "      <td>0.857595</td>\n",
              "      <td>0.693816</td>\n",
              "      <td>0.591163</td>\n",
              "      <td>2</td>\n",
              "      <td>0</td>\n",
              "      <td>0.285714</td>\n",
              "      <td>2</td>\n",
              "    </tr>\n",
              "    <tr>\n",
              "      <th>1992-07-24</th>\n",
              "      <td>1992-07-29</td>\n",
              "      <td>0.801382</td>\n",
              "      <td>0.550002</td>\n",
              "      <td>0.577443</td>\n",
              "      <td>3</td>\n",
              "      <td>0</td>\n",
              "      <td>0.428571</td>\n",
              "      <td>3</td>\n",
              "    </tr>\n",
              "    <tr>\n",
              "      <th>1992-07-25</th>\n",
              "      <td>1992-07-26</td>\n",
              "      <td>0.772442</td>\n",
              "      <td>0.484193</td>\n",
              "      <td>0.554130</td>\n",
              "      <td>4</td>\n",
              "      <td>0</td>\n",
              "      <td>0.571429</td>\n",
              "      <td>4</td>\n",
              "    </tr>\n",
              "    <tr>\n",
              "      <th>1992-07-26</th>\n",
              "      <td>1992-07-27</td>\n",
              "      <td>0.711827</td>\n",
              "      <td>0.360002</td>\n",
              "      <td>0.466171</td>\n",
              "      <td>2</td>\n",
              "      <td>1</td>\n",
              "      <td>0.160714</td>\n",
              "      <td>1</td>\n",
              "    </tr>\n",
              "  </tbody>\n",
              "</table>\n",
              "</div>"
            ],
            "text/plain": [
              "                   t1         p  ...  bet_size2  c_t\n",
              "1992-07-22 1992-07-30  0.774407  ...   0.142857    1\n",
              "1992-07-23 1992-07-26  0.857595  ...   0.285714    2\n",
              "1992-07-24 1992-07-29  0.801382  ...   0.428571    3\n",
              "1992-07-25 1992-07-26  0.772442  ...   0.571429    4\n",
              "1992-07-26 1992-07-27  0.711827  ...   0.160714    1\n",
              "\n",
              "[5 rows x 8 columns]"
            ]
          },
          "metadata": {
            "tags": []
          },
          "execution_count": 180
        }
      ]
    },
    {
      "cell_type": "markdown",
      "metadata": {
        "id": "Wp3M2Kf0NsNB",
        "colab_type": "text"
      },
      "source": [
        "### (b) Fit a mixture of two Gaussians on {$c_t$}. You may want to use the method described in Lopez de Prado and Foreman [2014]."
      ]
    },
    {
      "cell_type": "markdown",
      "metadata": {
        "id": "PAfa1py_VhZN",
        "colab_type": "text"
      },
      "source": [
        "from Lopez de Prado and Foreman [2014]\n",
        "\n",
        "use EF3M algo, check https://github.com/jo-cho/research/tree/master/Chapter10/EF3M\n",
        "\n",
        "I'll just skip this one"
      ]
    },
    {
      "cell_type": "markdown",
      "metadata": {
        "id": "_kzkQsvpW3Dx",
        "colab_type": "text"
      },
      "source": [
        "### (c) "
      ]
    },
    {
      "cell_type": "code",
      "metadata": {
        "id": "J3VeOQByYVPU",
        "colab_type": "code",
        "colab": {}
      },
      "source": [
        "#F(x)함수 : x의 두 가우스분포 mixture의 CDF 함수\n",
        "\n",
        "def cdf_mixture(x, parameters):\n",
        "    # the CDF of a mixture of 2 normal distributions, evaluated at x\n",
        "    # :param x: (float) x-value\n",
        "    # :param parameters: (list) mixture parameters, [mu1, mu2, sigma1, sigma2, p1]\n",
        "    # :return: (float) CDF of the mixture\n",
        "    # ===================================\n",
        "    mu1, mu2, sigma1, sigma2, p1 = parameters  # for clarity\n",
        "    return p1*norm.cdf(x, mu1, sigma1) + (1-p1)*norm.cdf(x, mu2, sigma2)"
      ],
      "execution_count": 0,
      "outputs": []
    },
    {
      "cell_type": "code",
      "metadata": {
        "id": "Qyfy2Pofbw25",
        "colab_type": "code",
        "colab": {
          "base_uri": "https://localhost:8080/",
          "height": 51
        },
        "outputId": "c623acd4-70b3-4d51-807a-4f5888ecce49"
      },
      "source": [
        "cdf_mixture(c,parameters)"
      ],
      "execution_count": 182,
      "outputs": [
        {
          "output_type": "execute_result",
          "data": {
            "text/plain": [
              "array([0.56527933, 0.7944261 , 0.90929731, ..., 0.32932763, 0.32932763,\n",
              "       0.56527933])"
            ]
          },
          "metadata": {
            "tags": []
          },
          "execution_count": 182
        }
      ]
    },
    {
      "cell_type": "markdown",
      "metadata": {
        "id": "kcIU2Z3gYrWU",
        "colab_type": "text"
      },
      "source": [
        "$m_t = \\begin{cases}\n",
        "  \\frac{F[c_t]-F[0]}{1-F[0]} & \\text{if}\\ c_t \\ge 0 \\\\\n",
        "  \\frac{F[c_t]-F[0]}{F[0]} & \\text{if}\\ c_t < 0\n",
        "\\end{cases}$"
      ]
    },
    {
      "cell_type": "code",
      "metadata": {
        "id": "d2b9x8P2YnQ_",
        "colab_type": "code",
        "colab": {}
      },
      "source": [
        "#위의 식\n",
        "\n",
        "def bet_size_mixed(c_t, parameters):\n",
        "    # return the bet size based on the description provided in\n",
        "    # question 10.4(c).\n",
        "    # :param c_t: (int) different of the number of concurrent long bets minus short bets\n",
        "    # :param parameters: (list) mixture parameters, [mu1, mu2, sigma1, sigma2, p1]\n",
        "    # :return: (float) bet size\n",
        "    # =========================\n",
        "    if c_t >= 0:\n",
        "        return ( cdf_mixture(c_t, parameters) - cdf_mixture(0, parameters) ) / ( 1 - cdf_mixture(0, parameters) )\n",
        "    else:\n",
        "        ( cdf_mixture(c_t, parameters) - cdf_mixture(0, parameters) ) / cdf_mixture(0, parameters)"
      ],
      "execution_count": 0,
      "outputs": []
    },
    {
      "cell_type": "code",
      "metadata": {
        "id": "wHeM5hH8N_lC",
        "colab_type": "code",
        "colab": {
          "base_uri": "https://localhost:8080/",
          "height": 204
        },
        "outputId": "05b9fb2c-16ce-42d9-f40a-d8c308741ab5"
      },
      "source": [
        "# 밑의 파라미터는 hudson-thames 연구에서 도출한 fitted parameters 들이다.\n",
        "# Most probable estimate for parameter 'mu1': 12.574\n",
        "# Most probable estimate for parameter 'mu2': 13.39\n",
        "# Most probable estimate for parameter 'sigma1': 3.306\n",
        "# Most probable estimate for parameter 'sigma2': 1.95\n",
        "# Most probable estimate for parameter 'p1': 0.017\n",
        "parameters = [0,1,3,1,0.5]\n",
        "#대충 때려넣어 봤다.\n",
        "\n",
        "bet_size3 = pd.Series()\n",
        "bet_size3 = df_events2.c_t.apply(lambda c: bet_size_mixed(c, parameters))\n",
        "df_events2['bet_size3'] = bet_size3\n",
        "df_events2.head()"
      ],
      "execution_count": 184,
      "outputs": [
        {
          "output_type": "execute_result",
          "data": {
            "text/html": [
              "<div>\n",
              "<style scoped>\n",
              "    .dataframe tbody tr th:only-of-type {\n",
              "        vertical-align: middle;\n",
              "    }\n",
              "\n",
              "    .dataframe tbody tr th {\n",
              "        vertical-align: top;\n",
              "    }\n",
              "\n",
              "    .dataframe thead th {\n",
              "        text-align: right;\n",
              "    }\n",
              "</style>\n",
              "<table border=\"1\" class=\"dataframe\">\n",
              "  <thead>\n",
              "    <tr style=\"text-align: right;\">\n",
              "      <th></th>\n",
              "      <th>t1</th>\n",
              "      <th>p</th>\n",
              "      <th>bet size</th>\n",
              "      <th>avg active bets</th>\n",
              "      <th>num_of_concurrent_long</th>\n",
              "      <th>num_of_concurrent_short</th>\n",
              "      <th>bet_size2</th>\n",
              "      <th>c_t</th>\n",
              "      <th>bet_size3</th>\n",
              "    </tr>\n",
              "  </thead>\n",
              "  <tbody>\n",
              "    <tr>\n",
              "      <th>1992-07-22</th>\n",
              "      <td>1992-07-30</td>\n",
              "      <td>0.774407</td>\n",
              "      <td>0.488510</td>\n",
              "      <td>0.488510</td>\n",
              "      <td>1</td>\n",
              "      <td>0</td>\n",
              "      <td>0.142857</td>\n",
              "      <td>1</td>\n",
              "      <td>0.351814</td>\n",
              "    </tr>\n",
              "    <tr>\n",
              "      <th>1992-07-23</th>\n",
              "      <td>1992-07-26</td>\n",
              "      <td>0.857595</td>\n",
              "      <td>0.693816</td>\n",
              "      <td>0.591163</td>\n",
              "      <td>2</td>\n",
              "      <td>0</td>\n",
              "      <td>0.285714</td>\n",
              "      <td>2</td>\n",
              "      <td>0.693481</td>\n",
              "    </tr>\n",
              "    <tr>\n",
              "      <th>1992-07-24</th>\n",
              "      <td>1992-07-29</td>\n",
              "      <td>0.801382</td>\n",
              "      <td>0.550002</td>\n",
              "      <td>0.577443</td>\n",
              "      <td>3</td>\n",
              "      <td>0</td>\n",
              "      <td>0.428571</td>\n",
              "      <td>3</td>\n",
              "      <td>0.864759</td>\n",
              "    </tr>\n",
              "    <tr>\n",
              "      <th>1992-07-25</th>\n",
              "      <td>1992-07-26</td>\n",
              "      <td>0.772442</td>\n",
              "      <td>0.484193</td>\n",
              "      <td>0.554130</td>\n",
              "      <td>4</td>\n",
              "      <td>0</td>\n",
              "      <td>0.571429</td>\n",
              "      <td>4</td>\n",
              "      <td>0.930994</td>\n",
              "    </tr>\n",
              "    <tr>\n",
              "      <th>1992-07-26</th>\n",
              "      <td>1992-07-27</td>\n",
              "      <td>0.711827</td>\n",
              "      <td>0.360002</td>\n",
              "      <td>0.466171</td>\n",
              "      <td>2</td>\n",
              "      <td>1</td>\n",
              "      <td>0.160714</td>\n",
              "      <td>1</td>\n",
              "      <td>0.351814</td>\n",
              "    </tr>\n",
              "  </tbody>\n",
              "</table>\n",
              "</div>"
            ],
            "text/plain": [
              "                   t1         p  bet size  ...  bet_size2  c_t  bet_size3\n",
              "1992-07-22 1992-07-30  0.774407  0.488510  ...   0.142857    1   0.351814\n",
              "1992-07-23 1992-07-26  0.857595  0.693816  ...   0.285714    2   0.693481\n",
              "1992-07-24 1992-07-29  0.801382  0.550002  ...   0.428571    3   0.864759\n",
              "1992-07-25 1992-07-26  0.772442  0.484193  ...   0.571429    4   0.930994\n",
              "1992-07-26 1992-07-27  0.711827  0.360002  ...   0.160714    1   0.351814\n",
              "\n",
              "[5 rows x 9 columns]"
            ]
          },
          "metadata": {
            "tags": []
          },
          "execution_count": 184
        }
      ]
    },
    {
      "cell_type": "code",
      "metadata": {
        "id": "mCNrAJ7HXtKc",
        "colab_type": "code",
        "colab": {
          "base_uri": "https://localhost:8080/",
          "height": 499
        },
        "outputId": "15ff407e-a7d7-4add-8093-93f9a9db5a4d"
      },
      "source": [
        "fig_10_4c, ax_10_4c = plt.subplots(figsize=(10,6))\n",
        "for c in ['bet size','bet_size2', 'bet_size3']:\n",
        "    ax_10_4c.hist(df_events2[c],  label=c, alpha=0.6)\n",
        "ax_10_4c.legend(loc='upper left', fontsize=12, title=\"Bet size type\", title_fontsize=10)\n",
        "ax_10_4c.set_xlabel(\"Bet Size, $m_t$\", fontsize=12)\n",
        "ax_10_4c.set_ylabel(\"Value count\", fontsize=12)\n",
        "ax_10_4c.set_title(\"Figure 10.4(c): Bet Size distributions from exercises 10.3 and 10.4\", fontsize=14)"
      ],
      "execution_count": 185,
      "outputs": [
        {
          "output_type": "stream",
          "text": [
            "/usr/local/lib/python3.6/dist-packages/numpy/lib/histograms.py:839: RuntimeWarning: invalid value encountered in greater_equal\n",
            "  keep = (tmp_a >= first_edge)\n",
            "/usr/local/lib/python3.6/dist-packages/numpy/lib/histograms.py:840: RuntimeWarning: invalid value encountered in less_equal\n",
            "  keep &= (tmp_a <= last_edge)\n"
          ],
          "name": "stderr"
        },
        {
          "output_type": "execute_result",
          "data": {
            "text/plain": [
              "Text(0.5, 1.0, 'Figure 10.4(c): Bet Size distributions from exercises 10.3 and 10.4')"
            ]
          },
          "metadata": {
            "tags": []
          },
          "execution_count": 185
        },
        {
          "output_type": "display_data",
          "data": {
            "image/png": "[encoded data removed]",
            "text/plain": [
              "<Figure size 720x432 with 1 Axes>"
            ]
          },
          "metadata": {
            "tags": []
          }
        }
      ]
    },
    {
      "cell_type": "markdown",
      "metadata": {
        "id": "u2I4VkBbezB5",
        "colab_type": "text"
      },
      "source": [
        "### 5. Repeat exercise 1, where you discretize m with a stepSize=.01 stepSize=.05, and stepSize=.1."
      ]
    },
    {
      "cell_type": "code",
      "metadata": {
        "id": "4rrbLo0We4YG",
        "colab_type": "code",
        "colab": {}
      },
      "source": [
        "def discreteSignal(signal0,stepSize):\n",
        "  \n",
        "  # discretize signal\n",
        "  signal1=(signal0/stepSize).round()*stepSize # discretize\n",
        "  signal1[signal1>1]=1 # cap\n",
        "  signal1[signal1<-1]=-1 # floor\n",
        "  \n",
        "  return signal1"
      ],
      "execution_count": 0,
      "outputs": []
    },
    {
      "cell_type": "code",
      "metadata": {
        "id": "zwrrwX7Pe_TP",
        "colab_type": "code",
        "colab": {
          "base_uri": "https://localhost:8080/",
          "height": 412
        },
        "outputId": "e999d0c3-5e04-4ba9-a7d8-929febddaa7b"
      },
      "source": [
        "# exercise 1\n",
        "# This code is cloned from github.com/hudson-and-thames/research\n",
        "\n",
        "num_classes_list = [i for i in range(2, 11, 1)]  # array of number of classes, 2 to 10\n",
        "n = 10000  # number of points to plot\n",
        "\n",
        "stepSize = 0.01\n",
        "\n",
        "colors = iter(cm.coolwarm(np.linspace(0,1,len(num_classes_list))))\n",
        "\n",
        "fig_10_5, ax_10_5 = plt.subplots(figsize=(10, 6))\n",
        "\n",
        "for num_classes in num_classes_list:\n",
        "    min_prob, max_prob = 1 / num_classes, 1  # possible range for maximum predicted probability, [1/||X||, 1] !!!그렇단다\n",
        "    P = np.linspace(min_prob, max_prob, n, endpoint=False)  # range of maximum predicted probabilities to plot\n",
        "    z = (P - min_prob) / (P*(1-P))**0.5\n",
        "    m = 2 * norm.cdf(z) - 1\n",
        "    discrete_m = discreteSignal(m,stepSize) ## discretized\n",
        "    ax_10_5.plot(P, discrete_m, label=f\"||X||={num_classes}\", linewidth=2, alpha=1, color=colors.__next__())\n",
        "\n",
        "ax_10_5.set_ylabel(\"Bet Size $m=2Z[z]-1$\", fontsize=10)\n",
        "ax_10_5.set_xlabel(r\"Maximum Predicted Probability $\\tilde{p}=max_i${$p_i$}\", fontsize=10)\n",
        "ax_10_5.set_title(\"Discrete(0.01) Bet Size vs. Maximum Predicted Probability\", fontsize=12)\n",
        "ax_10_5.set_xticks([0.1*i for i in range(11)])\n",
        "ax_10_5.set_yticks([0.1*i for i in range(11)])\n",
        "ax_10_5.legend(loc=\"upper left\", fontsize=8, title=\"Number of bet size labels\", title_fontsize=9)\n",
        "ax_10_5.set_ylim((0,1.05))\n",
        "ax_10_5.set_xlim((0, 1.05))\n",
        "ax_10_5.grid(linewidth=1, linestyle=':')\n",
        "\n",
        "plt.show()"
      ],
      "execution_count": 187,
      "outputs": [
        {
          "output_type": "display_data",
          "data": {
            "image/png": "[encoded data removed]",
            "text/plain": [
              "<Figure size 720x432 with 1 Axes>"
            ]
          },
          "metadata": {
            "tags": []
          }
        }
      ]
    },
    {
      "cell_type": "code",
      "metadata": {
        "id": "sWy8H6V6gsxI",
        "colab_type": "code",
        "colab": {
          "base_uri": "https://localhost:8080/",
          "height": 412
        },
        "outputId": "7c2cf97c-ceb6-4594-b66f-4d0dfa4ad179"
      },
      "source": [
        "stepSize = 0.05\n",
        "colors = iter(cm.coolwarm(np.linspace(0,1,len(num_classes_list))))\n",
        "\n",
        "fig_10_52, ax_10_52 = plt.subplots(figsize=(10, 6))\n",
        "\n",
        "for num_classes in num_classes_list:\n",
        "    min_prob, max_prob = 1 / num_classes, 1  # possible range for maximum predicted probability, [1/||X||, 1] !!!그렇단다\n",
        "    P = np.linspace(min_prob, max_prob, n, endpoint=False)  # range of maximum predicted probabilities to plot\n",
        "    z = (P - min_prob) / (P*(1-P))**0.5\n",
        "    m = 2 * norm.cdf(z) - 1\n",
        "    discrete_m = discreteSignal(m,stepSize) ## discretized\n",
        "    ax_10_52.plot(P, discrete_m, label=f\"||X||={num_classes}\", linewidth=2, alpha=1, color=colors.__next__())\n",
        "\n",
        "ax_10_52.set_ylabel(\"Bet Size $m=2Z[z]-1$\", fontsize=10)\n",
        "ax_10_52.set_xlabel(r\"Maximum Predicted Probability $\\tilde{p}=max_i${$p_i$}\", fontsize=10)\n",
        "ax_10_52.set_title(\"Discrete(0.05) Bet Size vs. Maximum Predicted Probability\", fontsize=12)\n",
        "ax_10_52.set_xticks([0.1*i for i in range(11)])\n",
        "ax_10_52.set_yticks([0.1*i for i in range(11)])\n",
        "ax_10_52.legend(loc=\"upper left\", fontsize=8, title=\"Number of bet size labels\", title_fontsize=9)\n",
        "ax_10_52.set_ylim((0,1.05))\n",
        "ax_10_52.set_xlim((0, 1.05))\n",
        "ax_10_52.grid(linewidth=1, linestyle=':')\n",
        "\n",
        "plt.show()"
      ],
      "execution_count": 188,
      "outputs": [
        {
          "output_type": "display_data",
          "data": {
            "image/png": "[encoded data removed]",
            "text/plain": [
              "<Figure size 720x432 with 1 Axes>"
            ]
          },
          "metadata": {
            "tags": []
          }
        }
      ]
    },
    {
      "cell_type": "code",
      "metadata": {
        "id": "Kubnq-C0heNm",
        "colab_type": "code",
        "colab": {
          "base_uri": "https://localhost:8080/",
          "height": 412
        },
        "outputId": "7fb522e8-9881-4e1e-9399-504801ef4fdf"
      },
      "source": [
        "stepSize = 0.1\n",
        "colors = iter(cm.coolwarm(np.linspace(0,1,len(num_classes_list))))\n",
        "\n",
        "fig_10_52, ax_10_52 = plt.subplots(figsize=(10, 6))\n",
        "\n",
        "for num_classes in num_classes_list:\n",
        "    min_prob, max_prob = 1 / num_classes, 1  # possible range for maximum predicted probability, [1/||X||, 1] !!!그렇단다\n",
        "    P = np.linspace(min_prob, max_prob, n, endpoint=False)  # range of maximum predicted probabilities to plot\n",
        "    z = (P - min_prob) / (P*(1-P))**0.5\n",
        "    m = 2 * norm.cdf(z) - 1\n",
        "    discrete_m = discreteSignal(m,stepSize) ## discretized\n",
        "    ax_10_52.plot(P, discrete_m, label=f\"||X||={num_classes}\", linewidth=2, alpha=1, color=colors.__next__())\n",
        "\n",
        "ax_10_52.set_ylabel(\"Bet Size $m=2Z[z]-1$\", fontsize=10)\n",
        "ax_10_52.set_xlabel(r\"Maximum Predicted Probability $\\tilde{p}=max_i${$p_i$}\", fontsize=10)\n",
        "ax_10_52.set_title(\"Discrete(0.1) Bet Size vs. Maximum Predicted Probability\", fontsize=12)\n",
        "ax_10_52.set_xticks([0.1*i for i in range(11)])\n",
        "ax_10_52.set_yticks([0.1*i for i in range(11)])\n",
        "ax_10_52.legend(loc=\"upper left\", fontsize=8, title=\"Number of bet size labels\", title_fontsize=9)\n",
        "ax_10_52.set_ylim((0,1.05))\n",
        "ax_10_52.set_xlim((0, 1.05))\n",
        "ax_10_52.grid(linewidth=1, linestyle=':')\n",
        "\n",
        "plt.show()"
      ],
      "execution_count": 189,
      "outputs": [
        {
          "output_type": "display_data",
          "data": {
            "image/png": "[encoded data removed]",
            "text/plain": [
              "<Figure size 720x432 with 1 Axes>"
            ]
          },
          "metadata": {
            "tags": []
          }
        }
      ]
    },
    {
      "cell_type": "markdown",
      "metadata": {
        "id": "PTyLCRjJh8Lx",
        "colab_type": "text"
      },
      "source": [
        "## 6. Rewrite the equations in Section 10.6, so that the bet size is determined by a power function rather than a sigmoid function."
      ]
    },
    {
      "cell_type": "markdown",
      "metadata": {
        "id": "vjlBKuCZimf4",
        "colab_type": "text"
      },
      "source": [
        "Let's see what we got in Section 10.6"
      ]
    },
    {
      "cell_type": "markdown",
      "metadata": {
        "id": "r2B90YxHirOT",
        "colab_type": "text"
      },
      "source": [
        "Let $q_t$ be the current position, $Q$ the maximum absolute position size, and ̂$q_{i,t}$ the target position size associated with forecast $f_i$, such that\n",
        "\n",
        "$$\\hat{q}_{i,t} = \\text{int}[m[\\omega,f_i − p_t]Q]\\\\\n",
        "m[\\omega, x] = \\frac{x}{\\sqrt{𝜔 + x^2}}$$\n",
        "\n",
        "where m[𝜔, x] is the bet size, x = fi − pt is the divergence between the current market\n",
        "price and the forecast, 𝜔 is a coefficient that regulates the width of the sigmoid function,\n",
        "and Int [x] is the integer value of x. Note that for a real-valued price divergence\n",
        "x, −1 < m[𝜔, x] < 1, the integer value $\\hat{q}_{i,t}$ is bounded −Q < ̂qi,t < Q."
      ]
    },
    {
      "cell_type": "markdown",
      "metadata": {
        "id": "KzyfRfXjkKZB",
        "colab_type": "text"
      },
      "source": [
        "The target position size ̂qi,t can be dynamically adjusted as pt changes. In particular,\n",
        "as pt → fi we get ̂qi,t → 0, because the algorithm wants to realize the gains. This implies a breakeven limit price ̄p for the order size ̂qi,t − qt, to avoid realizing losses. In particular,\n",
        "\n",
        "$$ \\hat{p} = \\frac{1}{q_{i,t} − q_{t}} \\displaystyle\\sum_{j=\\mid q_t+sgn[\\hat{q}_{i,t}-q_t]\\mid}^{\\mid\\hat{q}_{i,t}\\mid}{L[f_i,\\omega,\\frac{j}{Q}]} $$\n",
        "\n",
        "where L[fi,𝜔,m] is the inverse function of m[𝜔, fi − pt] with respect to pt,\n",
        "\n",
        "$$ L[f_i,𝜔,m] = f_i − m\\sqrt{\\frac{𝜔}{1−m^2}} $$\n",
        "\n",
        "We do not need to worry about the case m^2 = 1, because $|\\hat{q}_i,t| < 1$. Since this\n",
        "function is monotonic, the algorithm cannot realize losses as pt → fi."
      ]
    },
    {
      "cell_type": "markdown",
      "metadata": {
        "id": "TINY6prdm6O7",
        "colab_type": "text"
      },
      "source": [
        "Let us calibrate $𝜔$. Given a user-defined pair $(x,m^∗)$, such that $x = f_i − p_t$ and $m^∗ = m[𝜔, x]$, the inverse function of m[𝜔, x] with respect to 𝜔 is\n",
        "$$\n",
        "𝜔 = x^2(m^{∗−2} − 1)\n",
        "$$"
      ]
    },
    {
      "cell_type": "code",
      "metadata": {
        "id": "2TlDuNl3kBgA",
        "colab_type": "code",
        "colab": {}
      },
      "source": [
        "# Now let us rewrite\n",
        "# 이것도 역시 hudson-thames 출처"
      ],
      "execution_count": 0,
      "outputs": []
    },
    {
      "cell_type": "markdown",
      "metadata": {
        "id": "UX_ieumZiXfv",
        "colab_type": "text"
      },
      "source": [
        "\n",
        "We can substitute a power function to calculate bet size, $\\tilde{m}$:\n",
        "\n",
        "$$\\tilde{m}[\\omega, x] = sgn[x]|x|^\\omega$$\n",
        "$L[f_i, \\omega, \\tilde{m}]$, the inverse function of $\\tilde{m}[\\omega, x]$ with respect to the market price $p_t$, can be rewritten as:\n",
        "\n",
        "$$L[f_i, \\omega, \\tilde{m}] = f_i - sgn[\\tilde{m}]|\\tilde{m}|^{1/\\omega}$$\n",
        "The inverse of $\\tilde{m}[\\omega, x]$ with respect to $\\omega$ can be rewritten as:\n",
        "\n",
        "$$\\omega = \\frac{log[\\frac{\\tilde{m}}{sgn(x)}]}{log[|x|]}$$\n",
        "Where $x = f_i - p_t$ is still the divergence between the current market price, $p_t$, and the price forecast, $f_i$."
      ]
    },
    {
      "cell_type": "markdown",
      "metadata": {
        "id": "M9wxdhn-iG3Z",
        "colab_type": "text"
      },
      "source": [
        "## 7. Modify Snippet 10.4 so that it implements the equations you derived in exercise 6\n"
      ]
    },
    {
      "cell_type": "code",
      "metadata": {
        "id": "oHUs20BBoN5m",
        "colab_type": "code",
        "colab": {}
      },
      "source": [
        "# Snippet 10.4\n",
        "\n",
        "def betSize(w,x):\n",
        "  return x*(w+x**2)**-.5\n",
        "#———————————————————————————————————————\n",
        "def getTPos(w,f,mP,maxPos):\n",
        "  return int(betSize(w,f-mP)*maxPos)\n",
        "#———————————————————————————————————————\n",
        "def invPrice(f,w,m):\n",
        "  return f-m*(w/(1-m**2))**.5\n",
        "#———————————————————————————————————————\n",
        "def limitPrice(tPos,pos,f,w,maxPos):\n",
        "  sgn=(1 if tPos>=pos else -1)\n",
        "  lP=0\n",
        "  for j in range(abs(pos+sgn),abs(tPos+1)):\n",
        "    lP+=invPrice(f,w,j/float(maxPos))\n",
        "  lP/=tPos-pos\n",
        "  return lP\n",
        "#———————————————————————————————————————\n",
        "def getW(x,m):\n",
        "  # 0<alpha<1\n",
        "  return (x**2)*((m**(-2))-1)\n",
        "#———————————————————————————————————————\n",
        "def main():\n",
        "  pos,maxPos,mP,f,wParams=0,100,100,115,{'divergence':10,'m':.95}\n",
        "  w=getW(wParams['divergence'],wParams['m']) # calibrate w\n",
        "  tPos=getTPos(w,f,mP,maxPos) # get tPos\n",
        "  lP=limitPrice(tPos,pos,f,w,maxPos) # limit price for order\n",
        "  return w, tPos, lP\n",
        "#———————————————————————————————————————\n",
        "if __name__=='__main__':main()\n"
      ],
      "execution_count": 0,
      "outputs": []
    },
    {
      "cell_type": "code",
      "metadata": {
        "id": "gjhxImp9qoTu",
        "colab_type": "code",
        "colab": {
          "base_uri": "https://localhost:8080/",
          "height": 34
        },
        "outputId": "7b1972af-894a-44b7-887f-4cd9f7bf7298"
      },
      "source": [
        "main()"
      ],
      "execution_count": 192,
      "outputs": [
        {
          "output_type": "execute_result",
          "data": {
            "text/plain": [
              "(10.803324099723, 97, 112.36573855883363)"
            ]
          },
          "metadata": {
            "tags": []
          },
          "execution_count": 192
        }
      ]
    },
    {
      "cell_type": "markdown",
      "metadata": {
        "id": "vpkYtrxTrxme",
        "colab_type": "text"
      },
      "source": [
        "Let us modify"
      ]
    },
    {
      "cell_type": "code",
      "metadata": {
        "id": "UsqDol5mo4Nm",
        "colab_type": "code",
        "colab": {}
      },
      "source": [
        "# New one\n",
        "\n",
        "def betSize(w,x):\n",
        "  return np.sign(x)*(np.abs(x)**w)\n",
        "#———————————————————————————————————————\n",
        "def getTPos(w,f,mP,maxPos):\n",
        "  return int(betSize(w,f-mP)*maxPos)\n",
        "#———————————————————————————————————————\n",
        "def invPrice(f,w,m):\n",
        "  return f-np.sign(m)*(np.abs(m)**(1/w))\n",
        "#———————————————————————————————————————\n",
        "def limitPrice(tPos,pos,f,w,maxPos):\n",
        "  sgn=(1 if tPos>=pos else -1)\n",
        "  lP=0\n",
        "  for j in range(abs(pos+sgn),abs(tPos+1)):\n",
        "    lP+=invPrice(f,w,j/float(maxPos))\n",
        "  lP/=tPos-pos\n",
        "  return lP\n",
        "#———————————————————————————————————————\n",
        "def getW(x,m):\n",
        "  # 0<alpha<1\n",
        "  return np.log(m/np.sign(x))/np.log(np.abs(x))\n",
        "#———————————————————————————————————————\n",
        "def main2():\n",
        "  pos,maxPos,mP,f,wParams=0,100,100,115,{'divergence':10,'m':.95}\n",
        "  w=getW(wParams['divergence'],wParams['m']) # calibrate w\n",
        "  tPos=getTPos(w,f,mP,maxPos) # get tPos\n",
        "  lP=limitPrice(tPos,pos,f,w,maxPos) # limit price for order\n",
        "  return w, tPos, lP\n",
        "#———————————————————————————————————————\n",
        "if __name__=='__main__':main()"
      ],
      "execution_count": 0,
      "outputs": []
    },
    {
      "cell_type": "code",
      "metadata": {
        "id": "Vhqz0pgprf4L",
        "colab_type": "code",
        "colab": {
          "base_uri": "https://localhost:8080/",
          "height": 34
        },
        "outputId": "04f92328-b99b-485f-bb9d-3e21f2bb43fb"
      },
      "source": [
        "main2()"
      ],
      "execution_count": 194,
      "outputs": [
        {
          "output_type": "execute_result",
          "data": {
            "text/plain": [
              "(-0.02227639471115225, 94, -6.426982348112109e+87)"
            ]
          },
          "metadata": {
            "tags": []
          },
          "execution_count": 194
        }
      ]
    },
    {
      "cell_type": "markdown",
      "metadata": {
        "id": "_o8fSFBBkQ9-",
        "colab_type": "text"
      },
      "source": [
        "# Trash bin"
      ]
    },
    {
      "cell_type": "code",
      "metadata": {
        "id": "AX9asfJ6_A4Y",
        "colab_type": "code",
        "colab": {}
      },
      "source": [
        "# meta-labeling을 불러오자.\n",
        "\n",
        "#from google.colab import drive\n",
        "#drive.mount('/content/drive')"
      ],
      "execution_count": 0,
      "outputs": []
    },
    {
      "cell_type": "code",
      "metadata": {
        "id": "oujEnUWv_KHj",
        "colab_type": "code",
        "outputId": "c3539eda-5cc8-4355-84e4-6d18745e4365",
        "colab": {
          "base_uri": "https://localhost:8080/",
          "height": 0
        }
      },
      "source": [
        "'''\n",
        "!pip install -q mlfinlab\n",
        "from mlfinlab import data_structures, features, filters, labeling\n",
        "\n",
        "#달러 바 만들기 (close)\n",
        "raw_dollar_bars = data_structures.get_dollar_bars('/content/drive/My Drive/Colab Notebooks/csv/clean_IVE_tickbidask2.csv', threshold=1000000)\n",
        "\n",
        "dollar_bars = raw_dollar_bars.set_index(pd.to_datetime(raw_dollar_bars.date_time))\n",
        "dollar_bars = dollar_bars.drop(columns='date_time')\n",
        "dollar_bars = dollar_bars.reset_index().drop_duplicates(subset='date_time', keep='last').set_index('date_time')\n",
        "close = dollar_bars.close\n",
        "\n",
        "#Horizontal barrier (pt_sl)\n",
        "pt_sl = [1,1]\n",
        "\n",
        "#barrier target (target)\n",
        "def getDailyVol(close,span0=100):\n",
        "    # daily vol reindexed to close\n",
        "    df0=close.index.searchsorted(close.index-pd.Timedelta(days=1))\n",
        "    #bp()\n",
        "    df0=df0[df0>0]\n",
        "    #bp()\n",
        "    df0=(pd.Series(close.index[df0-1],\n",
        "                   index=close.index[close.shape[0]-df0.shape[0]:]))\n",
        "    #bp()\n",
        "    try:\n",
        "        df0=close.loc[df0.index]/close.loc[df0.values].values-1 # daily rets\n",
        "    except Exception as e:\n",
        "        print(e)\n",
        "        print('adjusting shape of close.loc[df0.index]')\n",
        "        cut = close.loc[df0.index].shape[0] - close.loc[df0.values].shape[0]\n",
        "        df0=close.loc[df0.index].iloc[:-cut]/close.loc[df0.values].values-1\n",
        "    df0=df0.ewm(span=span0).std().rename('dailyVol')\n",
        "    return df0\n",
        "\n",
        "target = getDailyVol(close)\n",
        "\n",
        "#t_events\n",
        "h = target.mean()\n",
        "t_events = filters.cusum_filter(close,h)\n",
        "\n",
        "#vertical_barrier\n",
        "vertical_barrier = labeling.add_vertical_barrier(t_events,close,num_days=1)\n",
        "\n",
        "#side 정하기\n",
        "fast_window = 3\n",
        "slow_window = 6\n",
        "close_df = (pd.DataFrame()\n",
        "            .assign(price=close)\n",
        "            .assign(fast=close.ewm(fast_window).mean())\n",
        "            .assign(slow=close.ewm(slow_window).mean()))\n",
        "def get_up_cross(df):\n",
        "    crit1 = df.fast.shift(1) < df.slow.shift(1)\n",
        "    crit2 = df.fast > df.slow\n",
        "    return df.fast[(crit1) & (crit2)]\n",
        "def get_down_cross(df):\n",
        "    crit1 = df.fast.shift(1) > df.slow.shift(1)\n",
        "    crit2 = df.fast < df.slow\n",
        "    return df.fast[(crit1) & (crit2)]\n",
        "\n",
        "up = get_up_cross(close_df)\n",
        "down = get_down_cross(close_df)\n",
        "\n",
        "side_up = pd.Series(1, index=up.index)\n",
        "side_down = pd.Series(-1, index=down.index)\n",
        "side = pd.concat([side_up,side_down]).sort_index()\n",
        "\n",
        "# Get Events\n",
        "events = labeling.get_events(close, t_events, pt_sl, target, min_ret=0.01, num_threads=1 , vertical_barrier_times=vertical_barrier, side_prediction=side )\n",
        "'''"
      ],
      "execution_count": 196,
      "outputs": [
        {
          "output_type": "execute_result",
          "data": {
            "text/plain": [
              "\"\\n!pip install -q mlfinlab\\nfrom mlfinlab import data_structures, features, filters, labeling\\n\\n#달러 바 만들기 (close)\\nraw_dollar_bars = data_structures.get_dollar_bars('/content/drive/My Drive/Colab Notebooks/csv/clean_IVE_tickbidask2.csv', threshold=1000000)\\n\\ndollar_bars = raw_dollar_bars.set_index(pd.to_datetime(raw_dollar_bars.date_time))\\ndollar_bars = dollar_bars.drop(columns='date_time')\\ndollar_bars = dollar_bars.reset_index().drop_duplicates(subset='date_time', keep='last').set_index('date_time')\\nclose = dollar_bars.close\\n\\n#Horizontal barrier (pt_sl)\\npt_sl = [1,1]\\n\\n#barrier target (target)\\ndef getDailyVol(close,span0=100):\\n    # daily vol reindexed to close\\n    df0=close.index.searchsorted(close.index-pd.Timedelta(days=1))\\n    #bp()\\n    df0=df0[df0>0]\\n    #bp()\\n    df0=(pd.Series(close.index[df0-1],\\n                   index=close.index[close.shape[0]-df0.shape[0]:]))\\n    #bp()\\n    try:\\n        df0=close.loc[df0.index]/close.loc[df0.values].values-1 # daily rets\\n    except Exception as e:\\n        print(e)\\n        print('adjusting shape of close.loc[df0.index]')\\n        cut = close.loc[df0.index].shape[0] - close.loc[df0.values].shape[0]\\n        df0=close.loc[df0.index].iloc[:-cut]/close.loc[df0.values].values-1\\n    df0=df0.ewm(span=span0).std().rename('dailyVol')\\n    return df0\\n\\ntarget = getDailyVol(close)\\n\\n#t_events\\nh = target.mean()\\nt_events = filters.cusum_filter(close,h)\\n\\n#vertical_barrier\\nvertical_barrier = labeling.add_vertical_barrier(t_events,close,num_days=1)\\n\\n#side 정하기\\nfast_window = 3\\nslow_window = 6\\nclose_df = (pd.DataFrame()\\n            .assign(price=close)\\n            .assign(fast=close.ewm(fast_window).mean())\\n            .assign(slow=close.ewm(slow_window).mean()))\\ndef get_up_cross(df):\\n    crit1 = df.fast.shift(1) < df.slow.shift(1)\\n    crit2 = df.fast > df.slow\\n    return df.fast[(crit1) & (crit2)]\\ndef get_down_cross(df):\\n    crit1 = df.fast.shift(1) > df.slow.shift(1)\\n    crit2 = df.fast < df.slow\\n    return df.fast[(crit1) & (crit2)]\\n\\nup = get_up_cross(close_df)\\ndown = get_down_cross(close_df)\\n\\nside_up = pd.Series(1, index=up.index)\\nside_down = pd.Series(-1, index=down.index)\\nside = pd.concat([side_up,side_down]).sort_index()\\n\\n# Get Events\\nevents = labeling.get_events(close, t_events, pt_sl, target, min_ret=0.01, num_threads=1 , vertical_barrier_times=vertical_barrier, side_prediction=side )\\n\""
            ]
          },
          "metadata": {
            "tags": []
          },
          "execution_count": 196
        }
      ]
    }
  ]
}