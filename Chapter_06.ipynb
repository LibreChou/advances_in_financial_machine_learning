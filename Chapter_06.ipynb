{
  "nbformat": 4,
  "nbformat_minor": 0,
  "metadata": {
    "colab": {
      "name": "Chapter_06.ipynb",
      "provenance": [],
      "collapsed_sections": [
        "Dgqjd0nA7qcJ",
        "KTsRQDu0LTIL",
        "XnnenytzPfc4",
        "PpsqrcJRVW7v",
        "qKFW2xWkdTYu",
        "AWoT_NGHKAKY"
      ],
      "include_colab_link": true
    },
    "kernelspec": {
      "name": "python3",
      "display_name": "Python 3"
    },
    "accelerator": "GPU"
  },
  "cells": [
    {
      "cell_type": "markdown",
      "metadata": {
        "id": "view-in-github",
        "colab_type": "text"
      },
      "source": [
        "<a href=\"https://colab.research.google.com/github/jo-cho/advances_in_financial_machine_learning/blob/master/Chapter_06.ipynb\" target=\"_parent\"><img src=\"https://colab.research.google.com/assets/colab-badge.svg\" alt=\"Open In Colab\"/></a>"
      ]
    },
    {
      "cell_type": "markdown",
      "metadata": {
        "id": "08JXsQe161rv",
        "colab_type": "text"
      },
      "source": [
        "<< Exercises >>"
      ]
    },
    {
      "cell_type": "code",
      "metadata": {
        "id": "TC0GH_Gm7CcV",
        "colab_type": "code",
        "colab": {}
      },
      "source": [
        "import numpy as np\n",
        "import pandas as pd\n",
        "import matplotlib.pyplot as plt\n",
        "import seaborn as sns; sns.set()"
      ],
      "execution_count": 0,
      "outputs": []
    },
    {
      "cell_type": "markdown",
      "metadata": {
        "id": "Dgqjd0nA7qcJ",
        "colab_type": "text"
      },
      "source": [
        "## 1. \n",
        "Why is bagging based on random sampling with replacement? Would bagging still reduce a forecast’s variance if sampling were without replacement?"
      ]
    },
    {
      "cell_type": "markdown",
      "metadata": {
        "id": "hwCusfKhIY7X",
        "colab_type": "text"
      },
      "source": [
        "--------\n",
        "### What is bagging?\n",
        "\n",
        "Given a standard training set $D$ of size n, bagging generates m new training sets $D_{i}$, each of size n′, by sampling from $D$ uniformly and with replacement.\n",
        "\n",
        "By sampling with replacement, some observations may be repeated in each $D_{i}$. If $n′=n$, then for large n the set $D_{i}$ is expected to have the fraction $(1 - 1/e) (≈63.2%)$ of the unique examples of $D$, the rest being duplicates.\n",
        "\n",
        "This kind of sample is known as a bootstrap sample. Then, m models are fitted using the above m bootstrap samples and combined by averaging the output (for regression) or voting (for classification)\n",
        "\n",
        "---------\n",
        "### Why replacement?\n",
        "\n",
        "Think of bias and variance as the two components of error of a classifier. Informally, the variance of a classifier is “given a different sample of training data, how much will my classifier’s performance be affected”, and bias is “for a given training set, how well does the classifier generalize over unseen examples.”\n",
        "\n",
        "The same theoretical property is not true if you sample without replacement, because sampling without replacement would lead to pretty high variance. (overfit)"
      ]
    },
    {
      "cell_type": "markdown",
      "metadata": {
        "id": "KTsRQDu0LTIL",
        "colab_type": "text"
      },
      "source": [
        "## 2.\n",
        "Suppose that your training set is based on highly overlap labels (i.e., with low\n",
        "uniqueness, as defined in Chapter 4).\n",
        "\n",
        "(a) Does this make bagging prone to overfitting, or just ineffective? Why?\n",
        "\n",
        "(b) Is out-of-bag accuracy generally reliable in financial applications? Why?\n",
        "\n",
        "-----------\n",
        "### Higly overlap labels vs. Bagging\n"
      ]
    },
    {
      "cell_type": "markdown",
      "metadata": {
        "id": "KYPkkt_Yffld",
        "colab_type": "text"
      },
      "source": [
        "(In Chapter 4),\n",
        "\n",
        "When sampling with replacement (bootstrap), it becomes increasingly likely that in-bag observations will be (1) redundant to each other, and (2) very similar to out-of-bag observations.\n",
        "\n",
        "Redundancy of draws makes the bootstrap inefficient. For example, in the case of a random forest, all trees in the forest will essentially be very similar copies of a single overfit decision tree. And because the random sampling makes out-of-bag examples very similar to the in-bag ones, out-of-bag accuracy will be grossly inflated."
      ]
    },
    {
      "cell_type": "markdown",
      "metadata": {
        "id": "XnnenytzPfc4",
        "colab_type": "text"
      },
      "source": [
        "## 3.\n",
        "\n",
        "Build an ensemble of estimators, where the base estimator is a decision tree.\n",
        "\n",
        "(a) How is this ensemble different from an RF?\n",
        "\n",
        "(b) Using sklearn, produce a bagging classifier that behaves like an RF. What\n",
        "parameters did you have to set up, and how?\n",
        "\n",
        "----------------\n",
        "## Ensemble of estimators (base = a decision tree) vs. Random Forest"
      ]
    },
    {
      "cell_type": "code",
      "metadata": {
        "id": "WsjCVdGqQda3",
        "colab_type": "code",
        "colab": {}
      },
      "source": [
        "from sklearn.datasets import make_classification #examples\n",
        "from sklearn.tree import DecisionTreeClassifier\n",
        "from sklearn.ensemble import BaggingClassifier\n",
        "from sklearn.ensemble import RandomForestClassifier"
      ],
      "execution_count": 0,
      "outputs": []
    },
    {
      "cell_type": "code",
      "metadata": {
        "id": "vtLn3T4SQpTa",
        "colab_type": "code",
        "colab": {}
      },
      "source": [
        "X, y  = make_classification(random_state=1)"
      ],
      "execution_count": 0,
      "outputs": []
    },
    {
      "cell_type": "code",
      "metadata": {
        "id": "lnW_EVgOQq-V",
        "colab_type": "code",
        "colab": {}
      },
      "source": [
        "# 전자\n",
        "\n",
        "clf1 = BaggingClassifier(base_estimator=DecisionTreeClassifier(), oob_score=True)\n",
        "\n",
        "# 후자 (RF)\n",
        "\n",
        "clf2 = RandomForestClassifier(oob_score=True, random_state=1)"
      ],
      "execution_count": 0,
      "outputs": []
    },
    {
      "cell_type": "code",
      "metadata": {
        "id": "AWfC32wMREFJ",
        "colab_type": "code",
        "colab": {
          "base_uri": "https://localhost:8080/",
          "height": 88
        },
        "outputId": "a566b9f3-1f96-48e4-c361-449900c919ed"
      },
      "source": [
        "clf1.fit(X,y)\n",
        "clf2.fit(X,y)\n",
        "\n",
        "print( clf1.oob_score_, 'vs', clf2.oob_score_)"
      ],
      "execution_count": 25,
      "outputs": [
        {
          "output_type": "stream",
          "text": [
            "0.96 vs 0.91\n"
          ],
          "name": "stdout"
        },
        {
          "output_type": "stream",
          "text": [
            "/usr/local/lib/python3.6/dist-packages/sklearn/ensemble/forest.py:245: FutureWarning: The default value of n_estimators will change from 10 in version 0.20 to 100 in 0.22.\n",
            "  \"10 in version 0.20 to 100 in 0.22.\", FutureWarning)\n"
          ],
          "name": "stderr"
        }
      ]
    },
    {
      "cell_type": "markdown",
      "metadata": {
        "id": "z3p0pAIFSSdj",
        "colab_type": "text"
      },
      "source": [
        "------------------\n",
        "RF shares some similarities with bagging, in the sense of training independently\n",
        "individual estimators over bootstrapped subsets of the data. \n",
        "\n",
        "**The key difference with bagging is that random forests incorporate a second level of randomness**: When optimizing each node split, only a random subsample (without replacement) of the attributes will be evaluated, with the purpose of further decorrelating the estimators.\n",
        "\n",
        "---------\n",
        "-Advantages of RF\n",
        "\n",
        "Like bagging, RF reduces forecasts’ variance without overfitting (remember, as\n",
        "long as 𝜌̄ < 1). A second advantage is that RF evaluates feature importance, which\n",
        "we will discuss in depth in Chapter 8.A third advantage is that RF provides out-of-bag\n",
        "accuracy estimates, however in financial applications they are likely to be inflated (as\n",
        "discussed in Section 6.3.3). But like bagging, RF will not necessarily exhibit lower\n",
        "bias than individual decision trees.\n",
        "\n",
        "------------\n",
        "Unlike bagging, RF always fixes the size of the bootstrapped\n",
        "samples to match the size of the training dataset."
      ]
    },
    {
      "cell_type": "code",
      "metadata": {
        "id": "pTphexIXSQGw",
        "colab_type": "code",
        "colab": {}
      },
      "source": [
        "# Make it smae as RF\n",
        "## the key difference is split it radomly!\n",
        "\n",
        "clf3 = BaggingClassifier(base_estimator=DecisionTreeClassifier(splitter='random'), oob_score=True, random_state=1)"
      ],
      "execution_count": 0,
      "outputs": []
    },
    {
      "cell_type": "code",
      "metadata": {
        "id": "b-2BwpTlU1sP",
        "colab_type": "code",
        "colab": {
          "base_uri": "https://localhost:8080/",
          "height": 34
        },
        "outputId": "9882a03a-7e4a-4070-ebdf-5f71510bccfc"
      },
      "source": [
        "clf3.fit(X,y)\n",
        "\n",
        "print( clf2.oob_score_, 'vs', clf3.oob_score_)"
      ],
      "execution_count": 26,
      "outputs": [
        {
          "output_type": "stream",
          "text": [
            "0.91 vs 0.95\n"
          ],
          "name": "stdout"
        }
      ]
    },
    {
      "cell_type": "markdown",
      "metadata": {
        "id": "PpsqrcJRVW7v",
        "colab_type": "text"
      },
      "source": [
        "## 4.\n",
        "Consider the relation between an RF, the number of trees it is composed of, and\n",
        "the number of features utilized:\n",
        "\n",
        "(a) Could you envision a relation between the minimum number of trees needed\n",
        "in an RF and the number of features utilized?\n",
        "\n",
        "(b) Could the number of trees be too small for the number of features used?\n",
        "\n",
        "(c) Could the number of trees be too high for the number of observations available?\n",
        "\n",
        "--------------------\n",
        "## RF. number of features(dimensionality) vs. number of trees vs. number of observations available\n"
      ]
    },
    {
      "cell_type": "markdown",
      "metadata": {
        "id": "Z0zxPL7zV-Bg",
        "colab_type": "text"
      },
      "source": [
        "In general, the more trees you use the better get the results. However, the improvement decreases as the number of trees increases, i.e. at a certain point the benefit in prediction performance from learning more trees will be lower than the cost in computation time for learning these additional trees.\n",
        "\n",
        " If the number of observations is large, but the number of trees is too small, then some observations will be predicted only once or even not at all. If the number of predictors is large but the number of trees is too small, then some features can (theoretically) be missed in all subspaces used. Both cases results in the decrease of random forest predictive power. But the last is a rather extreme case, since the selection of subspace is performed at each node"
      ]
    },
    {
      "cell_type": "markdown",
      "metadata": {
        "id": "7C4mz1Nealx3",
        "colab_type": "text"
      },
      "source": [
        "\"... Hence, the convergence rate of the error rate\n",
        "curve is not directly dependent on the number of observations n or the number of features,\n",
        "but these characteristics could influence the empirical distribution of the εi\n",
        "’s and hence\n",
        "possibly the convergence rate as outlined in Section 4.3.1.\""
      ]
    },
    {
      "cell_type": "code",
      "metadata": {
        "id": "aSI7S3HyKAvs",
        "colab_type": "code",
        "colab": {
          "base_uri": "https://localhost:8080/",
          "height": 384
        },
        "outputId": "2ac3bda1-49b2-4435-af67-07423d074ab6"
      },
      "source": [
        "from PIL import Image\n",
        "Image.open('/content/ZGAzA.png')"
      ],
      "execution_count": 30,
      "outputs": [
        {
          "output_type": "execute_result",
          "data": {
            "image/png": "[encoded data removed]",
            "text/plain": [
              "<PIL.PngImagePlugin.PngImageFile image mode=RGBA size=526x367 at 0x7FC2737009B0>"
            ]
          },
          "metadata": {
            "tags": []
          },
          "execution_count": 30
        }
      ]
    },
    {
      "cell_type": "markdown",
      "metadata": {
        "id": "BNf_FWqVcYAr",
        "colab_type": "text"
      },
      "source": [
        "max_samples : avg uniqness\n",
        "\n",
        "max_features : PCA..or whaterver "
      ]
    },
    {
      "cell_type": "markdown",
      "metadata": {
        "id": "qKFW2xWkdTYu",
        "colab_type": "text"
      },
      "source": [
        "## 5. \n",
        "How is out-of-bag accuracy different from stratified k-fold (with shuffling) crossvalidation accuracy? \n",
        "\n",
        "-------------"
      ]
    },
    {
      "cell_type": "markdown",
      "metadata": {
        "id": "YKYYRkGdfu29",
        "colab_type": "text"
      },
      "source": [
        " The out-of-bag error is an error estimation technique often used to evaluate the accuracy of a random forest and to select appropriate values for tuning parameters"
      ]
    },
    {
      "cell_type": "markdown",
      "metadata": {
        "id": "Bdkj2JkhfvmJ",
        "colab_type": "text"
      },
      "source": [
        "However, for binary classification problems with metric predictors it has been shown that the out-of-bag error can overestimate the true prediction error depending on the choices of random forests parameters."
      ]
    },
    {
      "cell_type": "markdown",
      "metadata": {
        "id": "njfxSDGsddem",
        "colab_type": "text"
      },
      "source": [
        "https://towardsdatascience.com/what-is-out-of-bag-oob-score-in-random-forest-a7fa23d710"
      ]
    },
    {
      "cell_type": "markdown",
      "metadata": {
        "id": "LzpGJjfKfJ54",
        "colab_type": "text"
      },
      "source": [
        "As compared to the validation score OOB score is computed on data that was not necessarily used in the analysis of the model. Whereas for calculation validation score, a part of the original training dataset is actually set aside before training the models. Additionally, the OOB score is calculated using only a subset of DTs not containing the OOB sample in their bootstrap training dataset. While the validation score is calculated using all the DTs of the ensemble."
      ]
    },
    {
      "cell_type": "markdown",
      "metadata": {
        "id": "AWoT_NGHKAKY",
        "colab_type": "text"
      },
      "source": [
        "#참고"
      ]
    },
    {
      "cell_type": "markdown",
      "metadata": {
        "id": "UrhfcWv7gDFt",
        "colab_type": "text"
      },
      "source": [
        "\n",
        "### 1.\n",
        "\n",
        "https://en.wikipedia.org/wiki/Bootstrap_aggregating\n",
        "\n",
        "https://www.quora.com/Why-does-random-forest-use-sampling-with-replacement-instead-of-without-replacement\n",
        "\n",
        "### 2,3.  \n",
        "The book\n",
        "\n",
        "### 4.\n",
        "\n",
        "Probst, Philipp, and Anne-Laure Boulesteix. \"To Tune or Not to Tune the Number of Trees in Random Forest.\" Journal of Machine Learning Research 18 (2017): 181-1.\n",
        "\n",
        "https://stats.stackexchange.com/questions/36165/does-the-optimal-number-of-trees-in-a-random-forest-depend-on-the-number-of-pred/36183\n",
        "\n",
        "https://www.researchgate.net/post/How_to_determine_the_number_of_trees_to_be_generated_in_Random_Forest_algorithm\n",
        "\n",
        "### 5.\n",
        "\n",
        "https://towardsdatascience.com/what-is-out-of-bag-oob-score-in-random-forest-a7fa23d710\n",
        "\n",
        "https://journals.plos.org/plosone/article?id=10.1371/journal.pone.0201904"
      ]
    }
  ]
}